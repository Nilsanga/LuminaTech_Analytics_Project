{
 "cells": [
  {
   "cell_type": "code",
   "execution_count": 2,
   "metadata": {},
   "outputs": [],
   "source": [
    "# import lib\n",
    "import numpy as np\n",
    "import pandas as pd\n",
    "from matplotlib import pyplot as plt \n",
    "import seaborn as sns\n",
    "import warnings\n",
    "warnings.filterwarnings('ignore')"
   ]
  },
  {
   "cell_type": "code",
   "execution_count": 3,
   "metadata": {},
   "outputs": [],
   "source": [
    "df_2012 = pd.read_csv('../data/raw/2012_Data.csv', encoding='latin1', low_memory=False)\n",
    "df_2013 = pd.read_csv('../data/raw/2013_Data.csv', encoding='latin1', low_memory=False)"
   ]
  },
  {
   "cell_type": "code",
   "execution_count": 4,
   "metadata": {},
   "outputs": [
    {
     "name": "stdout",
     "output_type": "stream",
     "text": [
      "<class 'pandas.core.frame.DataFrame'>\n",
      "RangeIndex: 1988382 entries, 0 to 1988381\n",
      "Data columns (total 41 columns):\n",
      " #   Column                    Dtype  \n",
      "---  ------                    -----  \n",
      " 0   accounting_date           int64  \n",
      " 1   fiscal_year               int64  \n",
      " 2   fiscal_month              int64  \n",
      " 3   calendar_year             int64  \n",
      " 4   calendar_month            int64  \n",
      " 5   calendar_day              int64  \n",
      " 6   company_code              int64  \n",
      " 7   customer_code             object \n",
      " 8   customer_district_code    int64  \n",
      " 9   item_code                 object \n",
      " 10  business_area_code        object \n",
      " 11  item_group_code           object \n",
      " 12  item_class_code           object \n",
      " 13  item_type                 int64  \n",
      " 14  bonus_group_code          object \n",
      " 15  environment_group_code    object \n",
      " 16  technology_group_code     object \n",
      " 17  commission_group_code     object \n",
      " 18  reporting_classification  object \n",
      " 19  light_source              object \n",
      " 20  warehouse_code            object \n",
      " 21  abc_class_code            object \n",
      " 22  abc_class_volume          object \n",
      " 23  business_chain_l1_code    object \n",
      " 24  business_chain_l1_name    object \n",
      " 25  contact_method_code       object \n",
      " 26  salesperson_code          object \n",
      " 27  order_type_code           object \n",
      " 28  market_segment            object \n",
      " 29  value_sales               float64\n",
      " 30  value_cost                float64\n",
      " 31  value_quantity            float64\n",
      " 32  value_price_adjustment    int64  \n",
      " 33  currency                  object \n",
      " 34  item_source_class         float64\n",
      " 35  invoice_number            int64  \n",
      " 36  line_number               int64  \n",
      " 37  invoice_date              int64  \n",
      " 38  customer_order_number     object \n",
      " 39  order_date                int64  \n",
      " 40  dss_update_time           object \n",
      "dtypes: float64(4), int64(14), object(23)\n",
      "memory usage: 622.0+ MB\n"
     ]
    }
   ],
   "source": [
    "# Concatenate the two DataFrames\n",
    "merged_data = pd.concat([df_2012, df_2013], ignore_index=True)\n",
    "\n",
    "# Display the first few rows of the merged data\n",
    "merged_data.info()"
   ]
  },
  {
   "cell_type": "markdown",
   "metadata": {},
   "source": [
    "# Data Cleaning"
   ]
  },
  {
   "cell_type": "markdown",
   "metadata": {},
   "source": [
    "1. Handling Missing Values\n",
    "- Identifying Missing Data: Determine where missing values occur and why (e.g., data entry errors, collection issues).\n",
    "- Strategies for Handling Missing Data:\n",
    "    - Removal: Drop rows or columns with excessive missing values if they don’t significantly affect the analysis.\n",
    "    - Imputation: Replace missing values using techniques like mean, median, mode, or more sophisticated methods (e.g., regression or k-nearest neighbors).\n",
    "2. Correcting Inconsistent Data\n",
    "- Fix inconsistencies in data entries (e.g., different formats for the same value, such as \"USA\" and \"United States\").\n",
    "- Standardize formats for dates, phone numbers, and other data types.\n",
    "3. Removing Duplicates\n",
    "- Identify and remove duplicate records, which can skew analysis results and lead to incorrect conclusions.\n",
    "4. Handling Outliers\n",
    "- Outliers can distort analysis, especially in statistical modeling. Identify them using visualization techniques (e.g., boxplots).\n",
    "- Decide whether to remove, transform, or keep outliers based on the context and goals of the analysis.\n",
    "5. Data Type Conversion\n",
    "- Ensure that each column has the appropriate data type (e.g., numeric, categorical, datetime).\n",
    "- Convert data types if needed (e.g., parsing date strings into datetime objects).\n",
    "6. Normalization and Scaling\n",
    "- Normalization: Rescale numerical data to fit within a particular range, often [0, 1].\n",
    "- Standardization: Adjust the data to have a mean of zero and a standard deviation of one, which is important for certain machine learning algorithms.\n",
    "7. Handling Categorical Variables\n",
    "- Convert categorical variables to numeric form if required for analysis (e.g., one-hot encoding).\n",
    "- Combine similar categories to reduce complexity (e.g., grouping rare categories together).\n",
    "8. Feature Engineering\n",
    "- Creating New Features: Generate new variables based on existing ones to capture additional insights.\n",
    "- Dropping Irrelevant Features: Remove features that do not add value or are highly correlated, to avoid multicollinearity.\n",
    "9. Text Cleaning (for Textual Data)\n",
    "- For textual data, cleaning involves removing punctuation, converting to lowercase, removing stopwords, and stemming or lemmatizing words to bring them to their root form."
   ]
  },
  {
   "cell_type": "markdown",
   "metadata": {},
   "source": [
    "## 1. Handling Missing Values\n",
    "- Identifying Missing Data: Determine where missing values occur and why (e.g., data entry errors, collection issues).\n",
    "- Strategies for Handling Missing Data:\n",
    "    - Removal: Drop rows or columns with excessive missing values if they don’t significantly affect the analysis.\n",
    "    - Imputation: Replace missing values using techniques like mean, median, mode, or more sophisticated methods (e.g., regression or k-nearest neighbors)."
   ]
  },
  {
   "cell_type": "code",
   "execution_count": 8,
   "metadata": {},
   "outputs": [
    {
     "data": {
      "text/plain": [
       "(1988382, 41)"
      ]
     },
     "execution_count": 8,
     "metadata": {},
     "output_type": "execute_result"
    }
   ],
   "source": [
    "# check the length of data and rows.\n",
    "merged_data.shape"
   ]
  },
  {
   "cell_type": "code",
   "execution_count": 9,
   "metadata": {},
   "outputs": [
    {
     "data": {
      "text/plain": [
       "accounting_date                   0\n",
       "fiscal_year                       0\n",
       "fiscal_month                      0\n",
       "calendar_year                     0\n",
       "calendar_month                    0\n",
       "calendar_day                      0\n",
       "company_code                      0\n",
       "customer_code                     0\n",
       "customer_district_code            0\n",
       "item_code                         0\n",
       "business_area_code                0\n",
       "item_group_code                   0\n",
       "item_class_code                   0\n",
       "item_type                         0\n",
       "bonus_group_code                  0\n",
       "environment_group_code            0\n",
       "technology_group_code             0\n",
       "commission_group_code             0\n",
       "reporting_classification          0\n",
       "light_source                      0\n",
       "warehouse_code                    0\n",
       "abc_class_code                    0\n",
       "abc_class_volume                  0\n",
       "business_chain_l1_code            0\n",
       "business_chain_l1_name            0\n",
       "contact_method_code               0\n",
       "salesperson_code                  0\n",
       "order_type_code                   0\n",
       "market_segment                    0\n",
       "value_sales                       0\n",
       "value_cost                        0\n",
       "value_quantity                    0\n",
       "value_price_adjustment            0\n",
       "currency                          0\n",
       "item_source_class           1988382\n",
       "invoice_number                    0\n",
       "line_number                       0\n",
       "invoice_date                      0\n",
       "customer_order_number             0\n",
       "order_date                        0\n",
       "dss_update_time                   0\n",
       "dtype: int64"
      ]
     },
     "execution_count": 9,
     "metadata": {},
     "output_type": "execute_result"
    }
   ],
   "source": [
    "# indentifying the null values.\n",
    "merged_data.isnull().sum()"
   ]
  },
  {
   "cell_type": "markdown",
   "metadata": {},
   "source": [
    "The null values are shown in column 'item_source_class', which is 1,988,382, the same as the normal data length. This means this column does not use, so we decided to remove  it."
   ]
  },
  {
   "cell_type": "code",
   "execution_count": 11,
   "metadata": {},
   "outputs": [],
   "source": [
    "# remove null values.\n",
    "merged_data.drop('item_source_class', axis=1, inplace=True)"
   ]
  },
  {
   "cell_type": "code",
   "execution_count": 12,
   "metadata": {},
   "outputs": [
    {
     "data": {
      "text/plain": [
       "accounting_date             0\n",
       "fiscal_year                 0\n",
       "fiscal_month                0\n",
       "calendar_year               0\n",
       "calendar_month              0\n",
       "calendar_day                0\n",
       "company_code                0\n",
       "customer_code               0\n",
       "customer_district_code      0\n",
       "item_code                   0\n",
       "business_area_code          0\n",
       "item_group_code             0\n",
       "item_class_code             0\n",
       "item_type                   0\n",
       "bonus_group_code            0\n",
       "environment_group_code      0\n",
       "technology_group_code       0\n",
       "commission_group_code       0\n",
       "reporting_classification    0\n",
       "light_source                0\n",
       "warehouse_code              0\n",
       "abc_class_code              0\n",
       "abc_class_volume            0\n",
       "business_chain_l1_code      0\n",
       "business_chain_l1_name      0\n",
       "contact_method_code         0\n",
       "salesperson_code            0\n",
       "order_type_code             0\n",
       "market_segment              0\n",
       "value_sales                 0\n",
       "value_cost                  0\n",
       "value_quantity              0\n",
       "value_price_adjustment      0\n",
       "currency                    0\n",
       "invoice_number              0\n",
       "line_number                 0\n",
       "invoice_date                0\n",
       "customer_order_number       0\n",
       "order_date                  0\n",
       "dss_update_time             0\n",
       "dtype: int64"
      ]
     },
     "execution_count": 12,
     "metadata": {},
     "output_type": "execute_result"
    }
   ],
   "source": [
    "# recheck null value after remove\n",
    "merged_data.isnull().sum()"
   ]
  },
  {
   "cell_type": "markdown",
   "metadata": {},
   "source": [
    "We expected that each row in each column would be unique, as each row represents a specific order item from a customer. If there are duplicate rows in any column, it could indicate an issue with data accuracy."
   ]
  },
  {
   "cell_type": "code",
   "execution_count": 14,
   "metadata": {},
   "outputs": [
    {
     "data": {
      "text/plain": [
       "(1988382, 40)"
      ]
     },
     "execution_count": 14,
     "metadata": {},
     "output_type": "execute_result"
    }
   ],
   "source": [
    "# check the length of data and rows.\n",
    "merged_data.shape"
   ]
  },
  {
   "cell_type": "markdown",
   "metadata": {},
   "source": [
    "## 2. Correcting Inconsistent Data\n",
    "- Fix inconsistencies in data entries (e.g., different formats for the same value, such as \"USA\" and \"United States\").\n",
    "- Standardize formats for dates, phone numbers, and other data types."
   ]
  },
  {
   "cell_type": "markdown",
   "metadata": {},
   "source": [
    "First, we want to check whether the accounting date, fiscal year, and calendar year are consistent. However, the accounting date is not in the same standardised format as the others, so we will convert it to match the same format before checking consistency."
   ]
  },
  {
   "cell_type": "code",
   "execution_count": 17,
   "metadata": {},
   "outputs": [
    {
     "data": {
      "text/html": [
       "<div>\n",
       "<style scoped>\n",
       "    .dataframe tbody tr th:only-of-type {\n",
       "        vertical-align: middle;\n",
       "    }\n",
       "\n",
       "    .dataframe tbody tr th {\n",
       "        vertical-align: top;\n",
       "    }\n",
       "\n",
       "    .dataframe thead th {\n",
       "        text-align: right;\n",
       "    }\n",
       "</style>\n",
       "<table border=\"1\" class=\"dataframe\">\n",
       "  <thead>\n",
       "    <tr style=\"text-align: right;\">\n",
       "      <th></th>\n",
       "      <th>accounting_date</th>\n",
       "      <th>fiscal_year</th>\n",
       "      <th>fiscal_month</th>\n",
       "      <th>calendar_year</th>\n",
       "      <th>calendar_month</th>\n",
       "      <th>calendar_day</th>\n",
       "      <th>company_code</th>\n",
       "      <th>customer_code</th>\n",
       "      <th>customer_district_code</th>\n",
       "      <th>item_code</th>\n",
       "      <th>...</th>\n",
       "      <th>currency</th>\n",
       "      <th>invoice_number</th>\n",
       "      <th>line_number</th>\n",
       "      <th>invoice_date</th>\n",
       "      <th>customer_order_number</th>\n",
       "      <th>order_date</th>\n",
       "      <th>dss_update_time</th>\n",
       "      <th>accounting_year</th>\n",
       "      <th>accounting_month</th>\n",
       "      <th>accounting_day</th>\n",
       "    </tr>\n",
       "  </thead>\n",
       "  <tbody>\n",
       "    <tr>\n",
       "      <th>0</th>\n",
       "      <td>2012-05-09</td>\n",
       "      <td>2012</td>\n",
       "      <td>11</td>\n",
       "      <td>2012</td>\n",
       "      <td>5</td>\n",
       "      <td>9</td>\n",
       "      <td>101</td>\n",
       "      <td>411800601</td>\n",
       "      <td>410</td>\n",
       "      <td>GENIE8WWWBC</td>\n",
       "      <td>...</td>\n",
       "      <td>AUD</td>\n",
       "      <td>2217887</td>\n",
       "      <td>1</td>\n",
       "      <td>20120509</td>\n",
       "      <td>2865354</td>\n",
       "      <td>20120509</td>\n",
       "      <td>49:58.7</td>\n",
       "      <td>2012</td>\n",
       "      <td>5</td>\n",
       "      <td>9</td>\n",
       "    </tr>\n",
       "    <tr>\n",
       "      <th>1</th>\n",
       "      <td>2012-02-16</td>\n",
       "      <td>2012</td>\n",
       "      <td>8</td>\n",
       "      <td>2012</td>\n",
       "      <td>2</td>\n",
       "      <td>16</td>\n",
       "      <td>101</td>\n",
       "      <td>361000403</td>\n",
       "      <td>300</td>\n",
       "      <td>GENIE8WWWBC</td>\n",
       "      <td>...</td>\n",
       "      <td>AUD</td>\n",
       "      <td>2185745</td>\n",
       "      <td>1</td>\n",
       "      <td>20120216</td>\n",
       "      <td>2833515</td>\n",
       "      <td>20120216</td>\n",
       "      <td>49:58.7</td>\n",
       "      <td>2012</td>\n",
       "      <td>2</td>\n",
       "      <td>16</td>\n",
       "    </tr>\n",
       "    <tr>\n",
       "      <th>2</th>\n",
       "      <td>2012-05-09</td>\n",
       "      <td>2012</td>\n",
       "      <td>11</td>\n",
       "      <td>2012</td>\n",
       "      <td>5</td>\n",
       "      <td>9</td>\n",
       "      <td>101</td>\n",
       "      <td>361000403</td>\n",
       "      <td>300</td>\n",
       "      <td>GENIE8WWWBC</td>\n",
       "      <td>...</td>\n",
       "      <td>AUD</td>\n",
       "      <td>2217807</td>\n",
       "      <td>1</td>\n",
       "      <td>20120509</td>\n",
       "      <td>2864857</td>\n",
       "      <td>20120508</td>\n",
       "      <td>49:58.7</td>\n",
       "      <td>2012</td>\n",
       "      <td>5</td>\n",
       "      <td>9</td>\n",
       "    </tr>\n",
       "    <tr>\n",
       "      <th>3</th>\n",
       "      <td>2012-05-18</td>\n",
       "      <td>2012</td>\n",
       "      <td>11</td>\n",
       "      <td>2012</td>\n",
       "      <td>5</td>\n",
       "      <td>18</td>\n",
       "      <td>101</td>\n",
       "      <td>565540415</td>\n",
       "      <td>500</td>\n",
       "      <td>GENIE8WWWBC</td>\n",
       "      <td>...</td>\n",
       "      <td>AUD</td>\n",
       "      <td>2222758</td>\n",
       "      <td>1</td>\n",
       "      <td>20120518</td>\n",
       "      <td>2869759</td>\n",
       "      <td>20120518</td>\n",
       "      <td>49:58.7</td>\n",
       "      <td>2012</td>\n",
       "      <td>5</td>\n",
       "      <td>18</td>\n",
       "    </tr>\n",
       "    <tr>\n",
       "      <th>4</th>\n",
       "      <td>2012-01-09</td>\n",
       "      <td>2012</td>\n",
       "      <td>7</td>\n",
       "      <td>2012</td>\n",
       "      <td>1</td>\n",
       "      <td>9</td>\n",
       "      <td>101</td>\n",
       "      <td>565540415</td>\n",
       "      <td>500</td>\n",
       "      <td>GENIE8WWWBC</td>\n",
       "      <td>...</td>\n",
       "      <td>AUD</td>\n",
       "      <td>2170374</td>\n",
       "      <td>1</td>\n",
       "      <td>20120109</td>\n",
       "      <td>2819189</td>\n",
       "      <td>20120109</td>\n",
       "      <td>49:58.7</td>\n",
       "      <td>2012</td>\n",
       "      <td>1</td>\n",
       "      <td>9</td>\n",
       "    </tr>\n",
       "  </tbody>\n",
       "</table>\n",
       "<p>5 rows × 43 columns</p>\n",
       "</div>"
      ],
      "text/plain": [
       "  accounting_date  fiscal_year  fiscal_month  calendar_year  calendar_month  \\\n",
       "0      2012-05-09         2012            11           2012               5   \n",
       "1      2012-02-16         2012             8           2012               2   \n",
       "2      2012-05-09         2012            11           2012               5   \n",
       "3      2012-05-18         2012            11           2012               5   \n",
       "4      2012-01-09         2012             7           2012               1   \n",
       "\n",
       "   calendar_day  company_code customer_code  customer_district_code  \\\n",
       "0             9           101     411800601                     410   \n",
       "1            16           101     361000403                     300   \n",
       "2             9           101     361000403                     300   \n",
       "3            18           101     565540415                     500   \n",
       "4             9           101     565540415                     500   \n",
       "\n",
       "                        item_code  ... currency invoice_number line_number  \\\n",
       "0  GENIE8WWWBC                     ...      AUD        2217887           1   \n",
       "1  GENIE8WWWBC                     ...      AUD        2185745           1   \n",
       "2  GENIE8WWWBC                     ...      AUD        2217807           1   \n",
       "3  GENIE8WWWBC                     ...      AUD        2222758           1   \n",
       "4  GENIE8WWWBC                     ...      AUD        2170374           1   \n",
       "\n",
       "   invoice_date customer_order_number order_date dss_update_time  \\\n",
       "0      20120509               2865354   20120509         49:58.7   \n",
       "1      20120216               2833515   20120216         49:58.7   \n",
       "2      20120509               2864857   20120508         49:58.7   \n",
       "3      20120518               2869759   20120518         49:58.7   \n",
       "4      20120109               2819189   20120109         49:58.7   \n",
       "\n",
       "  accounting_year accounting_month accounting_day  \n",
       "0            2012                5              9  \n",
       "1            2012                2             16  \n",
       "2            2012                5              9  \n",
       "3            2012                5             18  \n",
       "4            2012                1              9  \n",
       "\n",
       "[5 rows x 43 columns]"
      ]
     },
     "execution_count": 17,
     "metadata": {},
     "output_type": "execute_result"
    }
   ],
   "source": [
    "# Convert 'accounting_date' to datetime format\n",
    "merged_data['accounting_date'] = pd.to_datetime(merged_data['accounting_date'], format='%Y%m%d')\n",
    "\n",
    "# Create separate columns for year, month, and day from the datetime object\n",
    "merged_data['accounting_year'] = merged_data['accounting_date'].dt.year\n",
    "merged_data['accounting_month'] = merged_data['accounting_date'].dt.month\n",
    "merged_data['accounting_day'] = merged_data['accounting_date'].dt.day\n",
    "\n",
    "# Display the first few rows to verify the results\n",
    "merged_data.head()"
   ]
  },
  {
   "cell_type": "markdown",
   "metadata": {},
   "source": [
    "Now, there are new columns: 'accounting_year', 'accounting_month', and 'accounting_day'. We will use these columns to check for consistency."
   ]
  },
  {
   "cell_type": "code",
   "execution_count": 19,
   "metadata": {},
   "outputs": [
    {
     "name": "stdout",
     "output_type": "stream",
     "text": [
      "Calendar Year: [2012, 2013]\n",
      "Calendar Month: [1, 2, 3, 4, 5, 6, 7, 8, 9, 10, 11, 12]\n",
      "Calendar Day: [1, 2, 3, 4, 5, 6, 7, 8, 9, 10, 11, 12, 13, 14, 15, 16, 17, 18, 19, 20, 21, 22, 23, 24, 25, 26, 27, 28, 29, 30, 31]\n",
      "\n",
      "\n",
      "Accounting Year: [2012, 2013]\n",
      "Accounting Month: [1, 2, 3, 4, 5, 6, 7, 8, 9, 10, 11, 12]\n",
      "Accounting Day: [1, 2, 3, 4, 5, 6, 7, 8, 9, 10, 11, 12, 13, 14, 15, 16, 17, 18, 19, 20, 21, 22, 23, 24, 25, 26, 27, 28, 29, 30, 31]\n"
     ]
    }
   ],
   "source": [
    "# Sort and print unique values in ascending order for calendar year, month, and day\n",
    "print(\"Calendar Year:\", sorted(merged_data['calendar_year'].unique()))\n",
    "print(\"Calendar Month:\", sorted(merged_data['calendar_month'].unique()))\n",
    "print(\"Calendar Day:\", sorted(merged_data['calendar_day'].unique()))\n",
    "\n",
    "print(\"\\n\")\n",
    "\n",
    "# Sort and print unique values in ascending order for accounting year, month, and day\n",
    "print(\"Accounting Year:\", sorted(merged_data['accounting_year'].unique()))\n",
    "print(\"Accounting Month:\", sorted(merged_data['accounting_month'].unique()))\n",
    "print(\"Accounting Day:\", sorted(merged_data['accounting_day'].unique()))\n"
   ]
  },
  {
   "cell_type": "markdown",
   "metadata": {},
   "source": [
    "The results show that the calendar column and the accounting column are consistent. Next, we will check the consistency between the fiscal column and the calendar column."
   ]
  },
  {
   "cell_type": "code",
   "execution_count": 21,
   "metadata": {},
   "outputs": [
    {
     "name": "stdout",
     "output_type": "stream",
     "text": [
      "Calendar Year: [2012, 2013]\n",
      "Calendar Month: [1, 2, 3, 4, 5, 6, 7, 8, 9, 10, 11, 12]\n",
      "\n",
      "\n",
      "Fisical Year: [2012, 2013, 2014]\n",
      "Fisical Month: [1, 2, 3, 4, 5, 6, 7, 8, 9, 10, 11, 12]\n"
     ]
    }
   ],
   "source": [
    "# Sort and print unique values in ascending order for calendar year and month\n",
    "print(\"Calendar Year:\", sorted(merged_data['calendar_year'].unique()))\n",
    "print(\"Calendar Month:\", sorted(merged_data['calendar_month'].unique()))\n",
    "\n",
    "print(\"\\n\")\n",
    "\n",
    "# Sort and print unique values in ascending order for fiscal year and month\n",
    "print(\"Fisical Year:\", sorted(merged_data['fiscal_year'].unique()))\n",
    "print(\"Fisical Month:\", sorted(merged_data['fiscal_month'].unique()))\n"
   ]
  },
  {
   "cell_type": "markdown",
   "metadata": {},
   "source": [
    "We observed that the fiscal year and month had unique patterns compared to others. Therefore, we examined the number of months within each fiscal year and identified the specific months for each year."
   ]
  },
  {
   "cell_type": "code",
   "execution_count": 23,
   "metadata": {},
   "outputs": [
    {
     "name": "stdout",
     "output_type": "stream",
     "text": [
      "fiscal_year\n",
      "2012                      [7, 8, 9, 10, 11, 12]\n",
      "2013    [1, 2, 3, 4, 5, 6, 7, 8, 9, 10, 11, 12]\n",
      "2014                         [1, 2, 3, 4, 5, 6]\n",
      "Name: fiscal_month, dtype: object\n"
     ]
    }
   ],
   "source": [
    "# Group by 'fiscal_year' and list all unique 'fiscal_month' for each year\n",
    "fiscal_months_per_year = merged_data.groupby('fiscal_year')['fiscal_month'].apply(lambda x: sorted(x.unique()))\n",
    "\n",
    "# Display the result\n",
    "print(fiscal_months_per_year)"
   ]
  },
  {
   "cell_type": "markdown",
   "metadata": {},
   "source": [
    "Upon review, we found that the fiscal year follows the financial calendar in Australia. This means that the fiscal year 2012 includes July to December 2012 and January to June 2013, while the fiscal year 2013 includes July to December 2013 and January to June 2014. In summary, the fiscal year is the same as the calendar and accounting year."
   ]
  },
  {
   "cell_type": "markdown",
   "metadata": {},
   "source": [
    "In the next step, we decided to fix inconsistencies in data entries for the following columns: 'order_type_code', 'abc_class_volume', 'abc_class_code', 'warehouse_code', 'environment_group_code', 'business_area_code', 'customer_district_code', and 'technology_group_code'."
   ]
  },
  {
   "cell_type": "markdown",
   "metadata": {},
   "source": [
    "- **order_type_code**"
   ]
  },
  {
   "cell_type": "code",
   "execution_count": 27,
   "metadata": {},
   "outputs": [
    {
     "name": "stdout",
     "output_type": "stream",
     "text": [
      "['NOR' 'EDI' 'CDG' 'PRO' 'NOS' 'CRR' 'EXP' 'EDS' 'CSH' 'PRD' 'CRD' 'NOH'\n",
      " 'COP' 'OBS' 'MIN' 'COA' 'PSA' 'PPD' 'WDC' 'PMO' 'CPR' 'CRP' 'PM0' 'PGS'\n",
      " 'SPL' 'AES' 'ZCG' 'ZCR' 'SPC' 'ZOP' 'ZC2' '5TN' 'PUP' 'PPO' 'ZD3' 'CSO'\n",
      " 'PME']\n"
     ]
    }
   ],
   "source": [
    "# Check unique order type\n",
    "print(merged_data['order_type_code'].unique())"
   ]
  },
  {
   "cell_type": "markdown",
   "metadata": {},
   "source": [
    "It shows that 'PME' does not have any list in our document, so we check how many rows show 'PME'"
   ]
  },
  {
   "cell_type": "code",
   "execution_count": 29,
   "metadata": {},
   "outputs": [
    {
     "name": "stdout",
     "output_type": "stream",
     "text": [
      "Number of rows with 'order_type_code' as 'PME': 243\n"
     ]
    }
   ],
   "source": [
    "# Filter the DataFrame for rows where 'order_type_code' is 'PME'\n",
    "pme_rows = merged_data[merged_data['order_type_code'] == 'PME']\n",
    "\n",
    "# Count the number of rows\n",
    "pme_count = len(pme_rows)\n",
    "\n",
    "# Display the count\n",
    "print(f\"Number of rows with 'order_type_code' as 'PME': {pme_count}\")"
   ]
  },
  {
   "cell_type": "markdown",
   "metadata": {},
   "source": [
    "It resulted in 243 rows, so we decided to drop them."
   ]
  },
  {
   "cell_type": "code",
   "execution_count": 31,
   "metadata": {},
   "outputs": [
    {
     "data": {
      "text/plain": [
       "(1988139, 43)"
      ]
     },
     "execution_count": 31,
     "metadata": {},
     "output_type": "execute_result"
    }
   ],
   "source": [
    "# Drop rows where 'order_type_code' is 'PME'\n",
    "merged_data = merged_data[merged_data['order_type_code'] != 'PME']\n",
    "\n",
    "# Display the first few rows to confirm\n",
    "merged_data.shape"
   ]
  },
  {
   "cell_type": "markdown",
   "metadata": {},
   "source": [
    "- **abc_class_volume**"
   ]
  },
  {
   "cell_type": "code",
   "execution_count": 33,
   "metadata": {},
   "outputs": [
    {
     "name": "stdout",
     "output_type": "stream",
     "text": [
      "['J' 'U' 'D' 'I' 'C' 'E' 'G' 'B' 'A' 'H']\n"
     ]
    }
   ],
   "source": [
    "# Check unique class volume\n",
    "print(merged_data['abc_class_volume'].unique())"
   ]
  },
  {
   "cell_type": "markdown",
   "metadata": {},
   "source": [
    "The results show consistency and a uniform format."
   ]
  },
  {
   "cell_type": "markdown",
   "metadata": {},
   "source": [
    "- **abc_class_code**"
   ]
  },
  {
   "cell_type": "code",
   "execution_count": 36,
   "metadata": {},
   "outputs": [
    {
     "name": "stdout",
     "output_type": "stream",
     "text": [
      "['J' 'B' 'D' 'E' 'C' 'I' 'A' 'F' 'U' 'G']\n"
     ]
    }
   ],
   "source": [
    "# Check unique class code\n",
    "print(merged_data['abc_class_code'].unique())"
   ]
  },
  {
   "cell_type": "markdown",
   "metadata": {},
   "source": [
    "The results show consistency and a uniform format."
   ]
  },
  {
   "cell_type": "markdown",
   "metadata": {},
   "source": [
    "- **warehouse_code**"
   ]
  },
  {
   "cell_type": "code",
   "execution_count": 39,
   "metadata": {},
   "outputs": [
    {
     "name": "stdout",
     "output_type": "stream",
     "text": [
      "['Q1 ' 'V0 ' 'S0 ' 'T0 ' 'Q0 ' 'N0 ' 'KN0' 'W0 ' 'S1 ' 'Unk' 'GS0' 'GN0'\n",
      " 'CN0' 'CQ0' 'CV0' 'GW0' 'CS0' 'CW0' 'GQ0' 'AS0' 'CT0' 'CS1' 'CN1' 'CZ0'\n",
      " 'LW0' 'LQ0' 'LS1' 'LV0' 'LN9' 'LS0' 'FWE' 'EN0' 'FW2' 'JT0' 'FA1' 'FWA'\n",
      " 'FA2' '1N0' '1S0' '5N2' '5V0' '5S0' '5W0' '1V0' '1Q0' '1N1' '1W0' '1Q1'\n",
      " '5Q0' '5T0' '5S1' '5N1' '1T0' '1S1' '5Q1' '1T1' 'BB1' '1N2' '1N3']\n"
     ]
    }
   ],
   "source": [
    "# Check unique warehouse code\n",
    "print(merged_data['warehouse_code'].unique())"
   ]
  },
  {
   "cell_type": "markdown",
   "metadata": {},
   "source": [
    "The results show that there are many warehouse codes, so we need to double-check them against our reference list to identify any discrepancies."
   ]
  },
  {
   "cell_type": "code",
   "execution_count": 41,
   "metadata": {},
   "outputs": [
    {
     "name": "stdout",
     "output_type": "stream",
     "text": [
      "Counts of invalid warehouse codes:\n",
      "warehouse_code\n",
      "V0     40941\n",
      "N0     30613\n",
      "Q0     22310\n",
      "W0     15303\n",
      "S0     13876\n",
      "Q1      7843\n",
      "T0      3478\n",
      "S1      3451\n",
      "1T1       97\n",
      "BB1       95\n",
      "1N2       14\n",
      "1N3        9\n",
      "Name: count, dtype: int64\n"
     ]
    },
    {
     "data": {
      "text/plain": [
       "12"
      ]
     },
     "execution_count": 41,
     "metadata": {},
     "output_type": "execute_result"
    }
   ],
   "source": [
    "# List of valid warehouse codes from our reference\n",
    "valid_warehouse_codes = [\n",
    "    'Q1', 'V0', 'S0', 'T0', 'Q0', 'N0', 'KN0', 'W0', 'S1', 'Unk', 'GS0', 'GN0', \n",
    "    'CN0', 'CQ0', 'CV0', 'GW0', 'CS0', 'CW0', 'GQ0', 'AS0', 'CT0', 'CS1', 'CN1', \n",
    "    'CZ0', 'LW0', 'LQ0', 'LS1', 'LV0', 'LN9', 'LS0', 'FWE', 'EN0', 'FW2', 'JT0', \n",
    "    'FA1', 'FWA', 'FA2', '1N0', '1S0', '5N2', '5V0', '5S0', '5W0', '1V0', '1Q0', \n",
    "    '1N1', '1W0', '1Q1', '5Q0', '5T0', '5S1', '5N1', '1T0', '1S1', '5Q1']\n",
    "\n",
    "# Filter the DataFrame to get only the invalid warehouse codes\n",
    "invalid_warehouse_data = merged_data[~merged_data['warehouse_code'].isin(valid_warehouse_codes)]\n",
    "\n",
    "# Group by the invalid warehouse codes and count their occurrences\n",
    "invalid_code_counts = invalid_warehouse_data['warehouse_code'].value_counts()\n",
    "\n",
    "# Display the grouped counts of invalid codes\n",
    "print(\"Counts of invalid warehouse codes:\")\n",
    "print(invalid_code_counts)\n",
    "len(invalid_code_counts)"
   ]
  },
  {
   "cell_type": "markdown",
   "metadata": {},
   "source": [
    "The results show some invalid entries compared to our reference list. However, the codes 'V0', 'N0', 'Q0', 'W0', 'S0', 'Q1', 'T0', and 'S1' are present in our list but contain extra spaces. Therefore, we need to correct their format by removing the spaces."
   ]
  },
  {
   "cell_type": "code",
   "execution_count": 43,
   "metadata": {},
   "outputs": [
    {
     "name": "stdout",
     "output_type": "stream",
     "text": [
      "Unique warehouse codes after replacement:\n",
      "['Q1' 'V0' 'S0' 'T0' 'Q0' 'N0' 'KN0' 'W0' 'S1' 'Unk' 'GS0' 'GN0' 'CN0'\n",
      " 'CQ0' 'CV0' 'GW0' 'CS0' 'CW0' 'GQ0' 'AS0' 'CT0' 'CS1' 'CN1' 'CZ0' 'LW0'\n",
      " 'LQ0' 'LS1' 'LV0' 'LN9' 'LS0' 'FWE' 'EN0' 'FW2' 'JT0' 'FA1' 'FWA' 'FA2'\n",
      " '1N0' '1S0' '5N2' '5V0' '5S0' '5W0' '1V0' '1Q0' '1N1' '1W0' '1Q1' '5Q0'\n",
      " '5T0' '5S1' '5N1' '1T0' '1S1' '5Q1' '1T1' 'BB1' '1N2' '1N3']\n"
     ]
    }
   ],
   "source": [
    "# Define a dictionary to map codes with spaces to the cleaned versions\n",
    "replacement_map = {\n",
    "    'V0 ': 'V0',\n",
    "    'N0 ': 'N0',\n",
    "    'Q0 ': 'Q0',\n",
    "    'W0 ': 'W0',\n",
    "    'S0 ': 'S0',\n",
    "    'Q1 ': 'Q1',\n",
    "    'T0 ': 'T0',\n",
    "    'S1 ': 'S1'}\n",
    "\n",
    "# Replace values in the 'warehouse_code' column based on the mapping\n",
    "merged_data['warehouse_code'] = merged_data['warehouse_code'].replace(replacement_map)\n",
    "\n",
    "# Verify the replacements\n",
    "print(\"Unique warehouse codes after replacement:\")\n",
    "print(merged_data['warehouse_code'].unique())"
   ]
  },
  {
   "cell_type": "code",
   "execution_count": 44,
   "metadata": {},
   "outputs": [
    {
     "name": "stdout",
     "output_type": "stream",
     "text": [
      "Counts of invalid warehouse codes after cleaning:\n",
      "warehouse_code\n",
      "1T1    97\n",
      "BB1    95\n",
      "1N2    14\n",
      "1N3     9\n",
      "Name: count, dtype: int64\n"
     ]
    },
    {
     "data": {
      "text/plain": [
       "215"
      ]
     },
     "execution_count": 44,
     "metadata": {},
     "output_type": "execute_result"
    }
   ],
   "source": [
    "# After cleaning, check for invalid warehouse codes again\n",
    "invalid_warehouse_data = merged_data[~merged_data['warehouse_code'].isin(valid_warehouse_codes)]\n",
    "\n",
    "# Count occurrences of each invalid warehouse code\n",
    "invalid_code_counts = invalid_warehouse_data['warehouse_code'].value_counts()\n",
    "\n",
    "# Display the counts of invalid warehouse codes\n",
    "print(\"Counts of invalid warehouse codes after cleaning:\")\n",
    "print(invalid_code_counts)\n",
    "len(invalid_warehouse_data)"
   ]
  },
  {
   "cell_type": "markdown",
   "metadata": {},
   "source": [
    "After rechecking, we found that the 'warehouse_code' has data invalid around 215 rows, So we decided to delete it."
   ]
  },
  {
   "cell_type": "code",
   "execution_count": 46,
   "metadata": {},
   "outputs": [
    {
     "name": "stdout",
     "output_type": "stream",
     "text": [
      "(1987924, 43)\n"
     ]
    }
   ],
   "source": [
    "# List of invalid warehouse codes to drop\n",
    "invalid_codes = ['1T1', 'BB1', '1N2', '1N3']\n",
    "\n",
    "# Drop rows where 'warehouse_code' is one of the invalid codes\n",
    "merged_data = merged_data[~merged_data['warehouse_code'].isin(invalid_codes)]\n",
    "\n",
    "# Display the shape to confirm rows have been dropped\n",
    "print(merged_data.shape)"
   ]
  },
  {
   "cell_type": "markdown",
   "metadata": {},
   "source": [
    "- **environment_group_code**"
   ]
  },
  {
   "cell_type": "code",
   "execution_count": 48,
   "metadata": {},
   "outputs": [
    {
     "name": "stdout",
     "output_type": "stream",
     "text": [
      "['S                             ' 'P                             '\n",
      " 'D                             ' 'Z                             '\n",
      " 'C                             ' 'M                             '\n",
      " 'R                             ' 'I                             '\n",
      " 'NA                            ']\n"
     ]
    }
   ],
   "source": [
    "# check unique environment column\n",
    "print(merged_data['environment_group_code'].unique())"
   ]
  },
  {
   "cell_type": "markdown",
   "metadata": {},
   "source": [
    "The results show that the environment column codes contain extra spaces, so I will replace them int correct format."
   ]
  },
  {
   "cell_type": "code",
   "execution_count": 50,
   "metadata": {},
   "outputs": [
    {
     "name": "stdout",
     "output_type": "stream",
     "text": [
      "['S' 'P' 'D' 'Z' 'C' 'M' 'R' 'I' 'NA']\n"
     ]
    }
   ],
   "source": [
    "# Define a dictionary to map codes with spaces to the cleaned versions\n",
    "replacement_environ = {\n",
    "    'S                             ': 'S',\n",
    "    'P                             ': 'P',\n",
    "    'D                             ': 'D',\n",
    "    'Z                             ': 'Z',\n",
    "    'C                             ': 'C',\n",
    "    'M                             ': 'M',\n",
    "    'R                             ': 'R',\n",
    "    'I                             ': 'I',\n",
    "    'NA                            ': 'NA'}\n",
    "\n",
    "# Replace values in the 'environment_group_code' column based on the mapping\n",
    "merged_data['environment_group_code'] = merged_data['environment_group_code'].replace(replacement_environ)\n",
    "unique_warehouse_code = merged_data['environment_group_code'].unique()\n",
    "print(unique_warehouse_code)"
   ]
  },
  {
   "cell_type": "markdown",
   "metadata": {},
   "source": [
    "Moreover, we checked the code against our environment group list, and no invalid entries were found."
   ]
  },
  {
   "cell_type": "markdown",
   "metadata": {},
   "source": [
    "- **business_area_code**"
   ]
  },
  {
   "cell_type": "code",
   "execution_count": 53,
   "metadata": {},
   "outputs": [
    {
     "name": "stdout",
     "output_type": "stream",
     "text": [
      "['LMP                           ' 'FLD                           '\n",
      " 'OTH                           ' 'SUR                           '\n",
      " 'COM                           ' 'DLT                           '\n",
      " 'TRO                           ' 'URB                           '\n",
      " 'HLB                           ' 'SAE                           '\n",
      " 'RWY                           ' 'LCP                           '\n",
      " 'PEN                           ' 'EXL                           '\n",
      " 'TAL                           ' '945' '950' '980' '920' '960' '910'\n",
      " '930' '999' '970' '940' '985' 'IAE                           '\n",
      " 'IAI                           ']\n"
     ]
    }
   ],
   "source": [
    "# check the unique business code\n",
    "print(merged_data['business_area_code'].unique())"
   ]
  },
  {
   "cell_type": "markdown",
   "metadata": {},
   "source": [
    "The results show that there are many business codes, so we need to double-check them against our reference list to identify any discrepancies."
   ]
  },
  {
   "cell_type": "code",
   "execution_count": 55,
   "metadata": {},
   "outputs": [
    {
     "name": "stdout",
     "output_type": "stream",
     "text": [
      "Counts of invalid business codes:\n",
      "business_area_code\n",
      "LMP                               808682\n",
      "SUR                               405419\n",
      "COM                               201103\n",
      "OTH                               187219\n",
      "DLT                               103427\n",
      "FLD                                91433\n",
      "TRO                                33747\n",
      "TAL                                33157\n",
      "SAE                                28964\n",
      "URB                                26905\n",
      "RWY                                19288\n",
      "HLB                                18168\n",
      "PEN                                 8847\n",
      "LCP                                 6660\n",
      "EXL                                 2206\n",
      "IAI                                  226\n",
      "IAE                                   99\n",
      "Name: count, dtype: int64\n"
     ]
    }
   ],
   "source": [
    "# List of valid business codes from your reference\n",
    "business_area_codes = {\n",
    "    'LMP', 'FLD', 'OTH', 'SUR', 'COM', 'DLT', 'TRO', 'URB', 'HLB', 'SAE', 'RWY', \n",
    "    'LCP', 'PEN', 'EXL', 'TAL', '945', '950', '980', '920', '960', '910', '930', \n",
    "    '999', '970', '940', '985', 'IAE', 'IAI'}\n",
    "\n",
    "# Filter the DataFrame to get only the invalid business codes\n",
    "invalid_business_data = merged_data[~merged_data['business_area_code'].isin(business_area_codes)]\n",
    "\n",
    "# Group by the invalid business codes and count their occurrences\n",
    "invalid_business_counts = invalid_business_data['business_area_code'].value_counts()\n",
    "\n",
    "# Display the grouped counts of invalid codes\n",
    "print(\"Counts of invalid business codes:\")\n",
    "print(invalid_business_counts)"
   ]
  },
  {
   "cell_type": "markdown",
   "metadata": {},
   "source": [
    "The results show some invalid entries compared to our reference list. However, some of the codes are present in our list but contain extra spaces. Therefore, we need to correct their format by removing the spaces."
   ]
  },
  {
   "cell_type": "code",
   "execution_count": 57,
   "metadata": {},
   "outputs": [
    {
     "name": "stdout",
     "output_type": "stream",
     "text": [
      "Unique business codes after replacement:\n",
      "['LMP' 'FLD' 'OTH' 'SUR' 'COM' 'DLT' 'TRO' 'URB' 'HLB' 'SAE' 'RWY' 'LCP'\n",
      " 'PEN' 'EXL' 'TAL' '945' '950' '980' '920' '960' '910' '930' '999' '970'\n",
      " '940' '985' 'IAE' 'IAI']\n"
     ]
    }
   ],
   "source": [
    "# Define a dictionary to map codes with spaces to the cleaned versions\n",
    "replacement_business_code = {\n",
    "    'LMP                           ': 'LMP',\n",
    "    'FLD                           ': 'FLD',\n",
    "    'OTH                           ': 'OTH',\n",
    "    'SUR                           ': 'SUR',\n",
    "    'COM                           ': 'COM',\n",
    "    'DLT                           ': 'DLT',\n",
    "    'TRO                           ': 'TRO',\n",
    "    'URB                           ': 'URB',\n",
    "    'HLB                           ': 'HLB',\n",
    "    'SAE                           ': 'SAE',\n",
    "    'RWY                           ': 'RWY',\n",
    "    'LCP                           ': 'LCP',\n",
    "    'PEN                           ': 'PEN',\n",
    "    'EXL                           ': 'EXL',\n",
    "    'TAL                           ': 'TAL',\n",
    "    'IAE                           ': 'IAE',\n",
    "    'IAI                           ': 'IAI'}\n",
    "\n",
    "# Replace values in the 'business_area_code' column based on the mapping\n",
    "merged_data['business_area_code'] = merged_data['business_area_code'].replace(replacement_business_code)\n",
    "\n",
    "# Verify the replacements\n",
    "print(\"Unique business codes after replacement:\")\n",
    "print(merged_data['business_area_code'].unique())"
   ]
  },
  {
   "cell_type": "code",
   "execution_count": 58,
   "metadata": {},
   "outputs": [
    {
     "name": "stdout",
     "output_type": "stream",
     "text": [
      "Counts of invalid business codes:\n",
      "Series([], Name: count, dtype: int64)\n"
     ]
    }
   ],
   "source": [
    "# After cleaning, check for invalid business codes again\n",
    "invalid_business_data = merged_data[~merged_data['business_area_code'].isin(business_area_codes)]\n",
    "\n",
    "# Count occurrences of each invalid business code\n",
    "invalid_business_counts = invalid_business_data['business_area_code'].value_counts()\n",
    "\n",
    "# Display the counts of invalid business codes\n",
    "print(\"Counts of invalid business codes:\")\n",
    "print(invalid_business_counts)"
   ]
  },
  {
   "cell_type": "markdown",
   "metadata": {},
   "source": [
    "After rechecking, we found that the 'business_area_code' has not data invalid."
   ]
  },
  {
   "cell_type": "markdown",
   "metadata": {},
   "source": [
    "- **customer_district_code**"
   ]
  },
  {
   "cell_type": "code",
   "execution_count": 61,
   "metadata": {},
   "outputs": [
    {
     "name": "stdout",
     "output_type": "stream",
     "text": [
      "[410 300 500 310 400 200 210 720 710 600 510 530 535 540 520 545 100]\n"
     ]
    }
   ],
   "source": [
    "# check the unique customer district column\n",
    "print(merged_data['customer_district_code'].unique())"
   ]
  },
  {
   "cell_type": "markdown",
   "metadata": {},
   "source": [
    "The results show that there are many customer codes, so we need to double-check them against our reference list to identify any discrepancies."
   ]
  },
  {
   "cell_type": "code",
   "execution_count": 63,
   "metadata": {},
   "outputs": [
    {
     "name": "stdout",
     "output_type": "stream",
     "text": [
      "Counts of invalid business codes:\n",
      "customer_district_code\n",
      "100    6\n",
      "Name: count, dtype: int64\n"
     ]
    }
   ],
   "source": [
    "# List of valid customer district codes from your reference\n",
    "customer_district_code = {'410', '300', '500', '310', '400', '200', '210', '720', '710', '600',\n",
    "                          '510', '530', '535', '540', '520', '545'}\n",
    "\n",
    "# Filter the DataFrame to get only the invalid customer codes\n",
    "invalid_customer_data = merged_data[~merged_data['customer_district_code'].astype(str).isin(customer_district_code)]\n",
    "\n",
    "# Group by the invalid customer codes and count their occurrences\n",
    "invalid_customer_counts = invalid_customer_data['customer_district_code'].value_counts()\n",
    "\n",
    "# Display the grouped counts of invalid codes\n",
    "print(\"Counts of invalid business codes:\")\n",
    "print(invalid_customer_counts)"
   ]
  },
  {
   "cell_type": "markdown",
   "metadata": {},
   "source": [
    "After rechecking, we found that the 'customer_district_code' has data invalid around 6 rows, So we decided to delete it."
   ]
  },
  {
   "cell_type": "code",
   "execution_count": 65,
   "metadata": {},
   "outputs": [
    {
     "name": "stdout",
     "output_type": "stream",
     "text": [
      "(1987918, 43)\n"
     ]
    }
   ],
   "source": [
    "# List of invalid customer codes to drop\n",
    "invalid_customer = ['100']\n",
    "\n",
    "# Drop rows where 'customer_district_code' is one of the invalid codes\n",
    "merged_data = merged_data[~merged_data['customer_district_code'].astype(str).isin(invalid_customer)]\n",
    "\n",
    "# Display the shape to confirm rows have been dropped\n",
    "print(merged_data.shape)"
   ]
  },
  {
   "cell_type": "code",
   "execution_count": 66,
   "metadata": {},
   "outputs": [
    {
     "name": "stdout",
     "output_type": "stream",
     "text": [
      "Counts of invalid business codes:\n",
      "Series([], Name: count, dtype: int64)\n"
     ]
    }
   ],
   "source": [
    "# After cleaning, check for invalid customer codes again\n",
    "invalid_customer_data = merged_data[~merged_data['customer_district_code'].astype(str).isin(customer_district_code)]\n",
    "\n",
    "# Count occurrences of each invalid customer code\n",
    "invalid_customer_counts = invalid_customer_data['customer_district_code'].value_counts()\n",
    "\n",
    "# Display the counts of invalid customer codes\n",
    "print(\"Counts of invalid business codes:\")\n",
    "print(invalid_customer_counts)"
   ]
  },
  {
   "cell_type": "markdown",
   "metadata": {},
   "source": [
    "- **technology_group_code**"
   ]
  },
  {
   "cell_type": "code",
   "execution_count": 68,
   "metadata": {},
   "outputs": [
    {
     "name": "stdout",
     "output_type": "stream",
     "text": [
      "['SYLV                                    '\n",
      " 'NA                                      '\n",
      " 'PIER                                    ' '96' '219' '92' '214' '380'\n",
      " '102' '123' '110' '98' '213' '580' '108' '999' '198'\n",
      " 'SCHR                                    ' '82' '140' '540'\n",
      " 'AUST                                    ' '480' '760' '460' '600' '520'\n",
      " '998' '570' '280' '330' '220' '415' '340' '225'\n",
      " 'CSE                                     ' '565' '410' '560' '800' '680'\n",
      " '320' '550' '400' '160' '440' '420' '500' '555' '360' '290' '780' '545'\n",
      " '181' '240' '640' '820' '595' '300' '830' '70' '850' '86' '720' '740'\n",
      " '310' 'FGDFT                                   ' '350' '206' '64'\n",
      " 'PNZ                                     ' '63'\n",
      " 'CROM                                    ' '100' '78' '207' '208' '76'\n",
      " '211' '205' '85' '90' '68' '130'\n",
      " 'GLG                                     '\n",
      " 'INLIT                                   ' '72' '61' '880' '217' '215'\n",
      " '80' '210' 'INZ                                     ' '250' '118' '66'\n",
      " 'PHANT                                   '\n",
      " 'DIGIN                                   ' '114' '112' '128' '88']\n"
     ]
    }
   ],
   "source": [
    "# check the unique technology code\n",
    "print(merged_data['technology_group_code'].unique())"
   ]
  },
  {
   "cell_type": "markdown",
   "metadata": {},
   "source": [
    "The results show that there are many technology codes, so we need to double-check them against our reference list to identify any discrepancies."
   ]
  },
  {
   "cell_type": "code",
   "execution_count": 70,
   "metadata": {},
   "outputs": [
    {
     "name": "stdout",
     "output_type": "stream",
     "text": [
      "Counts of invalid technology codes:\n",
      "technology_group_code\n",
      "CROM                                        273232\n",
      "NA                                          211199\n",
      "SYLV                                        185485\n",
      "PIER                                        160459\n",
      "PNZ                                          61144\n",
      "INZ                                           3879\n",
      "SCHR                                          2221\n",
      "CSE                                           1252\n",
      "FGDFT                                          326\n",
      "GLG                                            230\n",
      "AUST                                           218\n",
      "128                                            189\n",
      "INLIT                                          114\n",
      "DIGIN                                           14\n",
      "PHANT                                            3\n",
      "88                                               2\n",
      "114                                              1\n",
      "112                                              1\n",
      "Name: count, dtype: int64\n"
     ]
    },
    {
     "data": {
      "text/plain": [
       "18"
      ]
     },
     "execution_count": 70,
     "metadata": {},
     "output_type": "execute_result"
    }
   ],
   "source": [
    "# List of valid technology codes from your reference\n",
    "technology_group_codes = [\n",
    "    'SYLV', 'NA', 'PIER', '96', '219', '92', '214', '380', '102', '123', '110', \n",
    "    '98', '213', '580', '108', '999', '198', 'SCHR', '82', '140', '540', 'AUST', \n",
    "    '480', '760', '460', '600', '520', '998', '570', '280', '330', '220', '415', \n",
    "    '340', '225', 'CSE', '565', '410', '560', '800', '680', '320', '550', '400', \n",
    "    '160', '440', '420', '500', '555', '360', '290', '780', '545', '181', '240', \n",
    "    '640', '820', '595', '300', '830', '70', '850', '86', '720', '740', '310', \n",
    "    'FGDFT', '350', '206', '64', 'PNZ', '63', 'CROM', '100', '78', '207', '208', \n",
    "    '76', '211', '205', '85', '90', '68', '130', 'GLG', 'INLIT', '72', '61', \n",
    "    '880', '217', '215', '80', '210', 'INZ', '250', '118', '66']\n",
    "\n",
    "# Filter the DataFrame to get only the invalid technology codes\n",
    "invalid_technology_data = merged_data[~merged_data['technology_group_code'].isin(technology_group_codes)]\n",
    "\n",
    "# Group by the invalid technology codes and count their occurrences\n",
    "invalid_technology_counts = invalid_technology_data['technology_group_code'].value_counts()\n",
    "\n",
    "# Display the grouped counts of invalid codes\n",
    "print(\"Counts of invalid technology codes:\")\n",
    "print(invalid_technology_counts)\n",
    "len(invalid_technology_counts)"
   ]
  },
  {
   "cell_type": "markdown",
   "metadata": {},
   "source": [
    "The results show some invalid entries compared to our reference list. However, some of the codes are present in our list but contain extra spaces. Therefore, we need to correct their format by removing the spaces."
   ]
  },
  {
   "cell_type": "code",
   "execution_count": 72,
   "metadata": {},
   "outputs": [
    {
     "name": "stdout",
     "output_type": "stream",
     "text": [
      "Unique technology codes after replacement:\n",
      "['SYLV' 'NA' 'PIER' '96' '219' '92' '214' '380' '102' '123' '110' '98'\n",
      " '213' '580' '108' '999' '198' 'SCHR' '82' '140' '540' 'AUST' '480' '760'\n",
      " '460' '600' '520' '998' '570' '280' '330' '220' '415' '340' '225' 'CSE'\n",
      " '565' '410' '560' '800' '680' '320' '550' '400' '160' '440' '420' '500'\n",
      " '555' '360' '290' '780' '545' '181' '240' '640' '820' '595' '300' '830'\n",
      " '70' '850' '86' '720' '740' '310' 'FGDFT' '350' '206' '64' 'PNZ' '63'\n",
      " 'CROM' '100' '78' '207' '208' '76' '211' '205' '85' '90' '68' '130' 'GLG'\n",
      " 'INLIT' '72' '61' '880' '217' '215' '80' '210' 'INZ' '250' '118' '66'\n",
      " 'PHANT' 'DIGIN' '114' '112' '128' '88']\n"
     ]
    }
   ],
   "source": [
    "# Define a dictionary to map codes with spaces to the cleaned versions\n",
    "replacement_technology_code = {\n",
    "    'SYLV                                    ': 'SYLV',\n",
    "    'NA                                      ': 'NA',\n",
    "    'PIER                                    ': 'PIER',\n",
    "    'SCHR                                    ': 'SCHR',\n",
    "    'AUST                                    ': 'AUST',\n",
    "    'CSE                                     ': 'CSE',\n",
    "    'FGDFT                                   ': 'FGDFT',\n",
    "    'PNZ                                     ': 'PNZ',\n",
    "    'CROM                                    ': 'CROM',\n",
    "    'GLG                                     ': 'GLG',\n",
    "    'INLIT                                   ': 'INLIT',\n",
    "    'INZ                                     ': 'INZ',\n",
    "    'PHANT                                   ': 'PHANT',\n",
    "    'DIGIN                                   ': 'DIGIN'}\n",
    "\n",
    "# Replace values in the 'technology_group_code' column based on the mapping\n",
    "merged_data['technology_group_code'] = merged_data['technology_group_code'].replace(replacement_technology_code)\n",
    "\n",
    "# Verify the replacements\n",
    "print(\"Unique technology codes after replacement:\")\n",
    "print(merged_data['technology_group_code'].unique())"
   ]
  },
  {
   "cell_type": "code",
   "execution_count": 73,
   "metadata": {},
   "outputs": [
    {
     "name": "stdout",
     "output_type": "stream",
     "text": [
      "Counts of invalid technology codes:\n",
      "technology_group_code\n",
      "128      189\n",
      "DIGIN     14\n",
      "PHANT      3\n",
      "88         2\n",
      "114        1\n",
      "112        1\n",
      "Name: count, dtype: int64\n"
     ]
    },
    {
     "data": {
      "text/plain": [
       "210"
      ]
     },
     "execution_count": 73,
     "metadata": {},
     "output_type": "execute_result"
    }
   ],
   "source": [
    "# After cleaning, check for invalid technology codes again\n",
    "invalid_technology_data = merged_data[~merged_data['technology_group_code'].isin(technology_group_codes)]\n",
    "\n",
    "# Count occurrences of each invalid technology code\n",
    "invalid_technology_counts = invalid_technology_data['technology_group_code'].value_counts()\n",
    "\n",
    "# Display the counts of invalid technology codes\n",
    "print(\"Counts of invalid technology codes:\")\n",
    "print(invalid_technology_counts)\n",
    "len(invalid_technology_data)"
   ]
  },
  {
   "cell_type": "markdown",
   "metadata": {},
   "source": [
    "After rechecking, we found that the 'technology_group_code' has data invalid around 210 rows, So we decided to delete it."
   ]
  },
  {
   "cell_type": "code",
   "execution_count": 75,
   "metadata": {},
   "outputs": [
    {
     "name": "stdout",
     "output_type": "stream",
     "text": [
      "(1987708, 43)\n"
     ]
    }
   ],
   "source": [
    "# List of invalid technology codes to drop\n",
    "invalid_technology = ['128', 'DIGIN', 'PHANT', '88', '114', '112']\n",
    "\n",
    "# Drop rows where 'technology_group_code' is one of the invalid codes\n",
    "merged_data = merged_data[~merged_data['technology_group_code'].isin(invalid_technology)]\n",
    "\n",
    "# Display the shape to confirm rows have been dropped\n",
    "print(merged_data.shape)"
   ]
  },
  {
   "cell_type": "markdown",
   "metadata": {},
   "source": [
    "- currency"
   ]
  },
  {
   "cell_type": "code",
   "execution_count": 77,
   "metadata": {},
   "outputs": [
    {
     "name": "stdout",
     "output_type": "stream",
     "text": [
      "['AUD' 'USD' 'AUS' 'NZD' '   ' 'EUR']\n"
     ]
    }
   ],
   "source": [
    "# check the unique currency\n",
    "print(merged_data['currency'].unique())"
   ]
  },
  {
   "cell_type": "code",
   "execution_count": 78,
   "metadata": {},
   "outputs": [
    {
     "name": "stdout",
     "output_type": "stream",
     "text": [
      "currency\n",
      "AUD    1582276\n",
      "AUS     287619\n",
      "NZD     116633\n",
      "USD        675\n",
      "EUR        503\n",
      "             2\n",
      "Name: count, dtype: int64\n"
     ]
    }
   ],
   "source": [
    "# Count the occurrences of each unique currency\n",
    "print(merged_data['currency'].value_counts())"
   ]
  },
  {
   "cell_type": "markdown",
   "metadata": {},
   "source": [
    "Following an analysis of the currency counts, we decided to remove entries with blank spaces and standardize 'AUS' to 'AUD'."
   ]
  },
  {
   "cell_type": "code",
   "execution_count": 80,
   "metadata": {},
   "outputs": [
    {
     "name": "stdout",
     "output_type": "stream",
     "text": [
      "currency\n",
      "AUD    1869895\n",
      "NZD     116633\n",
      "USD        675\n",
      "EUR        503\n",
      "Name: count, dtype: int64\n"
     ]
    }
   ],
   "source": [
    "# Replace 'AUS' with 'AUD'\n",
    "merged_data['currency'] = merged_data['currency'].replace('AUS', 'AUD')\n",
    "\n",
    "# Drop rows where 'currency' is blank or contains only spaces\n",
    "merged_data = merged_data[merged_data['currency'].str.strip() != '']\n",
    "\n",
    "# Verify the changes\n",
    "print(merged_data['currency'].value_counts())"
   ]
  },
  {
   "cell_type": "code",
   "execution_count": 81,
   "metadata": {},
   "outputs": [
    {
     "name": "stdout",
     "output_type": "stream",
     "text": [
      "         calendar_year currency  value_sales  value_cost\n",
      "0                 2012      AUD       218.40    178.1976\n",
      "1                 2012      AUD        38.28     25.4568\n",
      "2                 2012      AUD        40.20     25.4568\n",
      "3                 2012      AUD        20.10     12.7284\n",
      "4                 2012      AUD        19.14     12.7284\n",
      "...                ...      ...          ...         ...\n",
      "1988377           2013      AUD       244.00    105.5600\n",
      "1988378           2013      AUD      1185.00    681.4500\n",
      "1988379           2013      AUD       232.19     58.7915\n",
      "1988380           2013      AUD        31.00     13.1950\n",
      "1988381           2013      AUD        37.44     14.2100\n",
      "\n",
      "[1987706 rows x 4 columns]\n"
     ]
    }
   ],
   "source": [
    "# Define exchange rates for each currency and year\n",
    "exchange_rates = {\n",
    "    2012: {'NZD': 0.80, 'USD': 1.05, 'EUR': 1.30, 'AUD': 1.0},\n",
    "    2013: {'NZD': 0.82, 'USD': 1.08, 'EUR': 1.35, 'AUD': 1.0}\n",
    "}\n",
    "\n",
    "# Function to convert to AUD based on currency and year\n",
    "def convert_to_aud(row, column_name):\n",
    "    rate = exchange_rates.get(row['calendar_year'], {}).get(row['currency'], 1)\n",
    "    return row[column_name] * rate\n",
    "\n",
    "# Apply conversion directly to value_sales and value_cost columns\n",
    "merged_data['value_sales'] = merged_data.apply(lambda row: convert_to_aud(row, 'value_sales'), axis=1)\n",
    "merged_data['value_cost'] = merged_data.apply(lambda row: convert_to_aud(row, 'value_cost'), axis=1)\n",
    "\n",
    "# Display the updated DataFrame to confirm the changes\n",
    "print(merged_data[['calendar_year', 'currency', 'value_sales', 'value_cost']])\n"
   ]
  },
  {
   "cell_type": "code",
   "execution_count": 82,
   "metadata": {},
   "outputs": [
    {
     "name": "stdout",
     "output_type": "stream",
     "text": [
      "currency\n",
      "AUD    1987706\n",
      "Name: count, dtype: int64\n"
     ]
    }
   ],
   "source": [
    "# Replace specific currency values with 'AUD'\n",
    "merged_data['currency'] = merged_data['currency'].replace(['NZD', 'USD', 'EUR'], 'AUD')\n",
    "\n",
    "# Verify the result\n",
    "print(merged_data['currency'].value_counts())"
   ]
  },
  {
   "cell_type": "markdown",
   "metadata": {},
   "source": [
    "- invoice_number"
   ]
  },
  {
   "cell_type": "markdown",
   "metadata": {},
   "source": [
    "In typical cases, an invoice_number should be unique and non-zero, as it is often used as an identifier for transactions. We decided to remove the rows that contain 0 because An invoice_number value of zero could indicate one of the following:\n",
    "1. Missing Data: Zero may be used as a placeholder for missing or unknown invoice numbers. It’s worth checking if there are other patterns in these rows that suggest incomplete data.\n",
    "2. Data Entry Error: Zero could be an error if someone accidentally entered it instead of leaving the field blank or using a valid invoice number.\n",
    "3. Dummy Data: Sometimes zero or other default values are used in testing or as placeholder data in cases where no invoice was actually generated."
   ]
  },
  {
   "cell_type": "code",
   "execution_count": 85,
   "metadata": {},
   "outputs": [
    {
     "name": "stdout",
     "output_type": "stream",
     "text": [
      "Number of rows with invoice_number equal to 0: 117\n"
     ]
    }
   ],
   "source": [
    "# Count the rows where 'invoice_number' is zero\n",
    "zero_invoice_number_count = (merged_data['invoice_number'] == 0).sum()\n",
    "\n",
    "# Display the count\n",
    "print(\"Number of rows with invoice_number equal to 0:\", zero_invoice_number_count)"
   ]
  },
  {
   "cell_type": "code",
   "execution_count": 86,
   "metadata": {},
   "outputs": [
    {
     "name": "stdout",
     "output_type": "stream",
     "text": [
      "Number of rows with invoice_number equal to 0: 0\n"
     ]
    }
   ],
   "source": [
    "# Remove rows where 'invoice_number' is zero\n",
    "merged_data = merged_data[merged_data['invoice_number'] != 0]\n",
    "\n",
    "zero_invoice_number_count = (merged_data['invoice_number'] == 0).sum()\n",
    "\n",
    "# Display the count\n",
    "print(\"Number of rows with invoice_number equal to 0:\", zero_invoice_number_count)"
   ]
  },
  {
   "cell_type": "markdown",
   "metadata": {},
   "source": [
    "- Check and remove blank spaces in the DataFrame"
   ]
  },
  {
   "cell_type": "code",
   "execution_count": 88,
   "metadata": {},
   "outputs": [
    {
     "name": "stdout",
     "output_type": "stream",
     "text": [
      "No blank spaces found in the DataFrame.\n"
     ]
    }
   ],
   "source": [
    "# Identify cells with blank spaces in the DataFrame\n",
    "blank_spaces = merged_data.applymap(lambda x: isinstance(x, str) and x.strip() == '')\n",
    "\n",
    "# Check if any blank spaces are found\n",
    "if blank_spaces.any().any():\n",
    "    # Display columns with blank spaces\n",
    "    blank_columns = blank_spaces.any(axis=0)\n",
    "    print(\"Columns with blank spaces:\")\n",
    "    print(blank_columns[blank_columns].index.tolist())\n",
    "    \n",
    "    # Display rows and columns with blank spaces\n",
    "    blank_locations = blank_spaces[blank_spaces]\n",
    "    print(\"\\nRows and columns with blank spaces:\")\n",
    "    print(blank_locations)\n",
    "else:\n",
    "    print(\"No blank spaces found in the DataFrame.\")"
   ]
  },
  {
   "cell_type": "markdown",
   "metadata": {},
   "source": [
    "- Remove whitespace from any rows and column"
   ]
  },
  {
   "cell_type": "code",
   "execution_count": 90,
   "metadata": {},
   "outputs": [],
   "source": [
    "# Remove leading and trailing whitespace from all string columns\n",
    "merged_data = merged_data.applymap(lambda x: x.strip() if isinstance(x, str) else x)"
   ]
  },
  {
   "cell_type": "markdown",
   "metadata": {},
   "source": [
    "- Remove value Consulting from item_code\n",
    "- "
   ]
  },
  {
   "cell_type": "code",
   "execution_count": 92,
   "metadata": {},
   "outputs": [
    {
     "name": "stdout",
     "output_type": "stream",
     "text": [
      "         value_sales  value_cost  value_quantity\n",
      "525527       2400.00        0.00             1.0\n",
      "525809       4162.50        0.00             1.0\n",
      "525896       6460.00        0.00             1.0\n",
      "526091       6440.00        0.00             1.0\n",
      "526094      11960.00        0.00             1.0\n",
      "...              ...         ...             ...\n",
      "1662297      9647.00        0.00             1.0\n",
      "1662298     17155.00        0.01             1.0\n",
      "1662299     64910.92        0.01             1.0\n",
      "1662309     64910.92        0.01             1.0\n",
      "1662310    -64910.92        0.00             0.0\n",
      "\n",
      "[191 rows x 3 columns]\n"
     ]
    }
   ],
   "source": [
    "# Filter the DataFrame to show only rows where item_code is \"CONSULTING\"\n",
    "consulting_data = merged_data[merged_data['item_code'] == 'CONSULTING'][['value_sales', 'value_cost', 'value_quantity']]\n",
    "\n",
    "# Display the selected columns from the filtered data\n",
    "print(consulting_data)"
   ]
  },
  {
   "cell_type": "code",
   "execution_count": 93,
   "metadata": {},
   "outputs": [],
   "source": [
    "# Drop rows where item_code is \"CONSULTING\"\n",
    "merged_data = merged_data[merged_data['item_code'] != 'CONSULTING']"
   ]
  },
  {
   "cell_type": "markdown",
   "metadata": {},
   "source": [
    "- Exclusion of Consulting Services\n",
    "\n",
    "- To align with the objective of providing actionable insights and performance recommendations related to product sales, customer demographics, and inventory management, consulting services have been excluded from the dataset. Consulting services typically have different revenue models, cost structures, and customer behavior patterns compared to physical products. Including them would likely skew performance metrics and obscure trends relevant to inventory and sales analysis. By focusing exclusively on product-related data, the analysis remains relevant, accurate, and targeted towards generating meaningful insights for product sales and inventory optimization."
   ]
  },
  {
   "cell_type": "markdown",
   "metadata": {},
   "source": [
    "- show data after cleaning"
   ]
  },
  {
   "cell_type": "code",
   "execution_count": 96,
   "metadata": {},
   "outputs": [
    {
     "data": {
      "text/html": [
       "<div>\n",
       "<style scoped>\n",
       "    .dataframe tbody tr th:only-of-type {\n",
       "        vertical-align: middle;\n",
       "    }\n",
       "\n",
       "    .dataframe tbody tr th {\n",
       "        vertical-align: top;\n",
       "    }\n",
       "\n",
       "    .dataframe thead th {\n",
       "        text-align: right;\n",
       "    }\n",
       "</style>\n",
       "<table border=\"1\" class=\"dataframe\">\n",
       "  <thead>\n",
       "    <tr style=\"text-align: right;\">\n",
       "      <th></th>\n",
       "      <th>accounting_date</th>\n",
       "      <th>fiscal_year</th>\n",
       "      <th>fiscal_month</th>\n",
       "      <th>calendar_year</th>\n",
       "      <th>calendar_month</th>\n",
       "      <th>calendar_day</th>\n",
       "      <th>company_code</th>\n",
       "      <th>customer_code</th>\n",
       "      <th>customer_district_code</th>\n",
       "      <th>item_code</th>\n",
       "      <th>...</th>\n",
       "      <th>currency</th>\n",
       "      <th>invoice_number</th>\n",
       "      <th>line_number</th>\n",
       "      <th>invoice_date</th>\n",
       "      <th>customer_order_number</th>\n",
       "      <th>order_date</th>\n",
       "      <th>dss_update_time</th>\n",
       "      <th>accounting_year</th>\n",
       "      <th>accounting_month</th>\n",
       "      <th>accounting_day</th>\n",
       "    </tr>\n",
       "  </thead>\n",
       "  <tbody>\n",
       "    <tr>\n",
       "      <th>0</th>\n",
       "      <td>2012-05-09</td>\n",
       "      <td>2012</td>\n",
       "      <td>11</td>\n",
       "      <td>2012</td>\n",
       "      <td>5</td>\n",
       "      <td>9</td>\n",
       "      <td>101</td>\n",
       "      <td>411800601</td>\n",
       "      <td>410</td>\n",
       "      <td>GENIE8WWWBC</td>\n",
       "      <td>...</td>\n",
       "      <td>AUD</td>\n",
       "      <td>2217887</td>\n",
       "      <td>1</td>\n",
       "      <td>20120509</td>\n",
       "      <td>2865354</td>\n",
       "      <td>20120509</td>\n",
       "      <td>49:58.7</td>\n",
       "      <td>2012</td>\n",
       "      <td>5</td>\n",
       "      <td>9</td>\n",
       "    </tr>\n",
       "    <tr>\n",
       "      <th>1</th>\n",
       "      <td>2012-02-16</td>\n",
       "      <td>2012</td>\n",
       "      <td>8</td>\n",
       "      <td>2012</td>\n",
       "      <td>2</td>\n",
       "      <td>16</td>\n",
       "      <td>101</td>\n",
       "      <td>361000403</td>\n",
       "      <td>300</td>\n",
       "      <td>GENIE8WWWBC</td>\n",
       "      <td>...</td>\n",
       "      <td>AUD</td>\n",
       "      <td>2185745</td>\n",
       "      <td>1</td>\n",
       "      <td>20120216</td>\n",
       "      <td>2833515</td>\n",
       "      <td>20120216</td>\n",
       "      <td>49:58.7</td>\n",
       "      <td>2012</td>\n",
       "      <td>2</td>\n",
       "      <td>16</td>\n",
       "    </tr>\n",
       "    <tr>\n",
       "      <th>2</th>\n",
       "      <td>2012-05-09</td>\n",
       "      <td>2012</td>\n",
       "      <td>11</td>\n",
       "      <td>2012</td>\n",
       "      <td>5</td>\n",
       "      <td>9</td>\n",
       "      <td>101</td>\n",
       "      <td>361000403</td>\n",
       "      <td>300</td>\n",
       "      <td>GENIE8WWWBC</td>\n",
       "      <td>...</td>\n",
       "      <td>AUD</td>\n",
       "      <td>2217807</td>\n",
       "      <td>1</td>\n",
       "      <td>20120509</td>\n",
       "      <td>2864857</td>\n",
       "      <td>20120508</td>\n",
       "      <td>49:58.7</td>\n",
       "      <td>2012</td>\n",
       "      <td>5</td>\n",
       "      <td>9</td>\n",
       "    </tr>\n",
       "    <tr>\n",
       "      <th>3</th>\n",
       "      <td>2012-05-18</td>\n",
       "      <td>2012</td>\n",
       "      <td>11</td>\n",
       "      <td>2012</td>\n",
       "      <td>5</td>\n",
       "      <td>18</td>\n",
       "      <td>101</td>\n",
       "      <td>565540415</td>\n",
       "      <td>500</td>\n",
       "      <td>GENIE8WWWBC</td>\n",
       "      <td>...</td>\n",
       "      <td>AUD</td>\n",
       "      <td>2222758</td>\n",
       "      <td>1</td>\n",
       "      <td>20120518</td>\n",
       "      <td>2869759</td>\n",
       "      <td>20120518</td>\n",
       "      <td>49:58.7</td>\n",
       "      <td>2012</td>\n",
       "      <td>5</td>\n",
       "      <td>18</td>\n",
       "    </tr>\n",
       "    <tr>\n",
       "      <th>4</th>\n",
       "      <td>2012-01-09</td>\n",
       "      <td>2012</td>\n",
       "      <td>7</td>\n",
       "      <td>2012</td>\n",
       "      <td>1</td>\n",
       "      <td>9</td>\n",
       "      <td>101</td>\n",
       "      <td>565540415</td>\n",
       "      <td>500</td>\n",
       "      <td>GENIE8WWWBC</td>\n",
       "      <td>...</td>\n",
       "      <td>AUD</td>\n",
       "      <td>2170374</td>\n",
       "      <td>1</td>\n",
       "      <td>20120109</td>\n",
       "      <td>2819189</td>\n",
       "      <td>20120109</td>\n",
       "      <td>49:58.7</td>\n",
       "      <td>2012</td>\n",
       "      <td>1</td>\n",
       "      <td>9</td>\n",
       "    </tr>\n",
       "  </tbody>\n",
       "</table>\n",
       "<p>5 rows × 43 columns</p>\n",
       "</div>"
      ],
      "text/plain": [
       "  accounting_date  fiscal_year  fiscal_month  calendar_year  calendar_month  \\\n",
       "0      2012-05-09         2012            11           2012               5   \n",
       "1      2012-02-16         2012             8           2012               2   \n",
       "2      2012-05-09         2012            11           2012               5   \n",
       "3      2012-05-18         2012            11           2012               5   \n",
       "4      2012-01-09         2012             7           2012               1   \n",
       "\n",
       "   calendar_day  company_code customer_code  customer_district_code  \\\n",
       "0             9           101     411800601                     410   \n",
       "1            16           101     361000403                     300   \n",
       "2             9           101     361000403                     300   \n",
       "3            18           101     565540415                     500   \n",
       "4             9           101     565540415                     500   \n",
       "\n",
       "     item_code  ... currency invoice_number line_number  invoice_date  \\\n",
       "0  GENIE8WWWBC  ...      AUD        2217887           1      20120509   \n",
       "1  GENIE8WWWBC  ...      AUD        2185745           1      20120216   \n",
       "2  GENIE8WWWBC  ...      AUD        2217807           1      20120509   \n",
       "3  GENIE8WWWBC  ...      AUD        2222758           1      20120518   \n",
       "4  GENIE8WWWBC  ...      AUD        2170374           1      20120109   \n",
       "\n",
       "  customer_order_number order_date dss_update_time accounting_year  \\\n",
       "0               2865354   20120509         49:58.7            2012   \n",
       "1               2833515   20120216         49:58.7            2012   \n",
       "2               2864857   20120508         49:58.7            2012   \n",
       "3               2869759   20120518         49:58.7            2012   \n",
       "4               2819189   20120109         49:58.7            2012   \n",
       "\n",
       "  accounting_month accounting_day  \n",
       "0                5              9  \n",
       "1                2             16  \n",
       "2                5              9  \n",
       "3                5             18  \n",
       "4                1              9  \n",
       "\n",
       "[5 rows x 43 columns]"
      ]
     },
     "execution_count": 96,
     "metadata": {},
     "output_type": "execute_result"
    }
   ],
   "source": [
    "merged_data.head()"
   ]
  },
  {
   "cell_type": "markdown",
   "metadata": {},
   "source": [
    "## 3. Removing Duplicates\n",
    "- Identify and remove duplicate records, which can skew analysis results and lead to incorrect conclusions."
   ]
  },
  {
   "cell_type": "code",
   "execution_count": 98,
   "metadata": {},
   "outputs": [
    {
     "name": "stdout",
     "output_type": "stream",
     "text": [
      "Duplicate rows based on all columns:\n"
     ]
    },
    {
     "data": {
      "text/html": [
       "<div>\n",
       "<style scoped>\n",
       "    .dataframe tbody tr th:only-of-type {\n",
       "        vertical-align: middle;\n",
       "    }\n",
       "\n",
       "    .dataframe tbody tr th {\n",
       "        vertical-align: top;\n",
       "    }\n",
       "\n",
       "    .dataframe thead th {\n",
       "        text-align: right;\n",
       "    }\n",
       "</style>\n",
       "<table border=\"1\" class=\"dataframe\">\n",
       "  <thead>\n",
       "    <tr style=\"text-align: right;\">\n",
       "      <th></th>\n",
       "      <th>accounting_date</th>\n",
       "      <th>fiscal_year</th>\n",
       "      <th>fiscal_month</th>\n",
       "      <th>calendar_year</th>\n",
       "      <th>calendar_month</th>\n",
       "      <th>calendar_day</th>\n",
       "      <th>company_code</th>\n",
       "      <th>customer_code</th>\n",
       "      <th>customer_district_code</th>\n",
       "      <th>item_code</th>\n",
       "      <th>...</th>\n",
       "      <th>currency</th>\n",
       "      <th>invoice_number</th>\n",
       "      <th>line_number</th>\n",
       "      <th>invoice_date</th>\n",
       "      <th>customer_order_number</th>\n",
       "      <th>order_date</th>\n",
       "      <th>dss_update_time</th>\n",
       "      <th>accounting_year</th>\n",
       "      <th>accounting_month</th>\n",
       "      <th>accounting_day</th>\n",
       "    </tr>\n",
       "  </thead>\n",
       "  <tbody>\n",
       "    <tr>\n",
       "      <th>342</th>\n",
       "      <td>2012-05-31</td>\n",
       "      <td>2012</td>\n",
       "      <td>11</td>\n",
       "      <td>2012</td>\n",
       "      <td>5</td>\n",
       "      <td>31</td>\n",
       "      <td>101</td>\n",
       "      <td>411800601</td>\n",
       "      <td>410</td>\n",
       "      <td>GENIE14WWWBC</td>\n",
       "      <td>...</td>\n",
       "      <td>AUD</td>\n",
       "      <td>2228160</td>\n",
       "      <td>1</td>\n",
       "      <td>20120531</td>\n",
       "      <td>2875352</td>\n",
       "      <td>20120531</td>\n",
       "      <td>49:58.7</td>\n",
       "      <td>2012</td>\n",
       "      <td>5</td>\n",
       "      <td>31</td>\n",
       "    </tr>\n",
       "    <tr>\n",
       "      <th>546</th>\n",
       "      <td>2012-03-09</td>\n",
       "      <td>2012</td>\n",
       "      <td>9</td>\n",
       "      <td>2012</td>\n",
       "      <td>3</td>\n",
       "      <td>9</td>\n",
       "      <td>101</td>\n",
       "      <td>299480705</td>\n",
       "      <td>200</td>\n",
       "      <td>GENIE11WWWBC</td>\n",
       "      <td>...</td>\n",
       "      <td>AUD</td>\n",
       "      <td>2194962</td>\n",
       "      <td>1</td>\n",
       "      <td>20120309</td>\n",
       "      <td>2842567</td>\n",
       "      <td>20120309</td>\n",
       "      <td>49:58.7</td>\n",
       "      <td>2012</td>\n",
       "      <td>3</td>\n",
       "      <td>9</td>\n",
       "    </tr>\n",
       "    <tr>\n",
       "      <th>852</th>\n",
       "      <td>2012-02-07</td>\n",
       "      <td>2012</td>\n",
       "      <td>8</td>\n",
       "      <td>2012</td>\n",
       "      <td>2</td>\n",
       "      <td>7</td>\n",
       "      <td>101</td>\n",
       "      <td>254500401</td>\n",
       "      <td>200</td>\n",
       "      <td>GENIE14WCDLES</td>\n",
       "      <td>...</td>\n",
       "      <td>AUD</td>\n",
       "      <td>2181735</td>\n",
       "      <td>1</td>\n",
       "      <td>20120207</td>\n",
       "      <td>2829953</td>\n",
       "      <td>20120207</td>\n",
       "      <td>49:58.7</td>\n",
       "      <td>2012</td>\n",
       "      <td>2</td>\n",
       "      <td>7</td>\n",
       "    </tr>\n",
       "    <tr>\n",
       "      <th>940</th>\n",
       "      <td>2012-01-05</td>\n",
       "      <td>2012</td>\n",
       "      <td>7</td>\n",
       "      <td>2012</td>\n",
       "      <td>1</td>\n",
       "      <td>5</td>\n",
       "      <td>101</td>\n",
       "      <td>565540406</td>\n",
       "      <td>500</td>\n",
       "      <td>GENIE11WWWBC</td>\n",
       "      <td>...</td>\n",
       "      <td>AUD</td>\n",
       "      <td>2169721</td>\n",
       "      <td>1</td>\n",
       "      <td>20120105</td>\n",
       "      <td>2818837</td>\n",
       "      <td>20120105</td>\n",
       "      <td>49:58.7</td>\n",
       "      <td>2012</td>\n",
       "      <td>1</td>\n",
       "      <td>5</td>\n",
       "    </tr>\n",
       "    <tr>\n",
       "      <th>1257</th>\n",
       "      <td>2012-05-08</td>\n",
       "      <td>2012</td>\n",
       "      <td>11</td>\n",
       "      <td>2012</td>\n",
       "      <td>5</td>\n",
       "      <td>8</td>\n",
       "      <td>100</td>\n",
       "      <td>234750001</td>\n",
       "      <td>720</td>\n",
       "      <td>BWP/TLED219840</td>\n",
       "      <td>...</td>\n",
       "      <td>AUD</td>\n",
       "      <td>7002039</td>\n",
       "      <td>-2</td>\n",
       "      <td>20120508</td>\n",
       "      <td>5119676</td>\n",
       "      <td>20120508</td>\n",
       "      <td>49:58.7</td>\n",
       "      <td>2012</td>\n",
       "      <td>5</td>\n",
       "      <td>8</td>\n",
       "    </tr>\n",
       "    <tr>\n",
       "      <th>...</th>\n",
       "      <td>...</td>\n",
       "      <td>...</td>\n",
       "      <td>...</td>\n",
       "      <td>...</td>\n",
       "      <td>...</td>\n",
       "      <td>...</td>\n",
       "      <td>...</td>\n",
       "      <td>...</td>\n",
       "      <td>...</td>\n",
       "      <td>...</td>\n",
       "      <td>...</td>\n",
       "      <td>...</td>\n",
       "      <td>...</td>\n",
       "      <td>...</td>\n",
       "      <td>...</td>\n",
       "      <td>...</td>\n",
       "      <td>...</td>\n",
       "      <td>...</td>\n",
       "      <td>...</td>\n",
       "      <td>...</td>\n",
       "      <td>...</td>\n",
       "    </tr>\n",
       "    <tr>\n",
       "      <th>1985196</th>\n",
       "      <td>2013-09-19</td>\n",
       "      <td>2014</td>\n",
       "      <td>3</td>\n",
       "      <td>2013</td>\n",
       "      <td>9</td>\n",
       "      <td>19</td>\n",
       "      <td>205</td>\n",
       "      <td>502988001</td>\n",
       "      <td>500</td>\n",
       "      <td>BWP/T236H</td>\n",
       "      <td>...</td>\n",
       "      <td>AUD</td>\n",
       "      <td>2408807</td>\n",
       "      <td>2</td>\n",
       "      <td>20130919</td>\n",
       "      <td>3042762</td>\n",
       "      <td>20130812</td>\n",
       "      <td>49:58.7</td>\n",
       "      <td>2013</td>\n",
       "      <td>9</td>\n",
       "      <td>19</td>\n",
       "    </tr>\n",
       "    <tr>\n",
       "      <th>1985511</th>\n",
       "      <td>2013-08-16</td>\n",
       "      <td>2014</td>\n",
       "      <td>2</td>\n",
       "      <td>2013</td>\n",
       "      <td>8</td>\n",
       "      <td>16</td>\n",
       "      <td>101</td>\n",
       "      <td>200000000</td>\n",
       "      <td>200</td>\n",
       "      <td>JS97Q01</td>\n",
       "      <td>...</td>\n",
       "      <td>AUD</td>\n",
       "      <td>822811</td>\n",
       "      <td>0</td>\n",
       "      <td>20130816</td>\n",
       "      <td>1503017</td>\n",
       "      <td>20130816</td>\n",
       "      <td>49:58.7</td>\n",
       "      <td>2013</td>\n",
       "      <td>8</td>\n",
       "      <td>16</td>\n",
       "    </tr>\n",
       "    <tr>\n",
       "      <th>1986320</th>\n",
       "      <td>2013-10-18</td>\n",
       "      <td>2014</td>\n",
       "      <td>4</td>\n",
       "      <td>2013</td>\n",
       "      <td>10</td>\n",
       "      <td>18</td>\n",
       "      <td>205</td>\n",
       "      <td>478000711</td>\n",
       "      <td>410</td>\n",
       "      <td>27099</td>\n",
       "      <td>...</td>\n",
       "      <td>AUD</td>\n",
       "      <td>309571</td>\n",
       "      <td>0</td>\n",
       "      <td>20131018</td>\n",
       "      <td>938028</td>\n",
       "      <td>20131018</td>\n",
       "      <td>49:58.7</td>\n",
       "      <td>2013</td>\n",
       "      <td>10</td>\n",
       "      <td>18</td>\n",
       "    </tr>\n",
       "    <tr>\n",
       "      <th>1987850</th>\n",
       "      <td>2013-10-18</td>\n",
       "      <td>2014</td>\n",
       "      <td>4</td>\n",
       "      <td>2013</td>\n",
       "      <td>10</td>\n",
       "      <td>18</td>\n",
       "      <td>950</td>\n",
       "      <td>Z85033902</td>\n",
       "      <td>535</td>\n",
       "      <td>603356NZ</td>\n",
       "      <td>...</td>\n",
       "      <td>AUD</td>\n",
       "      <td>149953</td>\n",
       "      <td>2</td>\n",
       "      <td>20131018</td>\n",
       "      <td>3068879</td>\n",
       "      <td>20131015</td>\n",
       "      <td>49:58.7</td>\n",
       "      <td>2013</td>\n",
       "      <td>10</td>\n",
       "      <td>18</td>\n",
       "    </tr>\n",
       "    <tr>\n",
       "      <th>1988195</th>\n",
       "      <td>2013-11-01</td>\n",
       "      <td>2014</td>\n",
       "      <td>5</td>\n",
       "      <td>2013</td>\n",
       "      <td>11</td>\n",
       "      <td>1</td>\n",
       "      <td>205</td>\n",
       "      <td>289481715</td>\n",
       "      <td>200</td>\n",
       "      <td>DB218EL</td>\n",
       "      <td>...</td>\n",
       "      <td>AUD</td>\n",
       "      <td>2422559</td>\n",
       "      <td>1</td>\n",
       "      <td>20131101</td>\n",
       "      <td>3075926</td>\n",
       "      <td>20131101</td>\n",
       "      <td>49:58.7</td>\n",
       "      <td>2013</td>\n",
       "      <td>11</td>\n",
       "      <td>1</td>\n",
       "    </tr>\n",
       "  </tbody>\n",
       "</table>\n",
       "<p>8203 rows × 43 columns</p>\n",
       "</div>"
      ],
      "text/plain": [
       "        accounting_date  fiscal_year  fiscal_month  calendar_year  \\\n",
       "342          2012-05-31         2012            11           2012   \n",
       "546          2012-03-09         2012             9           2012   \n",
       "852          2012-02-07         2012             8           2012   \n",
       "940          2012-01-05         2012             7           2012   \n",
       "1257         2012-05-08         2012            11           2012   \n",
       "...                 ...          ...           ...            ...   \n",
       "1985196      2013-09-19         2014             3           2013   \n",
       "1985511      2013-08-16         2014             2           2013   \n",
       "1986320      2013-10-18         2014             4           2013   \n",
       "1987850      2013-10-18         2014             4           2013   \n",
       "1988195      2013-11-01         2014             5           2013   \n",
       "\n",
       "         calendar_month  calendar_day  company_code customer_code  \\\n",
       "342                   5            31           101     411800601   \n",
       "546                   3             9           101     299480705   \n",
       "852                   2             7           101     254500401   \n",
       "940                   1             5           101     565540406   \n",
       "1257                  5             8           100     234750001   \n",
       "...                 ...           ...           ...           ...   \n",
       "1985196               9            19           205     502988001   \n",
       "1985511               8            16           101     200000000   \n",
       "1986320              10            18           205     478000711   \n",
       "1987850              10            18           950     Z85033902   \n",
       "1988195              11             1           205     289481715   \n",
       "\n",
       "         customer_district_code       item_code  ... currency invoice_number  \\\n",
       "342                         410    GENIE14WWWBC  ...      AUD        2228160   \n",
       "546                         200    GENIE11WWWBC  ...      AUD        2194962   \n",
       "852                         200   GENIE14WCDLES  ...      AUD        2181735   \n",
       "940                         500    GENIE11WWWBC  ...      AUD        2169721   \n",
       "1257                        720  BWP/TLED219840  ...      AUD        7002039   \n",
       "...                         ...             ...  ...      ...            ...   \n",
       "1985196                     500       BWP/T236H  ...      AUD        2408807   \n",
       "1985511                     200         JS97Q01  ...      AUD         822811   \n",
       "1986320                     410           27099  ...      AUD         309571   \n",
       "1987850                     535        603356NZ  ...      AUD         149953   \n",
       "1988195                     200         DB218EL  ...      AUD        2422559   \n",
       "\n",
       "        line_number  invoice_date customer_order_number order_date  \\\n",
       "342               1      20120531               2875352   20120531   \n",
       "546               1      20120309               2842567   20120309   \n",
       "852               1      20120207               2829953   20120207   \n",
       "940               1      20120105               2818837   20120105   \n",
       "1257             -2      20120508               5119676   20120508   \n",
       "...             ...           ...                   ...        ...   \n",
       "1985196           2      20130919               3042762   20130812   \n",
       "1985511           0      20130816               1503017   20130816   \n",
       "1986320           0      20131018                938028   20131018   \n",
       "1987850           2      20131018               3068879   20131015   \n",
       "1988195           1      20131101               3075926   20131101   \n",
       "\n",
       "        dss_update_time accounting_year accounting_month accounting_day  \n",
       "342             49:58.7            2012                5             31  \n",
       "546             49:58.7            2012                3              9  \n",
       "852             49:58.7            2012                2              7  \n",
       "940             49:58.7            2012                1              5  \n",
       "1257            49:58.7            2012                5              8  \n",
       "...                 ...             ...              ...            ...  \n",
       "1985196         49:58.7            2013                9             19  \n",
       "1985511         49:58.7            2013                8             16  \n",
       "1986320         49:58.7            2013               10             18  \n",
       "1987850         49:58.7            2013               10             18  \n",
       "1988195         49:58.7            2013               11              1  \n",
       "\n",
       "[8203 rows x 43 columns]"
      ]
     },
     "metadata": {},
     "output_type": "display_data"
    }
   ],
   "source": [
    "# Check for duplicate rows based on all columns\n",
    "duplicate_rows = merged_data[merged_data.duplicated(keep='first')]\n",
    "\n",
    "# Display the duplicate rows\n",
    "print(\"Duplicate rows based on all columns:\")\n",
    "display(duplicate_rows)"
   ]
  },
  {
   "cell_type": "markdown",
   "metadata": {},
   "source": [
    "After identifying the duplicate records, it shows the duplicate records 8,209 rows, which we will remove."
   ]
  },
  {
   "cell_type": "code",
   "execution_count": 100,
   "metadata": {},
   "outputs": [
    {
     "name": "stdout",
     "output_type": "stream",
     "text": [
      "Data after removing duplicates: (1979195, 43)\n"
     ]
    }
   ],
   "source": [
    "# Remove duplicate rows based on all columns\n",
    "cleaned_data = merged_data.drop_duplicates()\n",
    "\n",
    "# Display the shape to confirm duplicates were removed\n",
    "print(\"Data after removing duplicates:\", cleaned_data.shape)"
   ]
  },
  {
   "cell_type": "markdown",
   "metadata": {},
   "source": [
    "## 4. Data Type Conversion\n",
    "- Ensure that each column has the appropriate data type (e.g., numeric, categorical, datetime).\n",
    "- Convert data types if needed (e.g., parsing date strings into datetime objects)."
   ]
  },
  {
   "cell_type": "code",
   "execution_count": 102,
   "metadata": {},
   "outputs": [
    {
     "name": "stdout",
     "output_type": "stream",
     "text": [
      "accounting_date             datetime64[ns]\n",
      "fiscal_year                          int64\n",
      "fiscal_month                         int64\n",
      "calendar_year                        int64\n",
      "calendar_month                       int64\n",
      "calendar_day                         int64\n",
      "company_code                         int64\n",
      "customer_code                       object\n",
      "customer_district_code               int64\n",
      "item_code                           object\n",
      "business_area_code                  object\n",
      "item_group_code                     object\n",
      "item_class_code                     object\n",
      "item_type                            int64\n",
      "bonus_group_code                    object\n",
      "environment_group_code              object\n",
      "technology_group_code               object\n",
      "commission_group_code               object\n",
      "reporting_classification            object\n",
      "light_source                        object\n",
      "warehouse_code                      object\n",
      "abc_class_code                      object\n",
      "abc_class_volume                    object\n",
      "business_chain_l1_code              object\n",
      "business_chain_l1_name              object\n",
      "contact_method_code                 object\n",
      "salesperson_code                    object\n",
      "order_type_code                     object\n",
      "market_segment                      object\n",
      "value_sales                        float64\n",
      "value_cost                         float64\n",
      "value_quantity                     float64\n",
      "value_price_adjustment               int64\n",
      "currency                            object\n",
      "invoice_number                       int64\n",
      "line_number                          int64\n",
      "invoice_date                         int64\n",
      "customer_order_number               object\n",
      "order_date                           int64\n",
      "dss_update_time                     object\n",
      "accounting_year                      int64\n",
      "accounting_month                     int64\n",
      "accounting_day                       int64\n",
      "dtype: object\n"
     ]
    }
   ],
   "source": [
    "# Check data types of each column\n",
    "print(merged_data.dtypes)"
   ]
  },
  {
   "cell_type": "markdown",
   "metadata": {},
   "source": [
    "- Datetime conversion improves flexibility for time-based analysis, enables accurate date calculations, and enhances data filtering."
   ]
  },
  {
   "cell_type": "code",
   "execution_count": 104,
   "metadata": {},
   "outputs": [],
   "source": [
    "merged_data['invoice_date'] = pd.to_datetime(merged_data['invoice_date'], format='%Y%m%d', errors='coerce')\n",
    "merged_data['order_date'] = pd.to_datetime(merged_data['order_date'], format='%Y%m%d', errors='coerce')"
   ]
  },
  {
   "cell_type": "markdown",
   "metadata": {},
   "source": [
    "- Categorical conversion reduces memory usage, speeds up processing, aids in machine learning, and maintains data integrity"
   ]
  },
  {
   "cell_type": "code",
   "execution_count": 106,
   "metadata": {},
   "outputs": [],
   "source": [
    "categorical_columns = [\n",
    "    'customer_code', 'item_code', 'business_area_code', 'item_group_code', 'item_class_code',\n",
    "    'bonus_group_code', 'environment_group_code', 'technology_group_code', 'commission_group_code',\n",
    "    'reporting_classification', 'light_source', 'warehouse_code', 'abc_class_code', 'business_chain_l1_code',\n",
    "    'business_chain_l1_name', 'contact_method_code', 'salesperson_code', 'order_type_code', 'market_segment', \n",
    "    'currency', 'customer_order_number'\n",
    "]\n",
    "merged_data[categorical_columns] = merged_data[categorical_columns].astype('category')"
   ]
  },
  {
   "cell_type": "markdown",
   "metadata": {},
   "source": [
    "- Check data types after data type conversion"
   ]
  },
  {
   "cell_type": "code",
   "execution_count": 108,
   "metadata": {},
   "outputs": [
    {
     "name": "stdout",
     "output_type": "stream",
     "text": [
      "accounting_date             datetime64[ns]\n",
      "fiscal_year                          int64\n",
      "fiscal_month                         int64\n",
      "calendar_year                        int64\n",
      "calendar_month                       int64\n",
      "calendar_day                         int64\n",
      "company_code                         int64\n",
      "customer_code                     category\n",
      "customer_district_code               int64\n",
      "item_code                         category\n",
      "business_area_code                category\n",
      "item_group_code                   category\n",
      "item_class_code                   category\n",
      "item_type                            int64\n",
      "bonus_group_code                  category\n",
      "environment_group_code            category\n",
      "technology_group_code             category\n",
      "commission_group_code             category\n",
      "reporting_classification          category\n",
      "light_source                      category\n",
      "warehouse_code                    category\n",
      "abc_class_code                    category\n",
      "abc_class_volume                    object\n",
      "business_chain_l1_code            category\n",
      "business_chain_l1_name            category\n",
      "contact_method_code               category\n",
      "salesperson_code                  category\n",
      "order_type_code                   category\n",
      "market_segment                    category\n",
      "value_sales                        float64\n",
      "value_cost                         float64\n",
      "value_quantity                     float64\n",
      "value_price_adjustment               int64\n",
      "currency                          category\n",
      "invoice_number                       int64\n",
      "line_number                          int64\n",
      "invoice_date                datetime64[ns]\n",
      "customer_order_number             category\n",
      "order_date                  datetime64[ns]\n",
      "dss_update_time                     object\n",
      "accounting_year                      int64\n",
      "accounting_month                     int64\n",
      "accounting_day                       int64\n",
      "dtype: object\n"
     ]
    }
   ],
   "source": [
    "# Check data types of each column\n",
    "print(merged_data.dtypes)"
   ]
  },
  {
   "cell_type": "markdown",
   "metadata": {},
   "source": [
    "## 5. Handling Outliers\n",
    "- Outliers can distort analysis, especially in statistical modeling. Identify them using visualization techniques (e.g., boxplots).\n",
    "- Decide whether to remove, transform, or keep outliers based on the context and goals of the analysis."
   ]
  },
  {
   "cell_type": "markdown",
   "metadata": {},
   "source": [
    "- Boxplot before cleaning outlier"
   ]
  },
  {
   "cell_type": "markdown",
   "metadata": {},
   "source": [
    "- value_sales, value_cost, value_quantity\n",
    "- Focusing on value-related columns, value_sales, value_cost, value_quantity is critical because these directly impact financial performance and operational decisions.\n",
    "- Based on the output of value_price_adjustment, it seems that this column primarily contains binary values (0 and 1), with an overwhelming majority being 0. This suggests that value_price_adjustment is likely a categorical or indicator variable rather than a continuous one."
   ]
  },
  {
   "cell_type": "code",
   "execution_count": 112,
   "metadata": {},
   "outputs": [
    {
     "name": "stdout",
     "output_type": "stream",
     "text": [
      "value_price_adjustment\n",
      "0    1938851\n",
      "1      48547\n",
      "Name: count, dtype: int64\n"
     ]
    }
   ],
   "source": [
    "print(merged_data['value_price_adjustment'].value_counts())"
   ]
  },
  {
   "cell_type": "code",
   "execution_count": 113,
   "metadata": {},
   "outputs": [
    {
     "data": {
      "image/png": "[encoded data removed]",
      "text/plain": [
       "<Figure size 1500x500 with 3 Axes>"
      ]
     },
     "metadata": {},
     "output_type": "display_data"
    }
   ],
   "source": [
    "# Set up the figure with a grid of 1x3 subplots\n",
    "fig, axes = plt.subplots(1, 3, figsize=(15, 5))\n",
    "\n",
    "# Plot the box plot for 'value_sales' in the first subplot\n",
    "merged_data['value_sales'].plot(kind='box', ax=axes[0])\n",
    "axes[0].set_title('Boxplot of value_sales')\n",
    "\n",
    "# Plot the box plot for 'value_cost' in the second subplot\n",
    "merged_data['value_cost'].plot(kind='box', ax=axes[1])\n",
    "axes[1].set_title('Boxplot of value_cost')\n",
    "\n",
    "# Plot the box plot for 'value_quantity' in the third subplot\n",
    "merged_data['value_quantity'].plot(kind='box', ax=axes[2])\n",
    "axes[2].set_title('Boxplot of value_quantity')\n",
    "\n",
    "# Adjust layout to prevent overlap\n",
    "plt.tight_layout()\n",
    "plt.show()"
   ]
  },
  {
   "cell_type": "markdown",
   "metadata": {},
   "source": [
    "- Histograms before cleaning outlier"
   ]
  },
  {
   "cell_type": "code",
   "execution_count": 115,
   "metadata": {},
   "outputs": [
    {
     "data": {
      "image/png": "[encoded data removed]",
      "text/plain": [
       "<Figure size 1500x500 with 3 Axes>"
      ]
     },
     "metadata": {},
     "output_type": "display_data"
    }
   ],
   "source": [
    "# Plot histograms for each variable\n",
    "fig, axes = plt.subplots(1, 3, figsize=(15, 5))\n",
    "\n",
    "# Histogram for value_sales\n",
    "axes[0].hist(merged_data['value_sales'], bins=30, edgecolor='black',log=True)\n",
    "axes[0].set_title('Histogram of value_sales')\n",
    "axes[0].set_xlabel('value_sales')\n",
    "axes[0].set_ylabel('Frequency')\n",
    "\n",
    "# Histogram for value_cost\n",
    "axes[1].hist(merged_data['value_cost'], bins=30, edgecolor='black',log=True)\n",
    "axes[1].set_title('Histogram of value_cost')\n",
    "axes[1].set_xlabel('value_cost')\n",
    "axes[1].set_ylabel('Frequency')\n",
    "\n",
    "# Histogram for value_quantity\n",
    "axes[2].hist(merged_data['value_quantity'], bins=30, edgecolor='black',log=True)\n",
    "axes[2].set_title('Histogram of value_quantity')\n",
    "axes[2].set_xlabel('value_quantity')\n",
    "axes[2].set_ylabel('Frequency')\n",
    "\n",
    "plt.tight_layout()\n",
    "plt.show()"
   ]
  },
  {
   "cell_type": "markdown",
   "metadata": {},
   "source": [
    "1. Highly Skewed Data:\n",
    "The data for each of these columns is highly skewed, meaning there are many low or zero values and only a few high values.\n",
    "This often occurs when there is a large number of small transactions (or even no transactions in some cases), and only a few large transactions.\n",
    "2. Sparse Distribution:\n",
    "The narrow and high central bars suggest that the vast majority of values are very close to zero, with few values spreading out across the range.\n",
    "This could indicate that only a small percentage of transactions have high value_sales, value_cost, or value_quantity.\n",
    "3. Potential Need for Transformation:\n",
    "Because of the skewness, the data may benefit from a log transformation or another method to spread the values more evenly, especially if you plan to perform analyses or modeling that assume normality.\n",
    "4. Zero or Minimal Transactions:\n",
    "If there are many transactions with zero or minimal values in these columns, it might be useful to analyze these zero-value transactions separately. This could be a sign of canceled orders, unpaid invoices, or other business cases where no significant sales, cost, or quantity were recorded."
   ]
  },
  {
   "cell_type": "markdown",
   "metadata": {},
   "source": [
    "- Outlier management in core metric"
   ]
  },
  {
   "cell_type": "code",
   "execution_count": 118,
   "metadata": {},
   "outputs": [
    {
     "name": "stdout",
     "output_type": "stream",
     "text": [
      "Extreme values in value_sales, value_cost, and value_quantity:\n",
      "         value_sales  value_cost  value_quantity order_type_code  \\\n",
      "51580   -765100.0000     -383.00            -5.0             CRR   \n",
      "51768    765100.0000      383.00             5.0             NOR   \n",
      "1683043  192388.9000   203595.15         89650.0             NOR   \n",
      "1858931  793541.9800   777669.20            11.0             NOR   \n",
      "1860865 -793541.9800        0.00             0.0             CRD   \n",
      "1860866  793541.9800   777669.20            11.0             NOR   \n",
      "1910302    1196.9964     1428.84        105000.0             EXP   \n",
      "\n",
      "         value_price_adjustment customer_code     item_code  \n",
      "51580                         0     602050300          GR99  \n",
      "51768                         0     602050300          GR99  \n",
      "1683043                       0     231920100        200767  \n",
      "1858931                       0     400100300      NS010015  \n",
      "1860865                       1     400100300      NS010015  \n",
      "1860866                       0     400100300      NS010015  \n",
      "1910302                       0     800640100  TJ01-0002-00  \n"
     ]
    }
   ],
   "source": [
    "# Define extreme boundaries based on your boxplot\n",
    "extreme_sales_upper = 600000\n",
    "extreme_sales_lower = -600000\n",
    "extreme_cost_upper = 600000\n",
    "extreme_cost_lower = -600000\n",
    "extreme_quantity_upper = 80000\n",
    "extreme_quantity_lower = -80000\n",
    "\n",
    "# Filter rows that meet any of these extreme conditions\n",
    "extreme_rows = merged_data[\n",
    "    (merged_data['value_sales'] > extreme_sales_upper) | \n",
    "    (merged_data['value_sales'] < extreme_sales_lower) | \n",
    "    (merged_data['value_cost'] > extreme_cost_upper) | \n",
    "    (merged_data['value_cost'] < extreme_cost_lower) |\n",
    "    (merged_data['value_quantity'] > extreme_quantity_upper) | \n",
    "    (merged_data['value_quantity'] < extreme_quantity_lower)\n",
    "]\n",
    "\n",
    "# Display the rows with extreme outliers\n",
    "# Display only the selected columns with extreme outliers\n",
    "extreme_columns = extreme_rows[['value_sales', 'value_cost', 'value_quantity','order_type_code','value_price_adjustment','customer_code','item_code']]\n",
    "\n",
    "# Show the result\n",
    "print(\"Extreme values in value_sales, value_cost, and value_quantity:\")\n",
    "print(extreme_columns)"
   ]
  },
  {
   "cell_type": "code",
   "execution_count": 119,
   "metadata": {},
   "outputs": [
    {
     "name": "stdout",
     "output_type": "stream",
     "text": [
      "         value_sales  value_cost  value_quantity order_type_code customer_code\n",
      "51580     -765100.00     -383.00            -5.0             CRR     602050300\n",
      "1823212     -3750.00    -1934.25           -25.0             CRR     646185705\n",
      "53013       -1414.16     -612.80            -8.0             CRR     361000410\n",
      "846528      -1060.62     -459.60            -6.0             CRR     361000414\n",
      "15084        -784.60     -761.76           -10.0             NOR     234750001\n",
      "...              ...         ...             ...             ...           ...\n",
      "1220601      8643.24     8242.56           108.0             NOR     234750001\n",
      "852050      12004.50    11448.00           150.0             NOR     234750001\n",
      "1220733     13284.98    12669.12           166.0             NOR     234750001\n",
      "1823950     24104.80    23865.84           290.0             NOR     234750001\n",
      "51768      765100.00      383.00             5.0             NOR     602050300\n",
      "\n",
      "[308 rows x 5 columns]\n"
     ]
    }
   ],
   "source": [
    "filtered_data_gr99 = merged_data[merged_data['item_code'] == 'GR99'][['value_sales', 'value_cost', 'value_quantity','order_type_code','customer_code']].sort_values(by=['value_sales'], ascending=True)\n",
    "print(filtered_data_gr99)"
   ]
  },
  {
   "cell_type": "markdown",
   "metadata": {},
   "source": [
    "Drop extream outlier with item code GR99\n",
    "1. Both rows have reversed, extreme values for value_sales and value_cost, indicating potential data entry errors.\n",
    "2. These values are inconsistent with other entries for the same item_code (GR99) and the same customer, which follow a more typical pattern.\n",
    "3. One entry is marked as a normal order (order_type_code = NOR), while the other appears to be a credit return (order_type_code = CRR). This mixed coding, coupled with reversed values, suggests that these entries are likely erroneous."
   ]
  },
  {
   "cell_type": "code",
   "execution_count": 121,
   "metadata": {},
   "outputs": [],
   "source": [
    "# Drop rows with indices 51580 and 51768\n",
    "merged_data = merged_data.drop(index=[51580, 51768])"
   ]
  },
  {
   "cell_type": "code",
   "execution_count": 122,
   "metadata": {},
   "outputs": [
    {
     "name": "stdout",
     "output_type": "stream",
     "text": [
      "         value_sales  value_cost  value_quantity order_type_code customer_code\n",
      "595042      -2928.00        0.00             0.0             CRD     134860100\n",
      "596849      -2065.00        0.00             0.0             CRD     471000816\n",
      "1682855      -790.00        0.00             0.0             CRD     471200007\n",
      "521263       -531.30     -531.42          -300.0             CRD     231920100\n",
      "510829       -522.24     -339.32           -85.0             ZCG     Z45501801\n",
      "...              ...         ...             ...             ...           ...\n",
      "1683763     13330.00    13307.06          6200.0             NOR     231900101\n",
      "1683002     15360.00    10730.00          5000.0             NOR     471000816\n",
      "1683452     26825.00    26828.75         12500.0             NOR     231920100\n",
      "1682374    102847.05   108837.68         47925.0             NOR     231920100\n",
      "1683043    192388.90   203595.15         89650.0             NOR     231920100\n",
      "\n",
      "[4288 rows x 5 columns]\n"
     ]
    }
   ],
   "source": [
    "filtered_data_200767 = merged_data[merged_data['item_code'] == '200767'][['value_sales', 'value_cost', 'value_quantity','order_type_code','customer_code']].sort_values(by=['value_sales'], ascending=True)\n",
    "print(filtered_data_200767)"
   ]
  },
  {
   "cell_type": "code",
   "execution_count": 123,
   "metadata": {},
   "outputs": [
    {
     "name": "stdout",
     "output_type": "stream",
     "text": [
      "         value_sales  value_cost  value_quantity order_type_code customer_code\n",
      "1528007      32400.0    32400.00         54000.0             NOR     231920100\n",
      "1683043     192388.9   203595.15         89650.0             NOR     231920100\n",
      "1808060      11480.0    11466.00         70000.0             NOR     231920100\n",
      "1820001      56180.0    56180.00         53000.0             NOR     231920100\n"
     ]
    }
   ],
   "source": [
    "# Define a threshold for high quantity\n",
    "high_quantity_threshold = 50000\n",
    "\n",
    "# Filter similar transactions with 'NOR' order_type_code and high quantities\n",
    "similar_nor_transactions = merged_data[\n",
    "    (merged_data['order_type_code'] == 'NOR') &\n",
    "    (merged_data['value_quantity'] >= high_quantity_threshold)\n",
    "][['value_sales', 'value_cost', 'value_quantity', 'order_type_code', 'customer_code']]\n",
    "\n",
    "# Display the first few rows to observe any patterns\n",
    "print(similar_nor_transactions.head(20))"
   ]
  },
  {
   "cell_type": "markdown",
   "metadata": {},
   "source": [
    "For the extream outlier with item code 200767, keeping this outlier is reasonable, as it exhibits consistent characteristics with other high-quantity transactions, especially for the same customer. Dropping it would mean losing a valid record of a high-volume sale that aligns with expected business patterns."
   ]
  },
  {
   "cell_type": "code",
   "execution_count": 125,
   "metadata": {},
   "outputs": [
    {
     "name": "stdout",
     "output_type": "stream",
     "text": [
      "         value_sales  value_cost  value_quantity order_type_code customer_code\n",
      "1858931    793541.98    777669.2            11.0             NOR     400100300\n",
      "1860865   -793541.98         0.0             0.0             CRD     400100300\n",
      "1860866    793541.98    777669.2            11.0             NOR     400100300\n"
     ]
    }
   ],
   "source": [
    "filtered_data_NS010015 = merged_data[merged_data['item_code'] == 'NS010015'][['value_sales', 'value_cost', 'value_quantity','order_type_code','customer_code']]\n",
    "print(filtered_data_NS010015)"
   ]
  },
  {
   "cell_type": "markdown",
   "metadata": {},
   "source": [
    "1. When looking at the three rows for this item code, there’s one row (ID 1860865) that has a negative value_sales (-793541.98) and a value_cost of 0. This pattern is unusual, as it represents a \"credit\" transaction with no cost and may indicate an adjustment or erroneous entry.\n",
    "2. The other two rows (1858931 and 1860866) are identical in terms of value_sales, value_cost, and value_quantity. Retaining both would double-count the transaction, thus distorting the actual revenue, cost, and quantity figures for this item and customer.\n",
    "\n",
    "In this section we decided to drop Rows 1860865 (the row with a negative sales value) and 1860866 (one of the duplicate entries)."
   ]
  },
  {
   "cell_type": "code",
   "execution_count": 127,
   "metadata": {},
   "outputs": [],
   "source": [
    "# Drop rows with indices 1860865 and 1860866\n",
    "merged_data = merged_data.drop(index=[1860865, 1860866])"
   ]
  },
  {
   "cell_type": "code",
   "execution_count": 128,
   "metadata": {},
   "outputs": [
    {
     "name": "stdout",
     "output_type": "stream",
     "text": [
      "         value_sales  value_cost  value_quantity order_type_code customer_code\n",
      "1910300    -216.0000       0.000             0.0             CRD     800640100\n",
      "1910301     205.2000       0.000             0.0             COP     800640100\n",
      "1910302    1196.9964    1428.840        105000.0             EXP     800640100\n",
      "1910303     216.0000     244.944         18000.0             EXP     800640100\n",
      "1910304     143.9964     163.296         12000.0             EXP     800640100\n",
      "1910305     855.0036    1020.600         75000.0             EXP     800640100\n"
     ]
    }
   ],
   "source": [
    "filtered_data_TJ01 = merged_data[merged_data['item_code'] == 'TJ01-0002-00'][['value_sales', 'value_cost', 'value_quantity','order_type_code','customer_code']]\n",
    "print(filtered_data_TJ01)"
   ]
  },
  {
   "cell_type": "markdown",
   "metadata": {},
   "source": [
    "The outlier in row 1910302, this high-quantity transaction fits within the expected context of export orders and does not present data inconsistencies, it should be kept as a valid entry in your dataset. The reasoning is grounded in the typical behavior of export transactions and the item’s sales characteristics."
   ]
  },
  {
   "cell_type": "markdown",
   "metadata": {},
   "source": [
    "- Outlier management with zero and olaceholder values"
   ]
  },
  {
   "cell_type": "code",
   "execution_count": 131,
   "metadata": {},
   "outputs": [
    {
     "name": "stdout",
     "output_type": "stream",
     "text": [
      "Number of zero values in value_sales: 22134\n",
      "Number of zero values in value_cost: 49923\n",
      "Number of zero values in value_quantity: 48549\n"
     ]
    }
   ],
   "source": [
    "# Count zero values in each column\n",
    "zero_value_sales = (merged_data['value_sales'] == 0).sum()\n",
    "zero_value_cost = (merged_data['value_cost'] == 0).sum()\n",
    "zero_value_quantity = (merged_data['value_quantity'] == 0).sum()\n",
    "\n",
    "# Display the counts\n",
    "print(\"Number of zero values in value_sales:\", zero_value_sales)\n",
    "print(\"Number of zero values in value_cost:\", zero_value_cost)\n",
    "print(\"Number of zero values in value_quantity:\", zero_value_quantity)"
   ]
  },
  {
   "cell_type": "markdown",
   "metadata": {},
   "source": [
    "- If all three columns (value_sales, value_cost, and value_quantity) have a value of zero, it likely means that the transaction didn't result in any sales, cost, or quantity. This might indicate a canceled transaction, a placeholder entry, or data that was recorded without any real financial or quantitative impact\n",
    "- we decided to dropping rows with zero values in value_sales, value_cost, and value_quantity ensures data relevance, avoids distortion in aggregated metrics, maintains consistency in transaction records, and upholds data integrity. This approach helps your analysis reflect actual, meaningful transactions, leading to more accurate insights and decision-making."
   ]
  },
  {
   "cell_type": "code",
   "execution_count": 133,
   "metadata": {},
   "outputs": [
    {
     "name": "stdout",
     "output_type": "stream",
     "text": [
      "Data after filtering out rows with all zero values in 'value_sales', 'value_cost', and 'value_quantity':\n",
      "        accounting_date  fiscal_year  fiscal_month  calendar_year  \\\n",
      "0            2012-05-09         2012            11           2012   \n",
      "1            2012-02-16         2012             8           2012   \n",
      "2            2012-05-09         2012            11           2012   \n",
      "3            2012-05-18         2012            11           2012   \n",
      "4            2012-01-09         2012             7           2012   \n",
      "...                 ...          ...           ...            ...   \n",
      "1988377      2013-11-06         2014             5           2013   \n",
      "1988378      2013-07-17         2014             1           2013   \n",
      "1988379      2013-10-21         2014             4           2013   \n",
      "1988380      2013-11-01         2014             5           2013   \n",
      "1988381      2013-09-25         2014             3           2013   \n",
      "\n",
      "         calendar_month  calendar_day  company_code customer_code  \\\n",
      "0                     5             9           101     411800601   \n",
      "1                     2            16           101     361000403   \n",
      "2                     5             9           101     361000403   \n",
      "3                     5            18           101     565540415   \n",
      "4                     1             9           101     565540415   \n",
      "...                 ...           ...           ...           ...   \n",
      "1988377              11             6           101     299480704   \n",
      "1988378               7            17           101     500900630   \n",
      "1988379              10            21           205     552800304   \n",
      "1988380              11             1           101     565540407   \n",
      "1988381               9            25           101     565540407   \n",
      "\n",
      "         customer_district_code    item_code  ... currency invoice_number  \\\n",
      "0                           410  GENIE8WWWBC  ...      AUD        2217887   \n",
      "1                           300  GENIE8WWWBC  ...      AUD        2185745   \n",
      "2                           300  GENIE8WWWBC  ...      AUD        2217807   \n",
      "3                           500  GENIE8WWWBC  ...      AUD        2222758   \n",
      "4                           500  GENIE8WWWBC  ...      AUD        2170374   \n",
      "...                         ...          ...  ...      ...            ...   \n",
      "1988377                     200  TWG114/2005  ...      AUD        2423898   \n",
      "1988378                     500  SCRN236E2F4  ...      AUD        2383667   \n",
      "1988379                     500     DOT92STW  ...      AUD        2419020   \n",
      "1988380                     500  TWG114/2005  ...      AUD        2422799   \n",
      "1988381                     500  TWG114/2005  ...      AUD        2411003   \n",
      "\n",
      "        line_number  invoice_date customer_order_number order_date  \\\n",
      "0                 1    2012-05-09               2865354 2012-05-09   \n",
      "1                 1    2012-02-16               2833515 2012-02-16   \n",
      "2                 1    2012-05-09               2864857 2012-05-08   \n",
      "3                 1    2012-05-18               2869759 2012-05-18   \n",
      "4                 1    2012-01-09               2819189 2012-01-09   \n",
      "...             ...           ...                   ...        ...   \n",
      "1988377           1    2013-11-06               3079784 2013-11-06   \n",
      "1988378           1    2013-07-17               3024473 2013-06-27   \n",
      "1988379           1    2013-10-21               3070986 2013-10-21   \n",
      "1988380           1    2013-11-01               3073478 2013-10-28   \n",
      "1988381           1    2013-09-25               3060996 2013-09-25   \n",
      "\n",
      "        dss_update_time accounting_year accounting_month accounting_day  \n",
      "0               49:58.7            2012                5              9  \n",
      "1               49:58.7            2012                2             16  \n",
      "2               49:58.7            2012                5              9  \n",
      "3               49:58.7            2012                5             18  \n",
      "4               49:58.7            2012                1              9  \n",
      "...                 ...             ...              ...            ...  \n",
      "1988377         49:58.7            2013               11              6  \n",
      "1988378         49:58.7            2013                7             17  \n",
      "1988379         49:58.7            2013               10             21  \n",
      "1988380         49:58.7            2013               11              1  \n",
      "1988381         49:58.7            2013                9             25  \n",
      "\n",
      "[1987159 rows x 43 columns]\n"
     ]
    }
   ],
   "source": [
    "# Step 1: Filter out rows where 'value_sales', 'value_cost', and 'value_quantity' are all zero\n",
    "merged_data = merged_data[\n",
    "    ~((merged_data['value_sales'] == 0) &\n",
    "      (merged_data['value_cost'] == 0) &\n",
    "      (merged_data['value_quantity'] == 0))\n",
    "]\n",
    "\n",
    "# Display the filtered data to confirm the rows are removed\n",
    "print(\"Data after filtering out rows with all zero values in 'value_sales', 'value_cost', and 'value_quantity':\")\n",
    "print(merged_data)"
   ]
  },
  {
   "cell_type": "code",
   "execution_count": 134,
   "metadata": {},
   "outputs": [
    {
     "name": "stdout",
     "output_type": "stream",
     "text": [
      "Order Type Codes where value_sales, value_cost, and value_quantity are all zero:\n",
      "Series([], Name: count, dtype: int64)\n"
     ]
    }
   ],
   "source": [
    "# Check the result to ensure rows are removed\n",
    "zero_values_data = merged_data[\n",
    "    (merged_data['value_sales'] == 0) &\n",
    "    (merged_data['value_cost'] == 0) &\n",
    "    (merged_data['value_quantity'] == 0)\n",
    "]\n",
    "\n",
    "# Count the occurrences of each unique order_type_code\n",
    "order_type_code_counts = zero_values_data.value_counts()\n",
    "\n",
    "# Display the results\n",
    "print(\"Order Type Codes where value_sales, value_cost, and value_quantity are all zero:\")\n",
    "print(order_type_code_counts)"
   ]
  },
  {
   "cell_type": "markdown",
   "metadata": {},
   "source": [
    "- Outlier management in data anomalies"
   ]
  },
  {
   "cell_type": "code",
   "execution_count": 136,
   "metadata": {},
   "outputs": [
    {
     "name": "stdout",
     "output_type": "stream",
     "text": [
      "Number of rows where value_sales is less than value_cost: 148474\n"
     ]
    }
   ],
   "source": [
    "# Filter rows where value_sales is less than value_cost\n",
    "sales_less_than_cost = merged_data[merged_data['value_sales'] < merged_data['value_cost']]\n",
    "\n",
    "# Display the number of rows that meet this condition\n",
    "print(\"Number of rows where value_sales is less than value_cost:\", sales_less_than_cost.shape[0])"
   ]
  },
  {
   "cell_type": "code",
   "execution_count": 137,
   "metadata": {},
   "outputs": [
    {
     "name": "stdout",
     "output_type": "stream",
     "text": [
      "Order class Codes where value_sales is less than value_cost:\n",
      "abc_class_code\n",
      "J    57655\n",
      "D    26979\n",
      "A    16063\n",
      "U    13670\n",
      "B     9250\n",
      "C     8917\n",
      "G     8366\n",
      "E     3802\n",
      "I     3168\n",
      "F      604\n",
      "Name: count, dtype: int64\n"
     ]
    }
   ],
   "source": [
    "# Get the unique order_type_code values for rows where value_sales < value_cost\n",
    "order_class_code_counts = sales_less_than_cost['abc_class_code'].value_counts()\n",
    "\n",
    "# Display the result\n",
    "print(\"Order class Codes where value_sales is less than value_cost:\")\n",
    "print(order_class_code_counts)"
   ]
  },
  {
   "cell_type": "markdown",
   "metadata": {},
   "source": [
    "The rationale for considering the removal of rows where value_sales < value_cost for abc_class_code categories C, G, I, and F is as follows:\n",
    "\n",
    "- C (Low Sellers): This category consists of low-selling products. Selling these items at a loss may indicate inefficiency or business challenges, as these products typically shouldn't be sold below cost continuously.\n",
    "- G (Component with no usage): This category includes components with no usage. Selling these below cost may not add real value to the business and suggests that they are being sold at a loss without generating a clear benefit.\n",
    "- I (Indent Items - full lead time applies): Items that require full lead time to import, usually with higher associated costs due to import and storage. Selling these at a loss may be unwise, as they typically shouldn't be heavily discounted due to their import-related costs.\n",
    "- F (New Items <6 months old): Newly introduced items less than six months old are expected to sell at a profitable price, as they are fresh in the market. Selling them below cost may indicate improper pricing or valuation issues."
   ]
  },
  {
   "cell_type": "code",
   "execution_count": 139,
   "metadata": {},
   "outputs": [
    {
     "name": "stdout",
     "output_type": "stream",
     "text": [
      "Rows with price adjustment (value_price_adjustment = 1) where value_sales < value_cost for abc_class_code 'C': 3221\n",
      "Rows without price adjustment (value_price_adjustment = 0) where value_sales < value_cost for abc_class_code 'C': 5696\n",
      "\n",
      "\n",
      "Rows with price adjustment (value_price_adjustment = 1) where value_sales < value_cost for abc_class_code 'G': 5179\n",
      "Rows without price adjustment (value_price_adjustment = 0) where value_sales < value_cost for abc_class_code 'G': 3187\n",
      "\n",
      "\n",
      "Rows with price adjustment (value_price_adjustment = 1) where value_sales < value_cost for abc_class_code 'I': 731\n",
      "Rows without price adjustment (value_price_adjustment = 0) where value_sales < value_cost for abc_class_code 'I': 2437\n",
      "\n",
      "\n",
      "Rows with price adjustment (value_price_adjustment = 1) where value_sales < value_cost for abc_class_code 'F': 12\n",
      "Rows without price adjustment (value_price_adjustment = 0) where value_sales < value_cost for abc_class_code 'F': 592\n",
      "\n",
      "\n"
     ]
    }
   ],
   "source": [
    "# Define the categories to analyze\n",
    "categories_to_check = ['C', 'G', 'I', 'F']\n",
    "\n",
    "# Loop over each category and filter the data\n",
    "for category in categories_to_check:\n",
    "    # Filter rows where value_sales < value_cost and value_price_adjustment = 1 for each abc_class_code\n",
    "    price_adjustment_data = merged_data[\n",
    "        (merged_data['value_sales'] < merged_data['value_cost']) &\n",
    "        (merged_data['value_price_adjustment'] == 1) &\n",
    "        (merged_data['abc_class_code'] == category)\n",
    "    ]\n",
    "\n",
    "    # Filter rows where value_sales < value_cost and value_price_adjustment = 0 for each abc_class_code\n",
    "    no_price_adjustment_data = merged_data[\n",
    "        (merged_data['value_sales'] < merged_data['value_cost']) &\n",
    "        (merged_data['value_price_adjustment'] == 0) &\n",
    "        (merged_data['abc_class_code'] == category)\n",
    "    ]\n",
    "\n",
    "    # Display the counts\n",
    "    print(f\"Rows with price adjustment (value_price_adjustment = 1) where value_sales < value_cost for abc_class_code '{category}':\", price_adjustment_data.shape[0])\n",
    "    print(f\"Rows without price adjustment (value_price_adjustment = 0) where value_sales < value_cost for abc_class_code '{category}':\", no_price_adjustment_data.shape[0])\n",
    "    print(\"\\n\")"
   ]
  },
  {
   "cell_type": "markdown",
   "metadata": {},
   "source": [
    "Dropping rows where value_sales < value_cost and value_price_adjustment = 0 for specific abc_class_codes like ['C', 'G', 'I', 'F']\n",
    "- Removing rows with value_sales < value_cost and value_price_adjustment = 0 for specific product categories ensures that the dataset aligns with realistic business scenarios, enhances data quality, and prevents errors from impacting analysis and decision-making"
   ]
  },
  {
   "cell_type": "code",
   "execution_count": 141,
   "metadata": {},
   "outputs": [
    {
     "name": "stdout",
     "output_type": "stream",
     "text": [
      "Data shape after dropping rows: (1975247, 43)\n"
     ]
    }
   ],
   "source": [
    "# Define the categories to filter for dropping\n",
    "categories_to_drop = ['C', 'G', 'I', 'F']\n",
    "\n",
    "# Filter the rows to keep (i.e., those that don't meet the criteria for dropping)\n",
    "filtered_data = merged_data[\n",
    "    ~((merged_data['value_sales'] < merged_data['value_cost']) &\n",
    "      (merged_data['value_price_adjustment'] == 0) &\n",
    "      (merged_data['abc_class_code'].isin(categories_to_drop)))\n",
    "]\n",
    "\n",
    "# Assign the filtered data back to merged_data\n",
    "merged_data = filtered_data\n",
    "\n",
    "# Display the new shape of merged_data to confirm rows have been dropped\n",
    "print(\"Data shape after dropping rows:\", merged_data.shape)"
   ]
  },
  {
   "cell_type": "code",
   "execution_count": 142,
   "metadata": {},
   "outputs": [
    {
     "name": "stdout",
     "output_type": "stream",
     "text": [
      "Order Type Codes where value_sales is less than value_cost:\n",
      "order_type_code\n",
      "CRD    47206\n",
      "CRR    45018\n",
      "NOR    30759\n",
      "CDG    11781\n",
      "NOH     3339\n",
      "SPC     2740\n",
      "ZCG     1883\n",
      "ZCR     1402\n",
      "PMO     1025\n",
      "EXP      530\n",
      "CPR      519\n",
      "PRD      417\n",
      "PRO      345\n",
      "CRP      294\n",
      "AES      238\n",
      "PUP      232\n",
      "CSH      218\n",
      "5TN      215\n",
      "PPO      121\n",
      "NOS       78\n",
      "EDI       73\n",
      "MIN       13\n",
      "COA       12\n",
      "PSA       11\n",
      "WDC        2\n",
      "ZC2        1\n",
      "ZD3        1\n",
      "OBS        1\n",
      "PPD        0\n",
      "SPL        0\n",
      "PM0        0\n",
      "PGS        0\n",
      "EDS        0\n",
      "CSO        0\n",
      "COP        0\n",
      "ZOP        0\n",
      "Name: count, dtype: int64\n"
     ]
    }
   ],
   "source": [
    "# Get the unique order_type_code values for rows where value_sales < value_cost\n",
    "order_type_code_counts = sales_less_than_cost['order_type_code'].value_counts()\n",
    "\n",
    "# Display the result\n",
    "print(\"Order Type Codes where value_sales is less than value_cost:\")\n",
    "print(order_type_code_counts)"
   ]
  },
  {
   "cell_type": "code",
   "execution_count": 143,
   "metadata": {},
   "outputs": [
    {
     "data": {
      "text/plain": [
       "3584"
      ]
     },
     "execution_count": 143,
     "metadata": {},
     "output_type": "execute_result"
    }
   ],
   "source": [
    "# Filtering for rows where quantity is negative for normal orders (NOR, NOH, NOS)\n",
    "negative_quantity_normal_orders = merged_data[\n",
    "    (merged_data['order_type_code'].isin(['NOR', 'NOH', 'NOS'])) & \n",
    "    (merged_data['value_quantity'] < 0)\n",
    "]\n",
    "\n",
    "# Count the rows that meet this condition\n",
    "negative_quantity_count = negative_quantity_normal_orders.shape[0]\n",
    "negative_quantity_count"
   ]
  },
  {
   "cell_type": "markdown",
   "metadata": {},
   "source": [
    "For normal orders (NOR, NOH, NOS), in a typical business context, these orders should not have returns or negative quantities. These are straightforward purchases where the customer orders goods, and the transaction reflects normal sales figures. Generally, if there is a negative quantity in these types of orders"
   ]
  },
  {
   "cell_type": "code",
   "execution_count": 145,
   "metadata": {},
   "outputs": [
    {
     "data": {
      "text/plain": [
       "0"
      ]
     },
     "execution_count": 145,
     "metadata": {},
     "output_type": "execute_result"
    }
   ],
   "source": [
    "# Remove rows where quantity is negative in normal orders (NOR, NOH, NOS)\n",
    "merged_data = merged_data[\n",
    "    ~((merged_data['order_type_code'].isin(['NOR', 'NOH', 'NOS'])) & \n",
    "      (merged_data['value_quantity'] < 0))\n",
    "]\n",
    "\n",
    "# Filtering for rows where quantity is negative for normal orders (NOR, NOH, NOS)\n",
    "negative_quantity_normal_orders = merged_data[\n",
    "    (merged_data['order_type_code'].isin(['NOR', 'NOH', 'NOS'])) & \n",
    "    (merged_data['value_quantity'] < 0)\n",
    "]\n",
    "\n",
    "# Count the rows that meet this condition\n",
    "negative_quantity_count = negative_quantity_normal_orders.shape[0]\n",
    "negative_quantity_count"
   ]
  },
  {
   "cell_type": "markdown",
   "metadata": {},
   "source": [
    "- Outlier management with day gap"
   ]
  },
  {
   "cell_type": "code",
   "execution_count": 147,
   "metadata": {},
   "outputs": [],
   "source": [
    "# Calculate the day gap\n",
    "merged_data['day_gap'] = (merged_data['accounting_date'] - merged_data['order_date']).dt.days"
   ]
  },
  {
   "cell_type": "code",
   "execution_count": 148,
   "metadata": {},
   "outputs": [
    {
     "data": {
      "image/png": "[encoded data removed]",
      "text/plain": [
       "<Figure size 1200x800 with 1 Axes>"
      ]
     },
     "metadata": {},
     "output_type": "display_data"
    }
   ],
   "source": [
    "# Plotting a box plot for day gap by each order type code\n",
    "plt.figure(figsize=(12, 8))\n",
    "sns.boxplot(data=merged_data, x='order_type_code', y='day_gap')\n",
    "plt.xticks(rotation=90)\n",
    "plt.title(\"Box Plot of Day Gap by Order Type Code\")\n",
    "plt.xlabel(\"Order Type Code\")\n",
    "plt.ylabel(\"Day Gap (days)\")\n",
    "plt.show()"
   ]
  },
  {
   "cell_type": "code",
   "execution_count": 149,
   "metadata": {},
   "outputs": [
    {
     "name": "stdout",
     "output_type": "stream",
     "text": [
      "Max day gap: 1672 days\n",
      "Min day gap: -6 days\n",
      "Median day gap: 0.0 days\n",
      "The average day gap between order date and accounting date is: 3.69 days\n"
     ]
    }
   ],
   "source": [
    "max_day_gap = merged_data['day_gap'].max()\n",
    "min_day_gap = merged_data['day_gap'].min()\n",
    "median_day_gap = merged_data['day_gap'].median()\n",
    "average_day_gap = merged_data['day_gap'].mean()\n",
    "print(f\"Max day gap: {max_day_gap} days\")\n",
    "print(f\"Min day gap: {min_day_gap} days\")\n",
    "print(f\"Median day gap: {median_day_gap} days\")\n",
    "print(f\"The average day gap between order date and accounting date is: {average_day_gap:.2f} days\")"
   ]
  },
  {
   "cell_type": "markdown",
   "metadata": {},
   "source": [
    "For max day gap 1672 days it is unrealistic Processing Time: A day gap of 1,672 days (almost 4.5 years) is highly unusual for typical order processing. This value far exceeds the reasonable timeframe for any order-to-accounting process, suggesting an error or anomaly in data entry. So we decided to drop that column."
   ]
  },
  {
   "cell_type": "code",
   "execution_count": 151,
   "metadata": {},
   "outputs": [],
   "source": [
    "merged_data = merged_data[merged_data['day_gap'] != 1672]"
   ]
  },
  {
   "cell_type": "markdown",
   "metadata": {},
   "source": [
    "- Check day gap with negative value"
   ]
  },
  {
   "cell_type": "code",
   "execution_count": 153,
   "metadata": {},
   "outputs": [
    {
     "name": "stdout",
     "output_type": "stream",
     "text": [
      "       order_date accounting_date  day_gap order_type_code\n",
      "526191 2012-01-10      2012-01-09       -1             5TN\n",
      "526192 2012-01-10      2012-01-09       -1             5TN\n",
      "526193 2012-01-10      2012-01-09       -1             5TN\n",
      "526194 2012-01-10      2012-01-09       -1             5TN\n",
      "526195 2012-01-10      2012-01-09       -1             5TN\n",
      "526196 2012-01-10      2012-01-09       -1             5TN\n",
      "527063 2012-01-09      2012-01-03       -6             5TN\n",
      "527064 2012-01-09      2012-01-03       -6             5TN\n",
      "527065 2012-01-09      2012-01-03       -6             5TN\n",
      "527066 2012-01-09      2012-01-03       -6             5TN\n",
      "527651 2012-01-09      2012-01-03       -6             5TN\n",
      "527652 2012-01-09      2012-01-03       -6             5TN\n",
      "527653 2012-01-09      2012-01-03       -6             5TN\n",
      "527654 2012-01-09      2012-01-03       -6             5TN\n",
      "527655 2012-01-09      2012-01-03       -6             5TN\n",
      "527656 2012-01-09      2012-01-03       -6             5TN\n",
      "527666 2012-01-09      2012-01-03       -6             5TN\n",
      "527667 2012-01-09      2012-01-03       -6             5TN\n",
      "527668 2012-01-09      2012-01-03       -6             5TN\n",
      "527669 2012-01-09      2012-01-03       -6             5TN\n",
      "527670 2012-01-09      2012-01-03       -6             5TN\n",
      "527671 2012-01-09      2012-01-03       -6             5TN\n",
      "527672 2012-01-09      2012-01-03       -6             5TN\n",
      "527777 2012-01-09      2012-01-03       -6             5TN\n",
      "527778 2012-01-09      2012-01-03       -6             5TN\n",
      "527779 2012-01-09      2012-01-03       -6             5TN\n",
      "527780 2012-01-09      2012-01-03       -6             5TN\n",
      "527781 2012-01-09      2012-01-03       -6             5TN\n",
      "527782 2012-01-09      2012-01-03       -6             5TN\n",
      "527819 2012-01-09      2012-01-03       -6             5TN\n",
      "528983 2012-01-10      2012-01-09       -1             5TN\n",
      "528984 2012-01-10      2012-01-09       -1             5TN\n"
     ]
    }
   ],
   "source": [
    "# Filter rows where day_gap is less than 0\n",
    "negative_day_gap = merged_data[merged_data['day_gap'] < 0]\n",
    "\n",
    "# Display the result\n",
    "print(negative_day_gap[['order_date', 'accounting_date', 'day_gap','order_type_code']])"
   ]
  },
  {
   "cell_type": "markdown",
   "metadata": {},
   "source": [
    "Typically, it would be unusual for the order_date to be later than the accounting_date (resulting in a negative day_gap). This might indicate that data entry errors dates may have been recorded incorrectly, either for order_date or accounting_date. So we decided to drop it."
   ]
  },
  {
   "cell_type": "code",
   "execution_count": 155,
   "metadata": {},
   "outputs": [],
   "source": [
    "# Drop rows where day_gap is less than 0\n",
    "merged_data = merged_data[merged_data['day_gap'] >= 0]"
   ]
  },
  {
   "cell_type": "markdown",
   "metadata": {},
   "source": [
    "Define Grouping for order_type_code\n",
    "\n",
    "- Normal Order: NOR, NOS, NOH\n",
    "- Project Order: PRO, PRD, PMO, PM0\n",
    "- Credit Adjustment: CRD, CRP, CRR, COP, COA\n",
    "- Specialty Orders: AES, SPC, PUP\n",
    "- Export Order: EXP\n",
    "- Do Not Use: EDS, OBS, PPD, WDC, PGS, SPL, ZOP, ZC2, 5TN, PPO, ZD3, CSO\n",
    "- Other: Any remaining types (such as EDI or specific exceptions like ZCG, ZCR)"
   ]
  },
  {
   "cell_type": "code",
   "execution_count": 157,
   "metadata": {},
   "outputs": [],
   "source": [
    "# Define a mapping dictionary for order_type_code to group\n",
    "group_mapping = {\n",
    "    'NOR': 'Normal Order', 'NOS': 'Normal Order', 'NOH': 'Normal Order',\n",
    "    'PRO': 'Project Order', 'PRD': 'Project Order', 'PMO': 'Project Order', 'PM0': 'Project Order',\n",
    "    'CRD': 'Credit Adjustment', 'CRP': 'Credit Adjustment', 'CRR': 'Credit Adjustment', \n",
    "    'COP': 'Credit Adjustment', 'COA': 'Credit Adjustment',\n",
    "    'AES': 'Specialty Orders', 'SPC': 'Specialty Orders', 'PUP': 'Specialty Orders',\n",
    "    'EXP': 'Export Order',\n",
    "    'EDS': 'Do Not Use', 'OBS': 'Do Not Use', 'PPD': 'Do Not Use', 'WDC': 'Do Not Use', \n",
    "    'PGS': 'Do Not Use', 'SPL': 'Do Not Use', 'ZOP': 'Do Not Use', 'ZC2': 'Do Not Use', \n",
    "    '5TN': 'Do Not Use', 'PPO': 'Do Not Use', 'ZD3': 'Do Not Use', 'CSO': 'Do Not Use',\n",
    "    # Default group for any other type codes not explicitly mentioned\n",
    "    'EDI': 'Other', 'ZCG': 'Other', 'ZCR': 'Other'\n",
    "}\n",
    "\n",
    "# Map the group to a new column in the DataFrame\n",
    "merged_data['order_group'] = merged_data['order_type_code'].map(group_mapping)"
   ]
  },
  {
   "cell_type": "code",
   "execution_count": 158,
   "metadata": {},
   "outputs": [
    {
     "data": {
      "image/png": "[encoded data removed]",
      "text/plain": [
       "<Figure size 1000x800 with 1 Axes>"
      ]
     },
     "metadata": {},
     "output_type": "display_data"
    }
   ],
   "source": [
    "# Set figure size\n",
    "plt.figure(figsize=(10, 8))\n",
    "\n",
    "# Create a box plot for day_gap by order_group\n",
    "sns.boxplot(data=merged_data, x='order_group', y='day_gap')\n",
    "plt.xticks(rotation=45)\n",
    "plt.title(\"Box Plot of Day Gap by Order Group\")\n",
    "plt.xlabel(\"Order Group\")\n",
    "plt.ylabel(\"Day Gap (days)\")\n",
    "plt.show()"
   ]
  },
  {
   "cell_type": "code",
   "execution_count": 159,
   "metadata": {},
   "outputs": [
    {
     "name": "stdout",
     "output_type": "stream",
     "text": [
      "High day_gap entries in Normal Orders:\n",
      "        order_type_code order_date accounting_date  day_gap\n",
      "342113              NOR 2010-11-15      2012-02-02      444\n",
      "345386              NOR 2010-11-15      2012-02-02      444\n",
      "345478              NOR 2010-11-15      2012-02-02      444\n",
      "359045              NOR 2010-11-15      2012-02-02      444\n",
      "375231              NOR 2010-11-15      2012-02-02      444\n",
      "...                 ...        ...             ...      ...\n",
      "1971202             NOR 2012-05-18      2013-09-18      488\n",
      "1971495             NOR 2012-09-17      2013-09-18      366\n",
      "1973585             NOR 2012-09-17      2013-09-18      366\n",
      "1978731             NOR 2012-05-18      2013-09-18      488\n",
      "1979980             NOR 2012-05-18      2013-09-18      488\n",
      "\n",
      "[130 rows x 4 columns]\n"
     ]
    }
   ],
   "source": [
    "# Define the high day_gap threshold for Normal Orders\n",
    "normal_order_threshold = 365  # Set this threshold based on expected processing time for normal orders\n",
    "\n",
    "# Filter for Normal Orders (NOR, NOH, NOS) with day_gap above the threshold\n",
    "high_day_gap_normal_orders = merged_data[\n",
    "    (merged_data['order_type_code'].isin(['NOR', 'NOH', 'NOS'])) &\n",
    "    (merged_data['day_gap'] > normal_order_threshold)\n",
    "]\n",
    "\n",
    "# Display the filtered high day_gap records for Normal Orders\n",
    "print(\"High day_gap entries in Normal Orders:\")\n",
    "print(high_day_gap_normal_orders[['order_type_code', 'order_date', 'accounting_date', 'day_gap']])"
   ]
  },
  {
   "cell_type": "markdown",
   "metadata": {},
   "source": [
    "- Choosing a threshold of 365 days (one year) for day_gap in Normal Orders could be a reasonable approach.\n",
    "- Business Logic: In most businesses, it’s unusual for a normal order to take more than a year to be recorded in the accounting system, especially for straightforward, routine orders. Therefore, any day_gap exceeding 365 days likely indicates an anomaly or data inconsistency."
   ]
  },
  {
   "cell_type": "code",
   "execution_count": 161,
   "metadata": {},
   "outputs": [],
   "source": [
    "# Dropping rows with high day_gap for Normal Orders (NOR, NOH, NOS) above the threshold of 365 days\n",
    "merged_data = merged_data[~(\n",
    "    (merged_data['order_type_code'].isin(['NOR', 'NOH', 'NOS'])) &\n",
    "    (merged_data['day_gap'] > 365)\n",
    ")]"
   ]
  },
  {
   "cell_type": "markdown",
   "metadata": {},
   "source": [
    "- Check outlier after managing high day gap"
   ]
  },
  {
   "cell_type": "code",
   "execution_count": 163,
   "metadata": {},
   "outputs": [
    {
     "data": {
      "image/png": "[encoded data removed]",
      "text/plain": [
       "<Figure size 1200x800 with 1 Axes>"
      ]
     },
     "metadata": {},
     "output_type": "display_data"
    }
   ],
   "source": [
    "# Plotting a box plot for day gap by each order type code\n",
    "plt.figure(figsize=(12, 8))\n",
    "sns.boxplot(data=merged_data, x='order_type_code', y='day_gap')\n",
    "plt.xticks(rotation=90)\n",
    "plt.title(\"Box Plot of Day Gap by Order Type Code\")\n",
    "plt.xlabel(\"Order Type Code\")\n",
    "plt.ylabel(\"Day Gap (days)\")\n",
    "plt.show()"
   ]
  },
  {
   "cell_type": "code",
   "execution_count": 164,
   "metadata": {},
   "outputs": [
    {
     "data": {
      "image/png": "[encoded data removed]",
      "text/plain": [
       "<Figure size 1500x500 with 3 Axes>"
      ]
     },
     "metadata": {},
     "output_type": "display_data"
    }
   ],
   "source": [
    "# Set up the figure with a grid of 1x3 subplots\n",
    "fig, axes = plt.subplots(1, 3, figsize=(15, 5))\n",
    "\n",
    "# Plot the box plot for 'value_sales' in the first subplot\n",
    "merged_data['value_sales'].plot(kind='box', ax=axes[0])\n",
    "axes[0].set_title('Boxplot of value_sales')\n",
    "\n",
    "# Plot the box plot for 'value_cost' in the second subplot\n",
    "merged_data['value_cost'].plot(kind='box', ax=axes[1])\n",
    "axes[1].set_title('Boxplot of value_cost')\n",
    "\n",
    "# Plot the box plot for 'value_quantity' in the third subplot\n",
    "merged_data['value_quantity'].plot(kind='box', ax=axes[2])\n",
    "axes[2].set_title('Boxplot of value_quantity')\n",
    "\n",
    "# Adjust layout to prevent overlap\n",
    "plt.tight_layout()\n",
    "plt.show()"
   ]
  },
  {
   "cell_type": "code",
   "execution_count": 165,
   "metadata": {},
   "outputs": [
    {
     "data": {
      "image/png": "[encoded data removed]",
      "text/plain": [
       "<Figure size 1500x500 with 3 Axes>"
      ]
     },
     "metadata": {},
     "output_type": "display_data"
    }
   ],
   "source": [
    "# Plot histograms for each variable\n",
    "fig, axes = plt.subplots(1, 3, figsize=(15, 5))\n",
    "\n",
    "# Histogram for value_sales\n",
    "axes[0].hist(merged_data['value_sales'], bins=30, edgecolor='black',log=True)\n",
    "axes[0].set_title('Histogram of value_sales')\n",
    "axes[0].set_xlabel('value_sales')\n",
    "axes[0].set_ylabel('Frequency')\n",
    "\n",
    "# Histogram for value_cost\n",
    "axes[1].hist(merged_data['value_cost'], bins=30, edgecolor='black',log=True)\n",
    "axes[1].set_title('Histogram of value_cost')\n",
    "axes[1].set_xlabel('value_cost')\n",
    "axes[1].set_ylabel('Frequency')\n",
    "\n",
    "# Histogram for value_quantity\n",
    "axes[2].hist(merged_data['value_quantity'], bins=30, edgecolor='black',log=True)\n",
    "axes[2].set_title('Histogram of value_quantity')\n",
    "axes[2].set_xlabel('value_quantity')\n",
    "axes[2].set_ylabel('Frequency')\n",
    "\n",
    "plt.tight_layout()\n",
    "plt.show()"
   ]
  },
  {
   "cell_type": "markdown",
   "metadata": {},
   "source": [
    "- Check shape after mananging outlier"
   ]
  },
  {
   "cell_type": "code",
   "execution_count": 167,
   "metadata": {},
   "outputs": [
    {
     "data": {
      "text/plain": [
       "(1971500, 45)"
      ]
     },
     "execution_count": 167,
     "metadata": {},
     "output_type": "execute_result"
    }
   ],
   "source": [
    "merged_data.shape"
   ]
  },
  {
   "cell_type": "markdown",
   "metadata": {},
   "source": [
    "- Check skewness after mananging outlier"
   ]
  },
  {
   "cell_type": "code",
   "execution_count": 169,
   "metadata": {},
   "outputs": [
    {
     "name": "stdout",
     "output_type": "stream",
     "text": [
      "Skewness of each numerical column:\n",
      "value_sales        38.740576\n",
      "value_cost         63.282809\n",
      "value_quantity    117.404821\n",
      "dtype: float64\n"
     ]
    }
   ],
   "source": [
    "# Calculate skewness for each numerical column in the DataFrame\n",
    "skewness = merged_data[['value_sales', 'value_cost', 'value_quantity']].skew()\n",
    "\n",
    "# Display the skewness values\n",
    "print(\"Skewness of each numerical column:\")\n",
    "print(skewness)"
   ]
  },
  {
   "attachments": {},
   "cell_type": "markdown",
   "metadata": {},
   "source": [
    "## 6. Normalization and Scaling \n",
    "Log Transformation\n",
    "1. Reduce Skewness: Log transformations are particularly useful for data that has a long tail or is highly skewed. They compress the range, making the data more \"normal\" or symmetric, which can improve the performance of statistical analyses and machine learning models.\n",
    "2. Handle Wide Ranges: If your data has a large range of values (e.g., from very small to very large numbers), a log transformation can help compress this range, allowing models to process the data more effectively."
   ]
  },
  {
   "cell_type": "markdown",
   "metadata": {},
   "source": [
    "Columns Not Typically Scaled\n",
    "\n",
    "1. Date-related Columns (accounting_date, fiscal_year, fiscal_month, calendar_year, calendar_month, calendar_day, invoice_date, order_date):\n",
    "Date and time columns generally don't need normalization or standardization as they are either categorical (year, month, day) or timestamp-based. However, you may consider extracting specific features (e.g., day of the week, month, quarter) if these attributes are relevant to your analysis.\n",
    "2. Categorical Columns (customer_code, item_code, business_area_code, etc.):\n",
    "Categorical columns should be encoded rather than scaled. You could use One-Hot Encoding for non-ordinal categorical columns (e.g., item_class_code, order_type_code) or Label Encoding if they have an ordinal nature. For example, abc_class_code could potentially be ordinal, depending on its meaning.\n",
    "3. Integer Columns (e.g., company_code, customer_district_code, item_type):\n",
    "While some integer columns represent IDs or categorical codes (such as company_code, customer_code), they don’t need scaling. However, for any numerical columns that actually represent measurements or counts (like value_quantity), scaling could be useful."
   ]
  },
  {
   "cell_type": "code",
   "execution_count": 172,
   "metadata": {},
   "outputs": [
    {
     "data": {
      "text/plain": [
       "(1971500, 45)"
      ]
     },
     "execution_count": 172,
     "metadata": {},
     "output_type": "execute_result"
    }
   ],
   "source": [
    "merged_data.shape"
   ]
  },
  {
   "cell_type": "markdown",
   "metadata": {},
   "source": [
    "1. Condition 1 (data > 0) is ideal when only need to transform strictly positive data and can exclude zero or negative values.\n",
    "2. Condition 2 (data >= 0) allows to retain zero values in the transformation, which is helpful if the zeros are meaningful in this analysis and do not lose data rows with zero values."
   ]
  },
  {
   "cell_type": "code",
   "execution_count": 174,
   "metadata": {},
   "outputs": [
    {
     "name": "stdout",
     "output_type": "stream",
     "text": [
      "Row counts for standard log transformation (data > 0):\n",
      "value_sales_log: 1849971\n",
      "value_cost_log: 1865684\n",
      "value_quantity_log: 1867000\n",
      "\n",
      "Row counts for log(1 + x) transformation (data >= 0):\n",
      "value_sales_log_plus1: 1868753\n",
      "value_cost_log_plus1: 1915339\n",
      "value_quantity_log_plus1: 1915314\n"
     ]
    }
   ],
   "source": [
    "# Condition 1: Count rows with data > 0 for standard log transformation\n",
    "value_sales_log_count = merged_data[merged_data['value_sales'] > 0].shape[0]\n",
    "value_cost_log_count = merged_data[merged_data['value_cost'] > 0].shape[0]\n",
    "value_quantity_log_count = merged_data[merged_data['value_quantity'] > 0].shape[0]\n",
    "\n",
    "# Condition 2: Count rows with data >= 0 for log(1 + x) transformation\n",
    "value_sales_log_plus1_count = merged_data[merged_data['value_sales'] >= 0].shape[0]\n",
    "value_cost_log_plus1_count = merged_data[merged_data['value_cost'] >= 0].shape[0]\n",
    "value_quantity_log_plus1_count = merged_data[merged_data['value_quantity'] >= 0].shape[0]\n",
    "\n",
    "# Display the results\n",
    "print(\"Row counts for standard log transformation (data > 0):\")\n",
    "print(f\"value_sales_log: {value_sales_log_count}\")\n",
    "print(f\"value_cost_log: {value_cost_log_count}\")\n",
    "print(f\"value_quantity_log: {value_quantity_log_count}\")\n",
    "\n",
    "print(\"\\nRow counts for log(1 + x) transformation (data >= 0):\")\n",
    "print(f\"value_sales_log_plus1: {value_sales_log_plus1_count}\")\n",
    "print(f\"value_cost_log_plus1: {value_cost_log_plus1_count}\")\n",
    "print(f\"value_quantity_log_plus1: {value_quantity_log_plus1_count}\")"
   ]
  },
  {
   "cell_type": "markdown",
   "metadata": {},
   "source": [
    "- Log Transformation with Data Adjustment (log(1 + x))\n",
    "- To address skewness and improve data distribution, I applied log transformations to certain features. Traditional log transformation (log(x)) can only be used with positive values (x > 0), requiring exclusion or separate handling of zeros, which risks data loss. By using log(1 + x), zero values are transformed to log(1) = 0, preserving all data points, including zeros. This approach is particularly beneficial when zero values indicate meaningful information, allowing for a complete and interpretable dataset."
   ]
  },
  {
   "cell_type": "markdown",
   "metadata": {},
   "source": [
    "Log Transformation with Data Adjustment (log(1 + x))"
   ]
  },
  {
   "cell_type": "code",
   "execution_count": 177,
   "metadata": {},
   "outputs": [
    {
     "name": "stdout",
     "output_type": "stream",
     "text": [
      "Data with log(1 + x) transformation applied to non-negative values and negative values retained:\n",
      "   value_sales  value_sales_log_plus1_transformed  value_cost  \\\n",
      "0       218.40                           5.390897    178.1976   \n",
      "1        38.28                           3.670715     25.4568   \n",
      "2        40.20                           3.718438     25.4568   \n",
      "3        20.10                           3.049273     12.7284   \n",
      "4        19.14                           3.002708     12.7284   \n",
      "\n",
      "   value_cost_log_plus1_transformed  value_quantity  \\\n",
      "0                          5.188489            84.0   \n",
      "1                          3.275513            12.0   \n",
      "2                          3.275513            12.0   \n",
      "3                          2.619467             6.0   \n",
      "4                          2.619467             6.0   \n",
      "\n",
      "   value_quantity_log_plus1_transformed  \n",
      "0                              4.442651  \n",
      "1                              2.564949  \n",
      "2                              2.564949  \n",
      "3                              1.945910  \n",
      "4                              1.945910  \n",
      "\n",
      "Missing values check:\n",
      "value_sales_log_plus1_transformed: 0\n",
      "value_cost_log_plus1_transformed: 0\n",
      "value_quantity_log_plus1_transformed: 0\n"
     ]
    }
   ],
   "source": [
    "# Apply log(1 + x) transformation for non-negative values and retain original negative values\n",
    "merged_data['value_sales_log_plus1_transformed'] = np.where(\n",
    "    merged_data['value_sales'] >= 0,\n",
    "    np.log1p(merged_data['value_sales']),\n",
    "    merged_data['value_sales']  # Retain original value for negative numbers\n",
    ")\n",
    "\n",
    "merged_data['value_cost_log_plus1_transformed'] = np.where(\n",
    "    merged_data['value_cost'] >= 0,\n",
    "    np.log1p(merged_data['value_cost']),\n",
    "    merged_data['value_cost']  # Retain original value for negative numbers\n",
    ")\n",
    "\n",
    "merged_data['value_quantity_log_plus1_transformed'] = np.where(\n",
    "    merged_data['value_quantity'] >= 0,\n",
    "    np.log1p(merged_data['value_quantity']),\n",
    "    merged_data['value_quantity']  # Retain original value for negative numbers\n",
    ")\n",
    "\n",
    "# Display the first few rows to confirm\n",
    "print(\"Data with log(1 + x) transformation applied to non-negative values and negative values retained:\")\n",
    "print(merged_data[['value_sales', 'value_sales_log_plus1_transformed',\n",
    "                   'value_cost', 'value_cost_log_plus1_transformed',\n",
    "                   'value_quantity', 'value_quantity_log_plus1_transformed']].head())\n",
    "\n",
    "# Check for missing values to confirm\n",
    "print(\"\\nMissing values check:\")\n",
    "print(\"value_sales_log_plus1_transformed:\", merged_data['value_sales_log_plus1_transformed'].isnull().sum())\n",
    "print(\"value_cost_log_plus1_transformed:\", merged_data['value_cost_log_plus1_transformed'].isnull().sum())\n",
    "print(\"value_quantity_log_plus1_transformed:\", merged_data['value_quantity_log_plus1_transformed'].isnull().sum())"
   ]
  },
  {
   "cell_type": "code",
   "execution_count": 178,
   "metadata": {},
   "outputs": [
    {
     "data": {
      "image/png": "[encoded data removed]",
      "text/plain": [
       "<Figure size 1500x500 with 3 Axes>"
      ]
     },
     "metadata": {},
     "output_type": "display_data"
    }
   ],
   "source": [
    "import matplotlib.pyplot as plt\n",
    "\n",
    "# Filter out negative values for each transformed column\n",
    "positive_sales_log_plus1 = merged_data[merged_data['value_sales_log_plus1_transformed'] >= 0]['value_sales_log_plus1_transformed']\n",
    "positive_cost_log_plus1 = merged_data[merged_data['value_cost_log_plus1_transformed'] >= 0]['value_cost_log_plus1_transformed']\n",
    "positive_quantity_log_plus1 = merged_data[merged_data['value_quantity_log_plus1_transformed'] >= 0]['value_quantity_log_plus1_transformed']\n",
    "\n",
    "# Plot histograms for only positive values in each transformed column\n",
    "plt.figure(figsize=(15, 5))\n",
    "\n",
    "# Histogram for value_sales_log_plus1_transformed\n",
    "plt.subplot(1, 3, 1)\n",
    "plt.hist(positive_sales_log_plus1, bins=30, color='salmon', edgecolor='black')\n",
    "plt.title(\"Histogram of Log(1 + x) Transformed Positive 'value_sales'\")\n",
    "plt.xlabel(\"Log(1 + x) Transformed 'value_sales'\")\n",
    "plt.ylabel(\"Frequency\")\n",
    "\n",
    "# Histogram for value_cost_log_plus1_transformed\n",
    "plt.subplot(1, 3, 2)\n",
    "plt.hist(positive_cost_log_plus1, bins=30, color='lightblue', edgecolor='black')\n",
    "plt.title(\"Histogram of Log(1 + x) Transformed Positive 'value_cost'\")\n",
    "plt.xlabel(\"Log(1 + x) Transformed 'value_cost'\")\n",
    "plt.ylabel(\"Frequency\")\n",
    "\n",
    "# Histogram for value_quantity_log_plus1_transformed\n",
    "plt.subplot(1, 3, 3)\n",
    "plt.hist(positive_quantity_log_plus1, bins=30, color='lightgreen', edgecolor='black')\n",
    "plt.title(\"Histogram of Log(1 + x) Transformed Positive 'value_quantity'\")\n",
    "plt.xlabel(\"Log(1 + x) Transformed 'value_quantity'\")\n",
    "plt.ylabel(\"Frequency\")\n",
    "\n",
    "# Adjust layout and show plot\n",
    "plt.tight_layout()\n",
    "plt.show()"
   ]
  },
  {
   "cell_type": "markdown",
   "metadata": {},
   "source": [
    "1. value_sales (Log(1 + x) Transformed)\n",
    "- Distribution: The transformed value_sales data shows a more balanced distribution compared to a raw, typically skewed dataset. The histogram has a peak around 4, indicating that many values fall within this range.\n",
    "- Compression of High Values: The transformation compresses the higher end of the range, seen by the spread of values around 8–12, which likely would have been much larger without transformation. This is characteristic of log transformation, making high values more comparable to smaller ones.\n",
    "- Zero Values: Since the transformation includes log(1 + x), any zero values in the original data would now be represented at log(1) = 0, preventing the loss of data points.\n",
    "  \n",
    "2. value_cost (Log(1 + x) Transformed)\n",
    "- Distribution: The value_cost transformed data also displays a relatively symmetric pattern with a peak around 3. This indicates that most values of value_cost fall within this range.\n",
    "- Tail Distribution: There’s a notable tail extending from about 5 onwards, indicating the presence of higher values, though less prominent due to the compression effect of log transformation.\n",
    "- Zero Handling: As with value_sales, any zero values are preserved, appearing at log(1) = 0, allowing the full range of data, including zero, to be captured effectively.\n",
    "  \n",
    "3. value_quantity (Log(1 + x) Transformed)\n",
    "- Distribution: The value_quantity transformed data shows a wider spread compared to value_sales and value_cost, with a peak around 3.5–4. This suggests that the transformed data has slightly higher variance, possibly due to a wider range of original values.\n",
    "- Extended Tail: Similar to value_cost, there is a tail reaching from about 6 onwards, indicating a small set of higher values that are less compressed than the peak area.\n",
    "- Zero Values: The log(1 + x) approach ensures that zero values are retained as 0, which is essential for datasets where zero may carry meaningful information."
   ]
  },
  {
   "cell_type": "markdown",
   "metadata": {},
   "source": [
    "- Calculates the skewness for each column after applying the log(1 + x) transformation, considering only non-negative values (≥ 0)."
   ]
  },
  {
   "cell_type": "code",
   "execution_count": 181,
   "metadata": {},
   "outputs": [
    {
     "name": "stdout",
     "output_type": "stream",
     "text": [
      "Skewness of Log(1 + x) Transformed Positive Values:\n",
      "value_sales_log_plus1_transformed: 0.3988138427590785\n",
      "value_cost_log_plus1_transformed: 0.4509351020455682\n",
      "value_quantity_log_plus1_transformed: 0.8093614276248743\n"
     ]
    }
   ],
   "source": [
    "from scipy.stats import skew\n",
    "\n",
    "# Filter out negative values for each transformed column and calculate skewness\n",
    "sales_log_plus1_skew = skew(merged_data[merged_data['value_sales_log_plus1_transformed'] >= 0]['value_sales_log_plus1_transformed'])\n",
    "cost_log_plus1_skew = skew(merged_data[merged_data['value_cost_log_plus1_transformed'] >= 0]['value_cost_log_plus1_transformed'])\n",
    "quantity_log_plus1_skew = skew(merged_data[merged_data['value_quantity_log_plus1_transformed'] >= 0]['value_quantity_log_plus1_transformed'])\n",
    "\n",
    "# Display the skewness results\n",
    "print(\"Skewness of Log(1 + x) Transformed Positive Values:\")\n",
    "print(f\"value_sales_log_plus1_transformed: {sales_log_plus1_skew}\")\n",
    "print(f\"value_cost_log_plus1_transformed: {cost_log_plus1_skew}\")\n",
    "print(f\"value_quantity_log_plus1_transformed: {quantity_log_plus1_skew}\")"
   ]
  },
  {
   "cell_type": "markdown",
   "metadata": {},
   "source": [
    "1. Reduced Skewness: All three columns show a reduced skewness due to the log(1 + x) transformation, making them more suitable for further statistical analysis, as this transformation typically improves normality.\n",
    "2. Preserving Zero Values: The log(1 + x) approach allows zero values to be retained in the dataset as log(1) = 0, preventing any data loss or distortion that could have arisen if zero values were simply removed.\n",
    "3. Impact on Positive Data Only: By applying this transformation to only positive values, the log transformation effectively handles both large and small positive values while retaining the structure of the data."
   ]
  },
  {
   "cell_type": "markdown",
   "metadata": {},
   "source": [
    "- Preview data after Log Transformation"
   ]
  },
  {
   "cell_type": "code",
   "execution_count": 184,
   "metadata": {},
   "outputs": [
    {
     "data": {
      "text/html": [
       "<div>\n",
       "<style scoped>\n",
       "    .dataframe tbody tr th:only-of-type {\n",
       "        vertical-align: middle;\n",
       "    }\n",
       "\n",
       "    .dataframe tbody tr th {\n",
       "        vertical-align: top;\n",
       "    }\n",
       "\n",
       "    .dataframe thead th {\n",
       "        text-align: right;\n",
       "    }\n",
       "</style>\n",
       "<table border=\"1\" class=\"dataframe\">\n",
       "  <thead>\n",
       "    <tr style=\"text-align: right;\">\n",
       "      <th></th>\n",
       "      <th>accounting_date</th>\n",
       "      <th>fiscal_year</th>\n",
       "      <th>fiscal_month</th>\n",
       "      <th>calendar_year</th>\n",
       "      <th>calendar_month</th>\n",
       "      <th>calendar_day</th>\n",
       "      <th>company_code</th>\n",
       "      <th>customer_code</th>\n",
       "      <th>customer_district_code</th>\n",
       "      <th>item_code</th>\n",
       "      <th>...</th>\n",
       "      <th>order_date</th>\n",
       "      <th>dss_update_time</th>\n",
       "      <th>accounting_year</th>\n",
       "      <th>accounting_month</th>\n",
       "      <th>accounting_day</th>\n",
       "      <th>day_gap</th>\n",
       "      <th>order_group</th>\n",
       "      <th>value_sales_log_plus1_transformed</th>\n",
       "      <th>value_cost_log_plus1_transformed</th>\n",
       "      <th>value_quantity_log_plus1_transformed</th>\n",
       "    </tr>\n",
       "  </thead>\n",
       "  <tbody>\n",
       "    <tr>\n",
       "      <th>0</th>\n",
       "      <td>2012-05-09</td>\n",
       "      <td>2012</td>\n",
       "      <td>11</td>\n",
       "      <td>2012</td>\n",
       "      <td>5</td>\n",
       "      <td>9</td>\n",
       "      <td>101</td>\n",
       "      <td>411800601</td>\n",
       "      <td>410</td>\n",
       "      <td>GENIE8WWWBC</td>\n",
       "      <td>...</td>\n",
       "      <td>2012-05-09</td>\n",
       "      <td>49:58.7</td>\n",
       "      <td>2012</td>\n",
       "      <td>5</td>\n",
       "      <td>9</td>\n",
       "      <td>0</td>\n",
       "      <td>Normal Order</td>\n",
       "      <td>5.390897</td>\n",
       "      <td>5.188489</td>\n",
       "      <td>4.442651</td>\n",
       "    </tr>\n",
       "    <tr>\n",
       "      <th>1</th>\n",
       "      <td>2012-02-16</td>\n",
       "      <td>2012</td>\n",
       "      <td>8</td>\n",
       "      <td>2012</td>\n",
       "      <td>2</td>\n",
       "      <td>16</td>\n",
       "      <td>101</td>\n",
       "      <td>361000403</td>\n",
       "      <td>300</td>\n",
       "      <td>GENIE8WWWBC</td>\n",
       "      <td>...</td>\n",
       "      <td>2012-02-16</td>\n",
       "      <td>49:58.7</td>\n",
       "      <td>2012</td>\n",
       "      <td>2</td>\n",
       "      <td>16</td>\n",
       "      <td>0</td>\n",
       "      <td>Normal Order</td>\n",
       "      <td>3.670715</td>\n",
       "      <td>3.275513</td>\n",
       "      <td>2.564949</td>\n",
       "    </tr>\n",
       "    <tr>\n",
       "      <th>2</th>\n",
       "      <td>2012-05-09</td>\n",
       "      <td>2012</td>\n",
       "      <td>11</td>\n",
       "      <td>2012</td>\n",
       "      <td>5</td>\n",
       "      <td>9</td>\n",
       "      <td>101</td>\n",
       "      <td>361000403</td>\n",
       "      <td>300</td>\n",
       "      <td>GENIE8WWWBC</td>\n",
       "      <td>...</td>\n",
       "      <td>2012-05-08</td>\n",
       "      <td>49:58.7</td>\n",
       "      <td>2012</td>\n",
       "      <td>5</td>\n",
       "      <td>9</td>\n",
       "      <td>1</td>\n",
       "      <td>Normal Order</td>\n",
       "      <td>3.718438</td>\n",
       "      <td>3.275513</td>\n",
       "      <td>2.564949</td>\n",
       "    </tr>\n",
       "    <tr>\n",
       "      <th>3</th>\n",
       "      <td>2012-05-18</td>\n",
       "      <td>2012</td>\n",
       "      <td>11</td>\n",
       "      <td>2012</td>\n",
       "      <td>5</td>\n",
       "      <td>18</td>\n",
       "      <td>101</td>\n",
       "      <td>565540415</td>\n",
       "      <td>500</td>\n",
       "      <td>GENIE8WWWBC</td>\n",
       "      <td>...</td>\n",
       "      <td>2012-05-18</td>\n",
       "      <td>49:58.7</td>\n",
       "      <td>2012</td>\n",
       "      <td>5</td>\n",
       "      <td>18</td>\n",
       "      <td>0</td>\n",
       "      <td>Other</td>\n",
       "      <td>3.049273</td>\n",
       "      <td>2.619467</td>\n",
       "      <td>1.945910</td>\n",
       "    </tr>\n",
       "    <tr>\n",
       "      <th>4</th>\n",
       "      <td>2012-01-09</td>\n",
       "      <td>2012</td>\n",
       "      <td>7</td>\n",
       "      <td>2012</td>\n",
       "      <td>1</td>\n",
       "      <td>9</td>\n",
       "      <td>101</td>\n",
       "      <td>565540415</td>\n",
       "      <td>500</td>\n",
       "      <td>GENIE8WWWBC</td>\n",
       "      <td>...</td>\n",
       "      <td>2012-01-09</td>\n",
       "      <td>49:58.7</td>\n",
       "      <td>2012</td>\n",
       "      <td>1</td>\n",
       "      <td>9</td>\n",
       "      <td>0</td>\n",
       "      <td>Other</td>\n",
       "      <td>3.002708</td>\n",
       "      <td>2.619467</td>\n",
       "      <td>1.945910</td>\n",
       "    </tr>\n",
       "  </tbody>\n",
       "</table>\n",
       "<p>5 rows × 48 columns</p>\n",
       "</div>"
      ],
      "text/plain": [
       "  accounting_date  fiscal_year  fiscal_month  calendar_year  calendar_month  \\\n",
       "0      2012-05-09         2012            11           2012               5   \n",
       "1      2012-02-16         2012             8           2012               2   \n",
       "2      2012-05-09         2012            11           2012               5   \n",
       "3      2012-05-18         2012            11           2012               5   \n",
       "4      2012-01-09         2012             7           2012               1   \n",
       "\n",
       "   calendar_day  company_code customer_code  customer_district_code  \\\n",
       "0             9           101     411800601                     410   \n",
       "1            16           101     361000403                     300   \n",
       "2             9           101     361000403                     300   \n",
       "3            18           101     565540415                     500   \n",
       "4             9           101     565540415                     500   \n",
       "\n",
       "     item_code  ... order_date dss_update_time accounting_year  \\\n",
       "0  GENIE8WWWBC  ... 2012-05-09         49:58.7            2012   \n",
       "1  GENIE8WWWBC  ... 2012-02-16         49:58.7            2012   \n",
       "2  GENIE8WWWBC  ... 2012-05-08         49:58.7            2012   \n",
       "3  GENIE8WWWBC  ... 2012-05-18         49:58.7            2012   \n",
       "4  GENIE8WWWBC  ... 2012-01-09         49:58.7            2012   \n",
       "\n",
       "   accounting_month accounting_day day_gap   order_group  \\\n",
       "0                 5              9       0  Normal Order   \n",
       "1                 2             16       0  Normal Order   \n",
       "2                 5              9       1  Normal Order   \n",
       "3                 5             18       0         Other   \n",
       "4                 1              9       0         Other   \n",
       "\n",
       "  value_sales_log_plus1_transformed value_cost_log_plus1_transformed  \\\n",
       "0                          5.390897                         5.188489   \n",
       "1                          3.670715                         3.275513   \n",
       "2                          3.718438                         3.275513   \n",
       "3                          3.049273                         2.619467   \n",
       "4                          3.002708                         2.619467   \n",
       "\n",
       "  value_quantity_log_plus1_transformed  \n",
       "0                             4.442651  \n",
       "1                             2.564949  \n",
       "2                             2.564949  \n",
       "3                             1.945910  \n",
       "4                             1.945910  \n",
       "\n",
       "[5 rows x 48 columns]"
      ]
     },
     "execution_count": 184,
     "metadata": {},
     "output_type": "execute_result"
    }
   ],
   "source": [
    "merged_data.head()"
   ]
  },
  {
   "cell_type": "markdown",
   "metadata": {},
   "source": [
    "## 7. Handling Categorical Variables\n",
    "- Convert categorical variables to numeric form if required for analysis (e.g., one-hot encoding).\n",
    "- Combine similar categories to reduce complexity (e.g., grouping rare categories together)."
   ]
  },
  {
   "cell_type": "markdown",
   "metadata": {},
   "source": [
    "1. Dropping Redundant Date-Related Columns\n",
    "- The redundant date-related columns (fiscal_year, fiscal_month, calendar_year, calendar_month, calendar_day, accounting_year, accounting_month, and accounting_day) were removed to simplify the dataset, as their information can be derived from primary date fields like accounting_date, invoice_date, and order_date. Dropping these columns reduces redundancy, minimizes multicollinearity, and improves processing efficiency, which is especially beneficial for large datasets. By keeping only essential date columns, the dataset remains adaptable, allowing for flexible creation of custom time-based features while preserving clarity and interpretability in time series analysis."
   ]
  },
  {
   "cell_type": "code",
   "execution_count": 187,
   "metadata": {},
   "outputs": [
    {
     "name": "stdout",
     "output_type": "stream",
     "text": [
      "Remaining columns after drop: Index(['accounting_date', 'company_code', 'customer_code',\n",
      "       'customer_district_code', 'item_code', 'business_area_code',\n",
      "       'item_group_code', 'item_class_code', 'item_type', 'bonus_group_code',\n",
      "       'environment_group_code', 'technology_group_code',\n",
      "       'commission_group_code', 'reporting_classification', 'light_source',\n",
      "       'warehouse_code', 'abc_class_code', 'abc_class_volume',\n",
      "       'business_chain_l1_code', 'business_chain_l1_name',\n",
      "       'contact_method_code', 'salesperson_code', 'order_type_code',\n",
      "       'market_segment', 'value_sales', 'value_cost', 'value_quantity',\n",
      "       'value_price_adjustment', 'currency', 'invoice_number', 'line_number',\n",
      "       'invoice_date', 'customer_order_number', 'order_date',\n",
      "       'dss_update_time', 'day_gap', 'order_group',\n",
      "       'value_sales_log_plus1_transformed', 'value_cost_log_plus1_transformed',\n",
      "       'value_quantity_log_plus1_transformed'],\n",
      "      dtype='object')\n"
     ]
    }
   ],
   "source": [
    "# Define the columns to drop\n",
    "columns_to_drop = [\n",
    "    'fiscal_year', 'fiscal_month', 'calendar_year', 'calendar_month', \n",
    "    'calendar_day', 'accounting_year', 'accounting_month', 'accounting_day'\n",
    "]\n",
    "\n",
    "# Drop the columns from the DataFrame\n",
    "merged_data = merged_data.drop(columns=columns_to_drop)\n",
    "\n",
    "# Verify the result\n",
    "print(\"Remaining columns after drop:\", merged_data.columns)"
   ]
  },
  {
   "cell_type": "markdown",
   "metadata": {},
   "source": [
    "2. Grouping Rare Categories:\n",
    "- The first step groups rare categories (those that appear in less than 1% of the data) into a single category labeled \"Other\" for each categorical column in categorical_cols.\n",
    "- For each column, value_counts(normalize=True) calculates the frequency of each category as a proportion.\n",
    "- Categories with a frequency below 0.01 are identified as rare_categories.\n",
    "- The .apply(lambda x: 'Other' if x in rare_categories else x) statement replaces any rare category with \"Other\" in the column. This helps reduce the number of unique categories, which is beneficial for models by decreasing noise and complexity."
   ]
  },
  {
   "cell_type": "code",
   "execution_count": 189,
   "metadata": {},
   "outputs": [
    {
     "name": "stdout",
     "output_type": "stream",
     "text": [
      "\n",
      "Number of unique groups after grouping rare categories with threshold 1%:\n",
      "  business_area_code: 11 unique groups\n",
      "  item_group_code: 25 unique groups\n",
      "  item_class_code: 23 unique groups\n",
      "  item_type: 7 unique groups\n",
      "  bonus_group_code: 2 unique groups\n",
      "  environment_group_code: 6 unique groups\n",
      "  technology_group_code: 15 unique groups\n",
      "  commission_group_code: 3 unique groups\n",
      "  reporting_classification: 2 unique groups\n",
      "  light_source: 3 unique groups\n",
      "  warehouse_code: 23 unique groups\n",
      "  abc_class_code: 10 unique groups\n",
      "  abc_class_volume: 4 unique groups\n",
      "  business_chain_l1_code: 17 unique groups\n",
      "  contact_method_code: 3 unique groups\n",
      "  order_type_code: 8 unique groups\n",
      "\n",
      "Number of unique groups after grouping rare categories with threshold 5%:\n",
      "  business_area_code: 6 unique groups\n",
      "  item_group_code: 2 unique groups\n",
      "  item_class_code: 6 unique groups\n",
      "  item_type: 5 unique groups\n",
      "  bonus_group_code: 2 unique groups\n",
      "  environment_group_code: 5 unique groups\n",
      "  technology_group_code: 10 unique groups\n",
      "  commission_group_code: 2 unique groups\n",
      "  reporting_classification: 2 unique groups\n",
      "  light_source: 3 unique groups\n",
      "  warehouse_code: 5 unique groups\n",
      "  abc_class_code: 8 unique groups\n",
      "  abc_class_volume: 4 unique groups\n",
      "  business_chain_l1_code: 7 unique groups\n",
      "  contact_method_code: 2 unique groups\n",
      "  order_type_code: 3 unique groups\n"
     ]
    }
   ],
   "source": [
    "# Define thresholds for comparison\n",
    "thresholds = [0.01, 0.05]\n",
    "# List of categorical columns that actually exist in merged_data\n",
    "categorical_cols = [\n",
    "    col for col in [\n",
    "    'business_area_code', \n",
    "        'item_group_code', \n",
    "        'item_class_code',\n",
    "        'item_type',\n",
    "        'bonus_group_code', \n",
    "        'environment_group_code', \n",
    "        'technology_group_code', \n",
    "        'commission_group_code', \n",
    "        'reporting_classification', \n",
    "        'light_source', \n",
    "        'warehouse_code', \n",
    "        'abc_class_code',\n",
    "        'abc_class_volume',\n",
    "        'business_chain_l1_code',  \n",
    "        'contact_method_code',  \n",
    "        'order_type_code'\n",
    "    ] if col in merged_data.columns\n",
    "]\n",
    "for threshold in thresholds:\n",
    "    # Make a copy of the original data for each threshold\n",
    "    temp_data = merged_data.copy()\n",
    "\n",
    "    # Apply grouping of rare categories for each categorical column\n",
    "    for col in categorical_cols:\n",
    "        category_counts = temp_data[col].value_counts(normalize=True)\n",
    "        rare_categories = category_counts[category_counts < threshold].index\n",
    "        temp_data[col] = temp_data[col].apply(lambda x: 'Other' if x in rare_categories else x)\n",
    "\n",
    "    # Display the count of unique groups for each threshold\n",
    "    print(f\"\\nNumber of unique groups after grouping rare categories with threshold {int(threshold*100)}%:\")\n",
    "    for col in categorical_cols:\n",
    "        unique_count = temp_data[col].nunique()\n",
    "        print(f\"  {col}: {unique_count} unique groups\")"
   ]
  },
  {
   "cell_type": "markdown",
   "metadata": {},
   "source": [
    "- Explanation of Threshold Selection (1% and 5%)\n",
    "1. Purpose of Grouping Rare Categories: When working with categorical data, especially in cases where categories are numerous and imbalanced, rare categories can add noise to the model. Grouping rare categories helps reduce the number of unique values, which simplifies the model, reduces overfitting, and can improve model performance.\n",
    "2. 1% Threshold: A lower threshold means only the very rare categories (those appearing in less than 1% of the data) are grouped as \"Other.\" This allows us to retain more detail from the original categories while still reducing some complexity. It might be suitable if the model benefits from having more detailed categorical distinctions.\n",
    "3. 5% Threshold: A higher threshold groups more categories together, making the data even simpler. This can be beneficial for models that work better with fewer categorical variables or when the focus is on general patterns rather than finer distinctions."
   ]
  },
  {
   "cell_type": "code",
   "execution_count": 191,
   "metadata": {},
   "outputs": [],
   "source": [
    "# Initialize empty DataFrames for the two thresholds\n",
    "data_1_percent = merged_data.copy()\n",
    "data_5_percent = merged_data.copy()"
   ]
  },
  {
   "cell_type": "code",
   "execution_count": 192,
   "metadata": {},
   "outputs": [],
   "source": [
    "# Group rare categories in data_1_percent for each categorical column based on 1% threshold\n",
    "for col in categorical_cols:\n",
    "    # Calculate the frequency of each category as a proportion\n",
    "    category_counts = data_1_percent[col].value_counts(normalize=True)\n",
    "    \n",
    "    # Identify rare categories that appear in less than 1% of the data\n",
    "    rare_categories = category_counts[category_counts < 0.01].index\n",
    "    \n",
    "    # Replace rare categories with 'Other'\n",
    "    data_1_percent[col] = data_1_percent[col].apply(lambda x: 'Other' if x in rare_categories else x)"
   ]
  },
  {
   "cell_type": "code",
   "execution_count": 193,
   "metadata": {},
   "outputs": [],
   "source": [
    "# Group rare categories in data_5_percent for each categorical column based on 5% threshold\n",
    "for col in categorical_cols:\n",
    "    # Calculate the frequency of each category as a proportion\n",
    "    category_counts = data_5_percent[col].value_counts(normalize=True)\n",
    "    \n",
    "    # Identify rare categories that appear in less than 5% of the data\n",
    "    rare_categories = category_counts[category_counts < 0.05].index\n",
    "    \n",
    "    # Replace rare categories with 'Other'\n",
    "    data_5_percent[col] = data_5_percent[col].apply(lambda x: 'Other' if x in rare_categories else x)"
   ]
  },
  {
   "cell_type": "code",
   "execution_count": 194,
   "metadata": {},
   "outputs": [
    {
     "name": "stdout",
     "output_type": "stream",
     "text": [
      "DataFrame with 1% Threshold Grouping:\n"
     ]
    },
    {
     "data": {
      "text/html": [
       "<div>\n",
       "<style scoped>\n",
       "    .dataframe tbody tr th:only-of-type {\n",
       "        vertical-align: middle;\n",
       "    }\n",
       "\n",
       "    .dataframe tbody tr th {\n",
       "        vertical-align: top;\n",
       "    }\n",
       "\n",
       "    .dataframe thead th {\n",
       "        text-align: right;\n",
       "    }\n",
       "</style>\n",
       "<table border=\"1\" class=\"dataframe\">\n",
       "  <thead>\n",
       "    <tr style=\"text-align: right;\">\n",
       "      <th></th>\n",
       "      <th>accounting_date</th>\n",
       "      <th>company_code</th>\n",
       "      <th>customer_code</th>\n",
       "      <th>customer_district_code</th>\n",
       "      <th>item_code</th>\n",
       "      <th>business_area_code</th>\n",
       "      <th>item_group_code</th>\n",
       "      <th>item_class_code</th>\n",
       "      <th>item_type</th>\n",
       "      <th>bonus_group_code</th>\n",
       "      <th>...</th>\n",
       "      <th>line_number</th>\n",
       "      <th>invoice_date</th>\n",
       "      <th>customer_order_number</th>\n",
       "      <th>order_date</th>\n",
       "      <th>dss_update_time</th>\n",
       "      <th>day_gap</th>\n",
       "      <th>order_group</th>\n",
       "      <th>value_sales_log_plus1_transformed</th>\n",
       "      <th>value_cost_log_plus1_transformed</th>\n",
       "      <th>value_quantity_log_plus1_transformed</th>\n",
       "    </tr>\n",
       "  </thead>\n",
       "  <tbody>\n",
       "    <tr>\n",
       "      <th>0</th>\n",
       "      <td>2012-05-09</td>\n",
       "      <td>101</td>\n",
       "      <td>411800601</td>\n",
       "      <td>410</td>\n",
       "      <td>GENIE8WWWBC</td>\n",
       "      <td>LMP</td>\n",
       "      <td>LMP01008</td>\n",
       "      <td>LMP01</td>\n",
       "      <td>5</td>\n",
       "      <td>Trade</td>\n",
       "      <td>...</td>\n",
       "      <td>1</td>\n",
       "      <td>2012-05-09</td>\n",
       "      <td>2865354</td>\n",
       "      <td>2012-05-09</td>\n",
       "      <td>49:58.7</td>\n",
       "      <td>0</td>\n",
       "      <td>Normal Order</td>\n",
       "      <td>5.390897</td>\n",
       "      <td>5.188489</td>\n",
       "      <td>4.442651</td>\n",
       "    </tr>\n",
       "    <tr>\n",
       "      <th>1</th>\n",
       "      <td>2012-02-16</td>\n",
       "      <td>101</td>\n",
       "      <td>361000403</td>\n",
       "      <td>300</td>\n",
       "      <td>GENIE8WWWBC</td>\n",
       "      <td>LMP</td>\n",
       "      <td>LMP01008</td>\n",
       "      <td>LMP01</td>\n",
       "      <td>5</td>\n",
       "      <td>Trade</td>\n",
       "      <td>...</td>\n",
       "      <td>1</td>\n",
       "      <td>2012-02-16</td>\n",
       "      <td>2833515</td>\n",
       "      <td>2012-02-16</td>\n",
       "      <td>49:58.7</td>\n",
       "      <td>0</td>\n",
       "      <td>Normal Order</td>\n",
       "      <td>3.670715</td>\n",
       "      <td>3.275513</td>\n",
       "      <td>2.564949</td>\n",
       "    </tr>\n",
       "    <tr>\n",
       "      <th>2</th>\n",
       "      <td>2012-05-09</td>\n",
       "      <td>101</td>\n",
       "      <td>361000403</td>\n",
       "      <td>300</td>\n",
       "      <td>GENIE8WWWBC</td>\n",
       "      <td>LMP</td>\n",
       "      <td>LMP01008</td>\n",
       "      <td>LMP01</td>\n",
       "      <td>5</td>\n",
       "      <td>Trade</td>\n",
       "      <td>...</td>\n",
       "      <td>1</td>\n",
       "      <td>2012-05-09</td>\n",
       "      <td>2864857</td>\n",
       "      <td>2012-05-08</td>\n",
       "      <td>49:58.7</td>\n",
       "      <td>1</td>\n",
       "      <td>Normal Order</td>\n",
       "      <td>3.718438</td>\n",
       "      <td>3.275513</td>\n",
       "      <td>2.564949</td>\n",
       "    </tr>\n",
       "    <tr>\n",
       "      <th>3</th>\n",
       "      <td>2012-05-18</td>\n",
       "      <td>101</td>\n",
       "      <td>565540415</td>\n",
       "      <td>500</td>\n",
       "      <td>GENIE8WWWBC</td>\n",
       "      <td>LMP</td>\n",
       "      <td>LMP01008</td>\n",
       "      <td>LMP01</td>\n",
       "      <td>5</td>\n",
       "      <td>Trade</td>\n",
       "      <td>...</td>\n",
       "      <td>1</td>\n",
       "      <td>2012-05-18</td>\n",
       "      <td>2869759</td>\n",
       "      <td>2012-05-18</td>\n",
       "      <td>49:58.7</td>\n",
       "      <td>0</td>\n",
       "      <td>Other</td>\n",
       "      <td>3.049273</td>\n",
       "      <td>2.619467</td>\n",
       "      <td>1.945910</td>\n",
       "    </tr>\n",
       "    <tr>\n",
       "      <th>4</th>\n",
       "      <td>2012-01-09</td>\n",
       "      <td>101</td>\n",
       "      <td>565540415</td>\n",
       "      <td>500</td>\n",
       "      <td>GENIE8WWWBC</td>\n",
       "      <td>LMP</td>\n",
       "      <td>LMP01008</td>\n",
       "      <td>LMP01</td>\n",
       "      <td>5</td>\n",
       "      <td>Trade</td>\n",
       "      <td>...</td>\n",
       "      <td>1</td>\n",
       "      <td>2012-01-09</td>\n",
       "      <td>2819189</td>\n",
       "      <td>2012-01-09</td>\n",
       "      <td>49:58.7</td>\n",
       "      <td>0</td>\n",
       "      <td>Other</td>\n",
       "      <td>3.002708</td>\n",
       "      <td>2.619467</td>\n",
       "      <td>1.945910</td>\n",
       "    </tr>\n",
       "  </tbody>\n",
       "</table>\n",
       "<p>5 rows × 40 columns</p>\n",
       "</div>"
      ],
      "text/plain": [
       "  accounting_date  company_code customer_code  customer_district_code  \\\n",
       "0      2012-05-09           101     411800601                     410   \n",
       "1      2012-02-16           101     361000403                     300   \n",
       "2      2012-05-09           101     361000403                     300   \n",
       "3      2012-05-18           101     565540415                     500   \n",
       "4      2012-01-09           101     565540415                     500   \n",
       "\n",
       "     item_code business_area_code item_group_code item_class_code item_type  \\\n",
       "0  GENIE8WWWBC                LMP        LMP01008           LMP01         5   \n",
       "1  GENIE8WWWBC                LMP        LMP01008           LMP01         5   \n",
       "2  GENIE8WWWBC                LMP        LMP01008           LMP01         5   \n",
       "3  GENIE8WWWBC                LMP        LMP01008           LMP01         5   \n",
       "4  GENIE8WWWBC                LMP        LMP01008           LMP01         5   \n",
       "\n",
       "  bonus_group_code  ... line_number invoice_date customer_order_number  \\\n",
       "0            Trade  ...           1   2012-05-09               2865354   \n",
       "1            Trade  ...           1   2012-02-16               2833515   \n",
       "2            Trade  ...           1   2012-05-09               2864857   \n",
       "3            Trade  ...           1   2012-05-18               2869759   \n",
       "4            Trade  ...           1   2012-01-09               2819189   \n",
       "\n",
       "  order_date dss_update_time day_gap   order_group  \\\n",
       "0 2012-05-09         49:58.7       0  Normal Order   \n",
       "1 2012-02-16         49:58.7       0  Normal Order   \n",
       "2 2012-05-08         49:58.7       1  Normal Order   \n",
       "3 2012-05-18         49:58.7       0         Other   \n",
       "4 2012-01-09         49:58.7       0         Other   \n",
       "\n",
       "  value_sales_log_plus1_transformed value_cost_log_plus1_transformed  \\\n",
       "0                          5.390897                         5.188489   \n",
       "1                          3.670715                         3.275513   \n",
       "2                          3.718438                         3.275513   \n",
       "3                          3.049273                         2.619467   \n",
       "4                          3.002708                         2.619467   \n",
       "\n",
       "  value_quantity_log_plus1_transformed  \n",
       "0                             4.442651  \n",
       "1                             2.564949  \n",
       "2                             2.564949  \n",
       "3                             1.945910  \n",
       "4                             1.945910  \n",
       "\n",
       "[5 rows x 40 columns]"
      ]
     },
     "execution_count": 194,
     "metadata": {},
     "output_type": "execute_result"
    }
   ],
   "source": [
    "# Display the first few rows of each DataFrame to verify\n",
    "print(\"DataFrame with 1% Threshold Grouping:\")\n",
    "data_1_percent.head()"
   ]
  },
  {
   "cell_type": "code",
   "execution_count": 195,
   "metadata": {},
   "outputs": [
    {
     "data": {
      "text/plain": [
       "(1971500, 40)"
      ]
     },
     "execution_count": 195,
     "metadata": {},
     "output_type": "execute_result"
    }
   ],
   "source": [
    "data_1_percent.shape"
   ]
  },
  {
   "cell_type": "code",
   "execution_count": 196,
   "metadata": {},
   "outputs": [
    {
     "name": "stdout",
     "output_type": "stream",
     "text": [
      "\n",
      "DataFrame with 5% Threshold Grouping:\n"
     ]
    },
    {
     "data": {
      "text/html": [
       "<div>\n",
       "<style scoped>\n",
       "    .dataframe tbody tr th:only-of-type {\n",
       "        vertical-align: middle;\n",
       "    }\n",
       "\n",
       "    .dataframe tbody tr th {\n",
       "        vertical-align: top;\n",
       "    }\n",
       "\n",
       "    .dataframe thead th {\n",
       "        text-align: right;\n",
       "    }\n",
       "</style>\n",
       "<table border=\"1\" class=\"dataframe\">\n",
       "  <thead>\n",
       "    <tr style=\"text-align: right;\">\n",
       "      <th></th>\n",
       "      <th>accounting_date</th>\n",
       "      <th>company_code</th>\n",
       "      <th>customer_code</th>\n",
       "      <th>customer_district_code</th>\n",
       "      <th>item_code</th>\n",
       "      <th>business_area_code</th>\n",
       "      <th>item_group_code</th>\n",
       "      <th>item_class_code</th>\n",
       "      <th>item_type</th>\n",
       "      <th>bonus_group_code</th>\n",
       "      <th>...</th>\n",
       "      <th>line_number</th>\n",
       "      <th>invoice_date</th>\n",
       "      <th>customer_order_number</th>\n",
       "      <th>order_date</th>\n",
       "      <th>dss_update_time</th>\n",
       "      <th>day_gap</th>\n",
       "      <th>order_group</th>\n",
       "      <th>value_sales_log_plus1_transformed</th>\n",
       "      <th>value_cost_log_plus1_transformed</th>\n",
       "      <th>value_quantity_log_plus1_transformed</th>\n",
       "    </tr>\n",
       "  </thead>\n",
       "  <tbody>\n",
       "    <tr>\n",
       "      <th>0</th>\n",
       "      <td>2012-05-09</td>\n",
       "      <td>101</td>\n",
       "      <td>411800601</td>\n",
       "      <td>410</td>\n",
       "      <td>GENIE8WWWBC</td>\n",
       "      <td>LMP</td>\n",
       "      <td>Other</td>\n",
       "      <td>LMP01</td>\n",
       "      <td>5</td>\n",
       "      <td>Trade</td>\n",
       "      <td>...</td>\n",
       "      <td>1</td>\n",
       "      <td>2012-05-09</td>\n",
       "      <td>2865354</td>\n",
       "      <td>2012-05-09</td>\n",
       "      <td>49:58.7</td>\n",
       "      <td>0</td>\n",
       "      <td>Normal Order</td>\n",
       "      <td>5.390897</td>\n",
       "      <td>5.188489</td>\n",
       "      <td>4.442651</td>\n",
       "    </tr>\n",
       "    <tr>\n",
       "      <th>1</th>\n",
       "      <td>2012-02-16</td>\n",
       "      <td>101</td>\n",
       "      <td>361000403</td>\n",
       "      <td>300</td>\n",
       "      <td>GENIE8WWWBC</td>\n",
       "      <td>LMP</td>\n",
       "      <td>Other</td>\n",
       "      <td>LMP01</td>\n",
       "      <td>5</td>\n",
       "      <td>Trade</td>\n",
       "      <td>...</td>\n",
       "      <td>1</td>\n",
       "      <td>2012-02-16</td>\n",
       "      <td>2833515</td>\n",
       "      <td>2012-02-16</td>\n",
       "      <td>49:58.7</td>\n",
       "      <td>0</td>\n",
       "      <td>Normal Order</td>\n",
       "      <td>3.670715</td>\n",
       "      <td>3.275513</td>\n",
       "      <td>2.564949</td>\n",
       "    </tr>\n",
       "    <tr>\n",
       "      <th>2</th>\n",
       "      <td>2012-05-09</td>\n",
       "      <td>101</td>\n",
       "      <td>361000403</td>\n",
       "      <td>300</td>\n",
       "      <td>GENIE8WWWBC</td>\n",
       "      <td>LMP</td>\n",
       "      <td>Other</td>\n",
       "      <td>LMP01</td>\n",
       "      <td>5</td>\n",
       "      <td>Trade</td>\n",
       "      <td>...</td>\n",
       "      <td>1</td>\n",
       "      <td>2012-05-09</td>\n",
       "      <td>2864857</td>\n",
       "      <td>2012-05-08</td>\n",
       "      <td>49:58.7</td>\n",
       "      <td>1</td>\n",
       "      <td>Normal Order</td>\n",
       "      <td>3.718438</td>\n",
       "      <td>3.275513</td>\n",
       "      <td>2.564949</td>\n",
       "    </tr>\n",
       "    <tr>\n",
       "      <th>3</th>\n",
       "      <td>2012-05-18</td>\n",
       "      <td>101</td>\n",
       "      <td>565540415</td>\n",
       "      <td>500</td>\n",
       "      <td>GENIE8WWWBC</td>\n",
       "      <td>LMP</td>\n",
       "      <td>Other</td>\n",
       "      <td>LMP01</td>\n",
       "      <td>5</td>\n",
       "      <td>Trade</td>\n",
       "      <td>...</td>\n",
       "      <td>1</td>\n",
       "      <td>2012-05-18</td>\n",
       "      <td>2869759</td>\n",
       "      <td>2012-05-18</td>\n",
       "      <td>49:58.7</td>\n",
       "      <td>0</td>\n",
       "      <td>Other</td>\n",
       "      <td>3.049273</td>\n",
       "      <td>2.619467</td>\n",
       "      <td>1.945910</td>\n",
       "    </tr>\n",
       "    <tr>\n",
       "      <th>4</th>\n",
       "      <td>2012-01-09</td>\n",
       "      <td>101</td>\n",
       "      <td>565540415</td>\n",
       "      <td>500</td>\n",
       "      <td>GENIE8WWWBC</td>\n",
       "      <td>LMP</td>\n",
       "      <td>Other</td>\n",
       "      <td>LMP01</td>\n",
       "      <td>5</td>\n",
       "      <td>Trade</td>\n",
       "      <td>...</td>\n",
       "      <td>1</td>\n",
       "      <td>2012-01-09</td>\n",
       "      <td>2819189</td>\n",
       "      <td>2012-01-09</td>\n",
       "      <td>49:58.7</td>\n",
       "      <td>0</td>\n",
       "      <td>Other</td>\n",
       "      <td>3.002708</td>\n",
       "      <td>2.619467</td>\n",
       "      <td>1.945910</td>\n",
       "    </tr>\n",
       "  </tbody>\n",
       "</table>\n",
       "<p>5 rows × 40 columns</p>\n",
       "</div>"
      ],
      "text/plain": [
       "  accounting_date  company_code customer_code  customer_district_code  \\\n",
       "0      2012-05-09           101     411800601                     410   \n",
       "1      2012-02-16           101     361000403                     300   \n",
       "2      2012-05-09           101     361000403                     300   \n",
       "3      2012-05-18           101     565540415                     500   \n",
       "4      2012-01-09           101     565540415                     500   \n",
       "\n",
       "     item_code business_area_code item_group_code item_class_code item_type  \\\n",
       "0  GENIE8WWWBC                LMP           Other           LMP01         5   \n",
       "1  GENIE8WWWBC                LMP           Other           LMP01         5   \n",
       "2  GENIE8WWWBC                LMP           Other           LMP01         5   \n",
       "3  GENIE8WWWBC                LMP           Other           LMP01         5   \n",
       "4  GENIE8WWWBC                LMP           Other           LMP01         5   \n",
       "\n",
       "  bonus_group_code  ... line_number invoice_date customer_order_number  \\\n",
       "0            Trade  ...           1   2012-05-09               2865354   \n",
       "1            Trade  ...           1   2012-02-16               2833515   \n",
       "2            Trade  ...           1   2012-05-09               2864857   \n",
       "3            Trade  ...           1   2012-05-18               2869759   \n",
       "4            Trade  ...           1   2012-01-09               2819189   \n",
       "\n",
       "  order_date dss_update_time day_gap   order_group  \\\n",
       "0 2012-05-09         49:58.7       0  Normal Order   \n",
       "1 2012-02-16         49:58.7       0  Normal Order   \n",
       "2 2012-05-08         49:58.7       1  Normal Order   \n",
       "3 2012-05-18         49:58.7       0         Other   \n",
       "4 2012-01-09         49:58.7       0         Other   \n",
       "\n",
       "  value_sales_log_plus1_transformed value_cost_log_plus1_transformed  \\\n",
       "0                          5.390897                         5.188489   \n",
       "1                          3.670715                         3.275513   \n",
       "2                          3.718438                         3.275513   \n",
       "3                          3.049273                         2.619467   \n",
       "4                          3.002708                         2.619467   \n",
       "\n",
       "  value_quantity_log_plus1_transformed  \n",
       "0                             4.442651  \n",
       "1                             2.564949  \n",
       "2                             2.564949  \n",
       "3                             1.945910  \n",
       "4                             1.945910  \n",
       "\n",
       "[5 rows x 40 columns]"
      ]
     },
     "execution_count": 196,
     "metadata": {},
     "output_type": "execute_result"
    }
   ],
   "source": [
    "print(\"\\nDataFrame with 5% Threshold Grouping:\")\n",
    "data_5_percent.head()"
   ]
  },
  {
   "cell_type": "code",
   "execution_count": 197,
   "metadata": {},
   "outputs": [
    {
     "data": {
      "text/plain": [
       "(1971500, 40)"
      ]
     },
     "execution_count": 197,
     "metadata": {},
     "output_type": "execute_result"
    }
   ],
   "source": [
    "data_5_percent.shape"
   ]
  },
  {
   "cell_type": "markdown",
   "metadata": {},
   "source": [
    "- Effect of One-Hot Encoding on Category Counts: After grouping, we will apply one-hot encoding, which converts each category into a separate binary column. Having different thresholds (1% and 5%) will result in a different number of unique categories across columns. Therefore, if we applied one-hot encoding directly without separating the DataFrames, the resulting encoded DataFrames would have different structures (different numbers of columns), making it challenging to compare results directly.\n",
    "- Purpose of Separate DataFrames:\n",
    "Separate DataFrames ensure that each one has consistent grouping, making it easy to observe the effects of each threshold on the model’s performance independently."
   ]
  },
  {
   "cell_type": "markdown",
   "metadata": {},
   "source": [
    "3. One-Hot Encoding:\n",
    "- After grouping rare categories, one-hot encoding is applied using pd.get_dummies, which converts categorical variables into a series of binary columns.\n",
    "- The drop_first=True parameter is used to avoid multicollinearity by dropping the first category for each original categorical column. This results in one less column per category, reducing redundancy."
   ]
  },
  {
   "cell_type": "markdown",
   "metadata": {},
   "source": [
    "- Using one-hot encoding after grouping rare categories at a 5% threshold streamlines the dataset while preserving key categorical insights. By consolidating categories with less than 5% representation into an \"Other\" group, we reduce the number of unique categories, effectively lowering the dataset's dimensionality. This simplification enhances modeling efficiency and interpretability, as infrequent categories are grouped together"
   ]
  },
  {
   "cell_type": "code",
   "execution_count": 201,
   "metadata": {},
   "outputs": [
    {
     "name": "stdout",
     "output_type": "stream",
     "text": [
      "Shape of data after one-hot encoding with 5% threshold: (1971500, 96)\n"
     ]
    }
   ],
   "source": [
    "# List of columns to one-hot encode\n",
    "columns_to_encode = [\n",
    "    'business_area_code', \n",
    "    'item_group_code', \n",
    "    'item_class_code',\n",
    "    'item_type',\n",
    "    'bonus_group_code', \n",
    "    'environment_group_code', \n",
    "    'technology_group_code', \n",
    "    'commission_group_code', \n",
    "    'reporting_classification', \n",
    "    'light_source', \n",
    "    'warehouse_code', \n",
    "    'abc_class_code',\n",
    "    'abc_class_volume',\n",
    "    'business_chain_l1_code',  \n",
    "    'contact_method_code',  \n",
    "    'order_type_code'\n",
    "]\n",
    "\n",
    "# One-hot encode specified columns in data_5_percent\n",
    "data_5_percent_encoded = pd.get_dummies(data_5_percent, columns=columns_to_encode, drop_first=False)\n",
    "\n",
    "# Display shapes to confirm encoding\n",
    "print(\"Shape of data after one-hot encoding with 5% threshold:\", data_5_percent_encoded.shape)"
   ]
  },
  {
   "cell_type": "code",
   "execution_count": 202,
   "metadata": {},
   "outputs": [
    {
     "data": {
      "text/html": [
       "<div>\n",
       "<style scoped>\n",
       "    .dataframe tbody tr th:only-of-type {\n",
       "        vertical-align: middle;\n",
       "    }\n",
       "\n",
       "    .dataframe tbody tr th {\n",
       "        vertical-align: top;\n",
       "    }\n",
       "\n",
       "    .dataframe thead th {\n",
       "        text-align: right;\n",
       "    }\n",
       "</style>\n",
       "<table border=\"1\" class=\"dataframe\">\n",
       "  <thead>\n",
       "    <tr style=\"text-align: right;\">\n",
       "      <th></th>\n",
       "      <th>accounting_date</th>\n",
       "      <th>company_code</th>\n",
       "      <th>customer_code</th>\n",
       "      <th>customer_district_code</th>\n",
       "      <th>item_code</th>\n",
       "      <th>business_chain_l1_name</th>\n",
       "      <th>salesperson_code</th>\n",
       "      <th>market_segment</th>\n",
       "      <th>value_sales</th>\n",
       "      <th>value_cost</th>\n",
       "      <th>...</th>\n",
       "      <th>business_chain_l1_code_MED</th>\n",
       "      <th>business_chain_l1_code_NES</th>\n",
       "      <th>business_chain_l1_code_Other</th>\n",
       "      <th>business_chain_l1_code_ZZ1</th>\n",
       "      <th>business_chain_l1_code_ZZ2</th>\n",
       "      <th>contact_method_code_NA</th>\n",
       "      <th>contact_method_code_Other</th>\n",
       "      <th>order_type_code_EDI</th>\n",
       "      <th>order_type_code_NOR</th>\n",
       "      <th>order_type_code_Other</th>\n",
       "    </tr>\n",
       "  </thead>\n",
       "  <tbody>\n",
       "    <tr>\n",
       "      <th>0</th>\n",
       "      <td>2012-05-09</td>\n",
       "      <td>101</td>\n",
       "      <td>411800601</td>\n",
       "      <td>410</td>\n",
       "      <td>GENIE8WWWBC</td>\n",
       "      <td>ElectraCorp Ltd</td>\n",
       "      <td>T612</td>\n",
       "      <td>Commercial &amp; Industrial</td>\n",
       "      <td>218.40</td>\n",
       "      <td>178.1976</td>\n",
       "      <td>...</td>\n",
       "      <td>False</td>\n",
       "      <td>False</td>\n",
       "      <td>False</td>\n",
       "      <td>False</td>\n",
       "      <td>False</td>\n",
       "      <td>True</td>\n",
       "      <td>False</td>\n",
       "      <td>False</td>\n",
       "      <td>True</td>\n",
       "      <td>False</td>\n",
       "    </tr>\n",
       "    <tr>\n",
       "      <th>1</th>\n",
       "      <td>2012-02-16</td>\n",
       "      <td>101</td>\n",
       "      <td>361000403</td>\n",
       "      <td>300</td>\n",
       "      <td>GENIE8WWWBC</td>\n",
       "      <td>BrightPower Solutions</td>\n",
       "      <td>P345</td>\n",
       "      <td>Commercial &amp; Industrial</td>\n",
       "      <td>38.28</td>\n",
       "      <td>25.4568</td>\n",
       "      <td>...</td>\n",
       "      <td>False</td>\n",
       "      <td>False</td>\n",
       "      <td>False</td>\n",
       "      <td>False</td>\n",
       "      <td>False</td>\n",
       "      <td>True</td>\n",
       "      <td>False</td>\n",
       "      <td>False</td>\n",
       "      <td>True</td>\n",
       "      <td>False</td>\n",
       "    </tr>\n",
       "    <tr>\n",
       "      <th>2</th>\n",
       "      <td>2012-05-09</td>\n",
       "      <td>101</td>\n",
       "      <td>361000403</td>\n",
       "      <td>300</td>\n",
       "      <td>GENIE8WWWBC</td>\n",
       "      <td>BrightPower Solutions</td>\n",
       "      <td>P345</td>\n",
       "      <td>Commercial &amp; Industrial</td>\n",
       "      <td>40.20</td>\n",
       "      <td>25.4568</td>\n",
       "      <td>...</td>\n",
       "      <td>False</td>\n",
       "      <td>False</td>\n",
       "      <td>False</td>\n",
       "      <td>False</td>\n",
       "      <td>False</td>\n",
       "      <td>True</td>\n",
       "      <td>False</td>\n",
       "      <td>False</td>\n",
       "      <td>True</td>\n",
       "      <td>False</td>\n",
       "    </tr>\n",
       "    <tr>\n",
       "      <th>3</th>\n",
       "      <td>2012-05-18</td>\n",
       "      <td>101</td>\n",
       "      <td>565540415</td>\n",
       "      <td>500</td>\n",
       "      <td>GENIE8WWWBC</td>\n",
       "      <td>Global Electric Wholesalers</td>\n",
       "      <td>T504</td>\n",
       "      <td>Commercial &amp; Industrial</td>\n",
       "      <td>20.10</td>\n",
       "      <td>12.7284</td>\n",
       "      <td>...</td>\n",
       "      <td>False</td>\n",
       "      <td>False</td>\n",
       "      <td>True</td>\n",
       "      <td>False</td>\n",
       "      <td>False</td>\n",
       "      <td>True</td>\n",
       "      <td>False</td>\n",
       "      <td>True</td>\n",
       "      <td>False</td>\n",
       "      <td>False</td>\n",
       "    </tr>\n",
       "    <tr>\n",
       "      <th>4</th>\n",
       "      <td>2012-01-09</td>\n",
       "      <td>101</td>\n",
       "      <td>565540415</td>\n",
       "      <td>500</td>\n",
       "      <td>GENIE8WWWBC</td>\n",
       "      <td>Global Electric Wholesalers</td>\n",
       "      <td>T504</td>\n",
       "      <td>Commercial &amp; Industrial</td>\n",
       "      <td>19.14</td>\n",
       "      <td>12.7284</td>\n",
       "      <td>...</td>\n",
       "      <td>False</td>\n",
       "      <td>False</td>\n",
       "      <td>True</td>\n",
       "      <td>False</td>\n",
       "      <td>False</td>\n",
       "      <td>True</td>\n",
       "      <td>False</td>\n",
       "      <td>True</td>\n",
       "      <td>False</td>\n",
       "      <td>False</td>\n",
       "    </tr>\n",
       "  </tbody>\n",
       "</table>\n",
       "<p>5 rows × 96 columns</p>\n",
       "</div>"
      ],
      "text/plain": [
       "  accounting_date  company_code customer_code  customer_district_code  \\\n",
       "0      2012-05-09           101     411800601                     410   \n",
       "1      2012-02-16           101     361000403                     300   \n",
       "2      2012-05-09           101     361000403                     300   \n",
       "3      2012-05-18           101     565540415                     500   \n",
       "4      2012-01-09           101     565540415                     500   \n",
       "\n",
       "     item_code       business_chain_l1_name salesperson_code  \\\n",
       "0  GENIE8WWWBC              ElectraCorp Ltd             T612   \n",
       "1  GENIE8WWWBC        BrightPower Solutions             P345   \n",
       "2  GENIE8WWWBC        BrightPower Solutions             P345   \n",
       "3  GENIE8WWWBC  Global Electric Wholesalers             T504   \n",
       "4  GENIE8WWWBC  Global Electric Wholesalers             T504   \n",
       "\n",
       "            market_segment  value_sales  value_cost  ...  \\\n",
       "0  Commercial & Industrial       218.40    178.1976  ...   \n",
       "1  Commercial & Industrial        38.28     25.4568  ...   \n",
       "2  Commercial & Industrial        40.20     25.4568  ...   \n",
       "3  Commercial & Industrial        20.10     12.7284  ...   \n",
       "4  Commercial & Industrial        19.14     12.7284  ...   \n",
       "\n",
       "   business_chain_l1_code_MED  business_chain_l1_code_NES  \\\n",
       "0                       False                       False   \n",
       "1                       False                       False   \n",
       "2                       False                       False   \n",
       "3                       False                       False   \n",
       "4                       False                       False   \n",
       "\n",
       "  business_chain_l1_code_Other  business_chain_l1_code_ZZ1  \\\n",
       "0                        False                       False   \n",
       "1                        False                       False   \n",
       "2                        False                       False   \n",
       "3                         True                       False   \n",
       "4                         True                       False   \n",
       "\n",
       "   business_chain_l1_code_ZZ2 contact_method_code_NA  \\\n",
       "0                       False                   True   \n",
       "1                       False                   True   \n",
       "2                       False                   True   \n",
       "3                       False                   True   \n",
       "4                       False                   True   \n",
       "\n",
       "  contact_method_code_Other order_type_code_EDI order_type_code_NOR  \\\n",
       "0                     False               False                True   \n",
       "1                     False               False                True   \n",
       "2                     False               False                True   \n",
       "3                     False                True               False   \n",
       "4                     False                True               False   \n",
       "\n",
       "   order_type_code_Other  \n",
       "0                  False  \n",
       "1                  False  \n",
       "2                  False  \n",
       "3                  False  \n",
       "4                  False  \n",
       "\n",
       "[5 rows x 96 columns]"
      ]
     },
     "execution_count": 202,
     "metadata": {},
     "output_type": "execute_result"
    }
   ],
   "source": [
    "data_5_percent_encoded.head()"
   ]
  },
  {
   "cell_type": "markdown",
   "metadata": {},
   "source": [
    "## 8. Feature Engineering\n",
    "- Creating New Features: Generate new variables based on existing ones to capture additional insights.\n",
    "- Dropping Irrelevant Features: Remove features that do not add value or are highly correlated, to avoid multicollinearity."
   ]
  },
  {
   "cell_type": "code",
   "execution_count": 204,
   "metadata": {},
   "outputs": [],
   "source": [
    "# Calculate Profit\n",
    "data_5_percent_encoded['Profit'] = data_5_percent_encoded['value_sales'] - data_5_percent_encoded['value_cost']\n",
    "\n",
    "# Calculate Unit Price\n",
    "data_5_percent_encoded['Unit_Price'] = data_5_percent_encoded['value_sales'] / data_5_percent_encoded['value_quantity']\n",
    "# Ensure no division by zero errors\n",
    "data_5_percent_encoded['Unit_Price'] = data_5_percent_encoded['Unit_Price'].replace([float('inf'), -float('inf')], 0)\n",
    "\n",
    "# Calculate Profit Margin\n",
    "data_5_percent_encoded['Profit_Margin'] = (data_5_percent_encoded['Profit'] / data_5_percent_encoded['value_sales']) * 100\n",
    "# Replace any NaN or infinite values in Profit_Margin with 0, for cases where value_sales might be zero\n",
    "data_5_percent_encoded['Profit_Margin'] = data_5_percent_encoded['Profit_Margin'].fillna(0).replace([float('inf'), -float('inf')], 0)"
   ]
  },
  {
   "cell_type": "code",
   "execution_count": 205,
   "metadata": {},
   "outputs": [
    {
     "data": {
      "text/html": [
       "<div>\n",
       "<style scoped>\n",
       "    .dataframe tbody tr th:only-of-type {\n",
       "        vertical-align: middle;\n",
       "    }\n",
       "\n",
       "    .dataframe tbody tr th {\n",
       "        vertical-align: top;\n",
       "    }\n",
       "\n",
       "    .dataframe thead th {\n",
       "        text-align: right;\n",
       "    }\n",
       "</style>\n",
       "<table border=\"1\" class=\"dataframe\">\n",
       "  <thead>\n",
       "    <tr style=\"text-align: right;\">\n",
       "      <th></th>\n",
       "      <th>accounting_date</th>\n",
       "      <th>company_code</th>\n",
       "      <th>customer_code</th>\n",
       "      <th>customer_district_code</th>\n",
       "      <th>item_code</th>\n",
       "      <th>business_chain_l1_name</th>\n",
       "      <th>salesperson_code</th>\n",
       "      <th>market_segment</th>\n",
       "      <th>value_sales</th>\n",
       "      <th>value_cost</th>\n",
       "      <th>...</th>\n",
       "      <th>business_chain_l1_code_ZZ1</th>\n",
       "      <th>business_chain_l1_code_ZZ2</th>\n",
       "      <th>contact_method_code_NA</th>\n",
       "      <th>contact_method_code_Other</th>\n",
       "      <th>order_type_code_EDI</th>\n",
       "      <th>order_type_code_NOR</th>\n",
       "      <th>order_type_code_Other</th>\n",
       "      <th>Profit</th>\n",
       "      <th>Unit_Price</th>\n",
       "      <th>Profit_Margin</th>\n",
       "    </tr>\n",
       "  </thead>\n",
       "  <tbody>\n",
       "    <tr>\n",
       "      <th>0</th>\n",
       "      <td>2012-05-09</td>\n",
       "      <td>101</td>\n",
       "      <td>411800601</td>\n",
       "      <td>410</td>\n",
       "      <td>GENIE8WWWBC</td>\n",
       "      <td>ElectraCorp Ltd</td>\n",
       "      <td>T612</td>\n",
       "      <td>Commercial &amp; Industrial</td>\n",
       "      <td>218.40</td>\n",
       "      <td>178.1976</td>\n",
       "      <td>...</td>\n",
       "      <td>False</td>\n",
       "      <td>False</td>\n",
       "      <td>True</td>\n",
       "      <td>False</td>\n",
       "      <td>False</td>\n",
       "      <td>True</td>\n",
       "      <td>False</td>\n",
       "      <td>40.2024</td>\n",
       "      <td>2.60</td>\n",
       "      <td>18.407692</td>\n",
       "    </tr>\n",
       "    <tr>\n",
       "      <th>1</th>\n",
       "      <td>2012-02-16</td>\n",
       "      <td>101</td>\n",
       "      <td>361000403</td>\n",
       "      <td>300</td>\n",
       "      <td>GENIE8WWWBC</td>\n",
       "      <td>BrightPower Solutions</td>\n",
       "      <td>P345</td>\n",
       "      <td>Commercial &amp; Industrial</td>\n",
       "      <td>38.28</td>\n",
       "      <td>25.4568</td>\n",
       "      <td>...</td>\n",
       "      <td>False</td>\n",
       "      <td>False</td>\n",
       "      <td>True</td>\n",
       "      <td>False</td>\n",
       "      <td>False</td>\n",
       "      <td>True</td>\n",
       "      <td>False</td>\n",
       "      <td>12.8232</td>\n",
       "      <td>3.19</td>\n",
       "      <td>33.498433</td>\n",
       "    </tr>\n",
       "    <tr>\n",
       "      <th>2</th>\n",
       "      <td>2012-05-09</td>\n",
       "      <td>101</td>\n",
       "      <td>361000403</td>\n",
       "      <td>300</td>\n",
       "      <td>GENIE8WWWBC</td>\n",
       "      <td>BrightPower Solutions</td>\n",
       "      <td>P345</td>\n",
       "      <td>Commercial &amp; Industrial</td>\n",
       "      <td>40.20</td>\n",
       "      <td>25.4568</td>\n",
       "      <td>...</td>\n",
       "      <td>False</td>\n",
       "      <td>False</td>\n",
       "      <td>True</td>\n",
       "      <td>False</td>\n",
       "      <td>False</td>\n",
       "      <td>True</td>\n",
       "      <td>False</td>\n",
       "      <td>14.7432</td>\n",
       "      <td>3.35</td>\n",
       "      <td>36.674627</td>\n",
       "    </tr>\n",
       "    <tr>\n",
       "      <th>3</th>\n",
       "      <td>2012-05-18</td>\n",
       "      <td>101</td>\n",
       "      <td>565540415</td>\n",
       "      <td>500</td>\n",
       "      <td>GENIE8WWWBC</td>\n",
       "      <td>Global Electric Wholesalers</td>\n",
       "      <td>T504</td>\n",
       "      <td>Commercial &amp; Industrial</td>\n",
       "      <td>20.10</td>\n",
       "      <td>12.7284</td>\n",
       "      <td>...</td>\n",
       "      <td>False</td>\n",
       "      <td>False</td>\n",
       "      <td>True</td>\n",
       "      <td>False</td>\n",
       "      <td>True</td>\n",
       "      <td>False</td>\n",
       "      <td>False</td>\n",
       "      <td>7.3716</td>\n",
       "      <td>3.35</td>\n",
       "      <td>36.674627</td>\n",
       "    </tr>\n",
       "    <tr>\n",
       "      <th>4</th>\n",
       "      <td>2012-01-09</td>\n",
       "      <td>101</td>\n",
       "      <td>565540415</td>\n",
       "      <td>500</td>\n",
       "      <td>GENIE8WWWBC</td>\n",
       "      <td>Global Electric Wholesalers</td>\n",
       "      <td>T504</td>\n",
       "      <td>Commercial &amp; Industrial</td>\n",
       "      <td>19.14</td>\n",
       "      <td>12.7284</td>\n",
       "      <td>...</td>\n",
       "      <td>False</td>\n",
       "      <td>False</td>\n",
       "      <td>True</td>\n",
       "      <td>False</td>\n",
       "      <td>True</td>\n",
       "      <td>False</td>\n",
       "      <td>False</td>\n",
       "      <td>6.4116</td>\n",
       "      <td>3.19</td>\n",
       "      <td>33.498433</td>\n",
       "    </tr>\n",
       "  </tbody>\n",
       "</table>\n",
       "<p>5 rows × 99 columns</p>\n",
       "</div>"
      ],
      "text/plain": [
       "  accounting_date  company_code customer_code  customer_district_code  \\\n",
       "0      2012-05-09           101     411800601                     410   \n",
       "1      2012-02-16           101     361000403                     300   \n",
       "2      2012-05-09           101     361000403                     300   \n",
       "3      2012-05-18           101     565540415                     500   \n",
       "4      2012-01-09           101     565540415                     500   \n",
       "\n",
       "     item_code       business_chain_l1_name salesperson_code  \\\n",
       "0  GENIE8WWWBC              ElectraCorp Ltd             T612   \n",
       "1  GENIE8WWWBC        BrightPower Solutions             P345   \n",
       "2  GENIE8WWWBC        BrightPower Solutions             P345   \n",
       "3  GENIE8WWWBC  Global Electric Wholesalers             T504   \n",
       "4  GENIE8WWWBC  Global Electric Wholesalers             T504   \n",
       "\n",
       "            market_segment  value_sales  value_cost  ...  \\\n",
       "0  Commercial & Industrial       218.40    178.1976  ...   \n",
       "1  Commercial & Industrial        38.28     25.4568  ...   \n",
       "2  Commercial & Industrial        40.20     25.4568  ...   \n",
       "3  Commercial & Industrial        20.10     12.7284  ...   \n",
       "4  Commercial & Industrial        19.14     12.7284  ...   \n",
       "\n",
       "   business_chain_l1_code_ZZ1  business_chain_l1_code_ZZ2  \\\n",
       "0                       False                       False   \n",
       "1                       False                       False   \n",
       "2                       False                       False   \n",
       "3                       False                       False   \n",
       "4                       False                       False   \n",
       "\n",
       "  contact_method_code_NA  contact_method_code_Other  order_type_code_EDI  \\\n",
       "0                   True                      False                False   \n",
       "1                   True                      False                False   \n",
       "2                   True                      False                False   \n",
       "3                   True                      False                 True   \n",
       "4                   True                      False                 True   \n",
       "\n",
       "  order_type_code_NOR order_type_code_Other   Profit Unit_Price  Profit_Margin  \n",
       "0                True                 False  40.2024       2.60      18.407692  \n",
       "1                True                 False  12.8232       3.19      33.498433  \n",
       "2                True                 False  14.7432       3.35      36.674627  \n",
       "3               False                 False   7.3716       3.35      36.674627  \n",
       "4               False                 False   6.4116       3.19      33.498433  \n",
       "\n",
       "[5 rows x 99 columns]"
      ]
     },
     "execution_count": 205,
     "metadata": {},
     "output_type": "execute_result"
    }
   ],
   "source": [
    "data_5_percent_encoded.head()"
   ]
  },
  {
   "cell_type": "code",
   "execution_count": 206,
   "metadata": {},
   "outputs": [
    {
     "data": {
      "text/html": [
       "<div>\n",
       "<style scoped>\n",
       "    .dataframe tbody tr th:only-of-type {\n",
       "        vertical-align: middle;\n",
       "    }\n",
       "\n",
       "    .dataframe tbody tr th {\n",
       "        vertical-align: top;\n",
       "    }\n",
       "\n",
       "    .dataframe thead th {\n",
       "        text-align: right;\n",
       "    }\n",
       "</style>\n",
       "<table border=\"1\" class=\"dataframe\">\n",
       "  <thead>\n",
       "    <tr style=\"text-align: right;\">\n",
       "      <th></th>\n",
       "      <th>Profit</th>\n",
       "      <th>Unit_Price</th>\n",
       "      <th>Profit_Margin</th>\n",
       "    </tr>\n",
       "  </thead>\n",
       "  <tbody>\n",
       "    <tr>\n",
       "      <th>min</th>\n",
       "      <td>-255917.56</td>\n",
       "      <td>0.00</td>\n",
       "      <td>-1764706.00</td>\n",
       "    </tr>\n",
       "    <tr>\n",
       "      <th>max</th>\n",
       "      <td>246407.77</td>\n",
       "      <td>239216.00</td>\n",
       "      <td>100.00</td>\n",
       "    </tr>\n",
       "    <tr>\n",
       "      <th>mean</th>\n",
       "      <td>146.24</td>\n",
       "      <td>43.63</td>\n",
       "      <td>43.65</td>\n",
       "    </tr>\n",
       "  </tbody>\n",
       "</table>\n",
       "</div>"
      ],
      "text/plain": [
       "         Profit  Unit_Price  Profit_Margin\n",
       "min  -255917.56        0.00    -1764706.00\n",
       "max   246407.77   239216.00         100.00\n",
       "mean     146.24       43.63          43.65"
      ]
     },
     "execution_count": 206,
     "metadata": {},
     "output_type": "execute_result"
    }
   ],
   "source": [
    "# Calculate min, max, and average for Profit, Unit Price, and Profit Margin with two decimal places\n",
    "summary_stats = data_5_percent_encoded[['Profit', 'Unit_Price', 'Profit_Margin']].agg(['min', 'max', 'mean']).round(2)\n",
    "\n",
    "# Display the results\n",
    "summary_stats"
   ]
  },
  {
   "cell_type": "code",
   "execution_count": 207,
   "metadata": {},
   "outputs": [],
   "source": [
    "# Convert negative Profit_Margin values to 0\n",
    "data_5_percent_encoded['Profit_Margin'] = data_5_percent_encoded['Profit_Margin'].apply(lambda x: max(x, 0))"
   ]
  },
  {
   "cell_type": "markdown",
   "metadata": {},
   "source": [
    "In our dataset, the Profit_Margin column includes a mix of positive and negative values. Positive values indicate profitable transactions, while negative values indicate transactions with a loss. However, for the purpose of this analysis, our focus is primarily on distinguishing between profitable and non-profitable transactions, rather than quantifying the degree of loss.\n",
    "\n",
    "To simplify this distinction, we decided to transform all negative values in the Profit_Margin column to 0. This approach allows us to treat Profit_Margin as an indicator of profitability, where:\n",
    "\n",
    "0 represents a non-profitable transaction.\n",
    "Positive values represent profitable transactions, with higher values indicating greater profitability."
   ]
  },
  {
   "cell_type": "code",
   "execution_count": 209,
   "metadata": {},
   "outputs": [
    {
     "data": {
      "text/html": [
       "<div>\n",
       "<style scoped>\n",
       "    .dataframe tbody tr th:only-of-type {\n",
       "        vertical-align: middle;\n",
       "    }\n",
       "\n",
       "    .dataframe tbody tr th {\n",
       "        vertical-align: top;\n",
       "    }\n",
       "\n",
       "    .dataframe thead th {\n",
       "        text-align: right;\n",
       "    }\n",
       "</style>\n",
       "<table border=\"1\" class=\"dataframe\">\n",
       "  <thead>\n",
       "    <tr style=\"text-align: right;\">\n",
       "      <th></th>\n",
       "      <th>Profit</th>\n",
       "      <th>Unit_Price</th>\n",
       "      <th>Profit_Margin</th>\n",
       "    </tr>\n",
       "  </thead>\n",
       "  <tbody>\n",
       "    <tr>\n",
       "      <th>min</th>\n",
       "      <td>-255917.56</td>\n",
       "      <td>0.00</td>\n",
       "      <td>0.00</td>\n",
       "    </tr>\n",
       "    <tr>\n",
       "      <th>max</th>\n",
       "      <td>246407.77</td>\n",
       "      <td>239216.00</td>\n",
       "      <td>100.00</td>\n",
       "    </tr>\n",
       "    <tr>\n",
       "      <th>mean</th>\n",
       "      <td>146.24</td>\n",
       "      <td>43.63</td>\n",
       "      <td>50.89</td>\n",
       "    </tr>\n",
       "  </tbody>\n",
       "</table>\n",
       "</div>"
      ],
      "text/plain": [
       "         Profit  Unit_Price  Profit_Margin\n",
       "min  -255917.56        0.00           0.00\n",
       "max   246407.77   239216.00         100.00\n",
       "mean     146.24       43.63          50.89"
      ]
     },
     "execution_count": 209,
     "metadata": {},
     "output_type": "execute_result"
    }
   ],
   "source": [
    "# Calculate min, max, and average for Profit, Unit Price, and Profit Margin with two decimal places\n",
    "summary_stats = data_5_percent_encoded[['Profit', 'Unit_Price', 'Profit_Margin']].agg(['min', 'max', 'mean']).round(2)\n",
    "\n",
    "# Display the results\n",
    "summary_stats"
   ]
  },
  {
   "cell_type": "markdown",
   "metadata": {},
   "source": [
    "- Histogram and skewness before data transfromed"
   ]
  },
  {
   "cell_type": "code",
   "execution_count": 211,
   "metadata": {},
   "outputs": [
    {
     "data": {
      "image/png": "[encoded data removed]",
      "text/plain": [
       "<Figure size 600x400 with 1 Axes>"
      ]
     },
     "metadata": {},
     "output_type": "display_data"
    },
    {
     "data": {
      "image/png": "[encoded data removed]",
      "text/plain": [
       "<Figure size 600x400 with 1 Axes>"
      ]
     },
     "metadata": {},
     "output_type": "display_data"
    },
    {
     "data": {
      "image/png": "[encoded data removed]",
      "text/plain": [
       "<Figure size 600x400 with 1 Axes>"
      ]
     },
     "metadata": {},
     "output_type": "display_data"
    }
   ],
   "source": [
    "# Histogram and skewness for Profit\n",
    "plt.figure(figsize=(6, 4))\n",
    "plt.hist(data_5_percent_encoded['Profit'], bins=50, alpha=0.7)\n",
    "plt.title('Histogram of Profit')\n",
    "plt.xlabel('Profit')\n",
    "plt.ylabel('Frequency')\n",
    "profit_skewness = skew(data_5_percent_encoded['Profit'].dropna())\n",
    "plt.text(0.95, 0.95, f'Skewness: {profit_skewness:.2f}', \n",
    "         verticalalignment='top', horizontalalignment='right', \n",
    "         transform=plt.gca().transAxes, color='red', fontsize=12)\n",
    "plt.show()\n",
    "\n",
    "# Histogram and skewness for Unit Price\n",
    "plt.figure(figsize=(6, 4))\n",
    "plt.hist(data_5_percent_encoded['Unit_Price'], bins=50, alpha=0.7)\n",
    "plt.title('Histogram of Unit Price')\n",
    "plt.xlabel('Unit Price')\n",
    "plt.ylabel('Frequency')\n",
    "unit_price_skewness = skew(data_5_percent_encoded['Unit_Price'].dropna())\n",
    "plt.text(0.95, 0.95, f'Skewness: {unit_price_skewness:.2f}', \n",
    "         verticalalignment='top', horizontalalignment='right', \n",
    "         transform=plt.gca().transAxes, color='red', fontsize=12)\n",
    "plt.show()\n",
    "\n",
    "# Histogram and skewness for Profit Margin\n",
    "plt.figure(figsize=(6, 4))\n",
    "plt.hist(data_5_percent_encoded['Profit_Margin'], bins=50, alpha=0.7)\n",
    "plt.title('Histogram of Profit Margin')\n",
    "plt.xlabel('Profit Margin')\n",
    "plt.ylabel('Frequency')\n",
    "profit_margin_skewness = skew(data_5_percent_encoded['Profit_Margin'].dropna())\n",
    "plt.text(0.95, 0.95, f'Skewness: {profit_margin_skewness:.2f}', \n",
    "         verticalalignment='top', horizontalalignment='right', \n",
    "         transform=plt.gca().transAxes, color='red', fontsize=12)\n",
    "plt.show()"
   ]
  },
  {
   "cell_type": "markdown",
   "metadata": {},
   "source": [
    "- Using specific transformations to the Profit and Unit_Price columns to reduce skewness and make the data closer to a normal distribution, which can be beneficial for various types of analyses, such as regression modeling or statistical testing."
   ]
  },
  {
   "cell_type": "code",
   "execution_count": 213,
   "metadata": {},
   "outputs": [
    {
     "name": "stdout",
     "output_type": "stream",
     "text": [
      "Skewness after Sqrt Transformation (Transformed_Profit): 3.695971542989159\n",
      "Skewness after Log Transformation (Transformed_Unit_Price): 0.4277181647981261\n"
     ]
    }
   ],
   "source": [
    "# Apply square root transformation for Profit (on absolute values to handle negatives)\n",
    "data_5_percent_encoded['Transformed_Profit'] = np.sqrt(data_5_percent_encoded['Profit'].abs()) * np.sign(data_5_percent_encoded['Profit'])\n",
    "print(\"Skewness after Sqrt Transformation (Transformed_Profit):\", skew(data_5_percent_encoded['Transformed_Profit'].dropna()))\n",
    "\n",
    "# Apply log transformation for Unit Price, adding 1 to handle zeros\n",
    "data_5_percent_encoded['Transformed_Unit_Price'] = np.log1p(data_5_percent_encoded['Unit_Price'])\n",
    "print(\"Skewness after Log Transformation (Transformed_Unit_Price):\", skew(data_5_percent_encoded['Transformed_Unit_Price'].dropna()))"
   ]
  },
  {
   "cell_type": "markdown",
   "metadata": {},
   "source": [
    "- Histogram and skewness after data transfromed"
   ]
  },
  {
   "cell_type": "code",
   "execution_count": 215,
   "metadata": {},
   "outputs": [
    {
     "data": {
      "image/png": "[encoded data removed]",
      "text/plain": [
       "<Figure size 600x400 with 1 Axes>"
      ]
     },
     "metadata": {},
     "output_type": "display_data"
    },
    {
     "data": {
      "image/png": "[encoded data removed]",
      "text/plain": [
       "<Figure size 600x400 with 1 Axes>"
      ]
     },
     "metadata": {},
     "output_type": "display_data"
    },
    {
     "data": {
      "image/png": "[encoded data removed]",
      "text/plain": [
       "<Figure size 600x400 with 1 Axes>"
      ]
     },
     "metadata": {},
     "output_type": "display_data"
    }
   ],
   "source": [
    "# Histogram and skewness for Profit\n",
    "plt.figure(figsize=(6, 4))\n",
    "plt.hist(data_5_percent_encoded['Transformed_Profit'], bins=50, alpha=0.7)\n",
    "plt.title('Histogram of Transformed_Profit')\n",
    "plt.xlabel('Transformed_Profit')\n",
    "plt.ylabel('Frequency')\n",
    "profit_skewness = skew(data_5_percent_encoded['Transformed_Profit'].dropna())\n",
    "plt.text(0.95, 0.95, f'Skewness: {profit_skewness:.2f}', \n",
    "         verticalalignment='top', horizontalalignment='right', \n",
    "         transform=plt.gca().transAxes, color='red', fontsize=12)\n",
    "plt.show()\n",
    "\n",
    "# Histogram and skewness for Unit Price\n",
    "plt.figure(figsize=(6, 4))\n",
    "plt.hist(data_5_percent_encoded['Transformed_Unit_Price'], bins=50, alpha=0.7)\n",
    "plt.title('Histogram of Transformed_Unit_Price')\n",
    "plt.xlabel('Transformed_Unit_Price')\n",
    "plt.ylabel('Frequency')\n",
    "unit_price_skewness = skew(data_5_percent_encoded['Transformed_Unit_Price'].dropna())\n",
    "plt.text(0.95, 0.95, f'Skewness: {unit_price_skewness:.2f}', \n",
    "         verticalalignment='top', horizontalalignment='right', \n",
    "         transform=plt.gca().transAxes, color='red', fontsize=12)\n",
    "plt.show()\n",
    "\n",
    "# Histogram and skewness for Profit Margin\n",
    "plt.figure(figsize=(6, 4))\n",
    "plt.hist(data_5_percent_encoded['Profit_Margin'], bins=50, alpha=0.7)\n",
    "plt.title('Histogram of Profit Margin')\n",
    "plt.xlabel('Profit Margin')\n",
    "plt.ylabel('Frequency')\n",
    "profit_margin_skewness = skew(data_5_percent_encoded['Profit_Margin'].dropna())\n",
    "plt.text(0.95, 0.95, f'Skewness: {profit_margin_skewness:.2f}', \n",
    "         verticalalignment='top', horizontalalignment='right', \n",
    "         transform=plt.gca().transAxes, color='red', fontsize=12)\n",
    "plt.show()"
   ]
  },
  {
   "cell_type": "code",
   "execution_count": 219,
   "metadata": {},
   "outputs": [],
   "source": [
    "from pathlib import Path\n",
    "# Define the directory path\n",
    "directory_path = Path(\"data/proceed\")\n",
    "\n",
    "# Create the directory if it does not exist\n",
    "directory_path.mkdir(parents=True, exist_ok=True)\n",
    "\n",
    "# Now save the files to the directory\n",
    "data_5_percent_encoded.to_csv(directory_path / \"Clean_data.csv\", index=False)\n",
    "data_5_percent.to_csv(directory_path / \"non_encode_data.csv\", index=False)"
   ]
  },
  {
   "cell_type": "markdown",
   "metadata": {},
   "source": [
    "## 9. Text Cleaning (for Textual Data)\n",
    "- For textual data, cleaning involves removing punctuation, converting to lowercase, removing stopwords, and stemming or lemmatizing words to bring them to their root form."
   ]
  },
  {
   "cell_type": "code",
   "execution_count": null,
   "metadata": {},
   "outputs": [],
   "source": []
  },
  {
   "cell_type": "markdown",
   "metadata": {},
   "source": []
  }
 ],
 "metadata": {
  "kernelspec": {
   "display_name": "Python 3 (ipykernel)",
   "language": "python",
   "name": "python3"
  },
  "language_info": {
   "codemirror_mode": {
    "name": "ipython",
    "version": 3
   },
   "file_extension": ".py",
   "mimetype": "text/x-python",
   "name": "python",
   "nbconvert_exporter": "python",
   "pygments_lexer": "ipython3",
   "version": "3.12.4"
  }
 },
 "nbformat": 4,
 "nbformat_minor": 4
}
